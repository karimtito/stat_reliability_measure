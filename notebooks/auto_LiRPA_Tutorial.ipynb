{
  "cells": [
    {
      "cell_type": "markdown",
      "metadata": {
        "id": "Uu6MUQmRUR_i"
      },
      "source": [
        "# `auto_LiRPA` Quick start tutorial http://PaperCode.cc/AutoLiRPA-Demo\n",
        "\n",
        "auto_LiRPA is a library for automatically deriving and computing bounds with linear relaxation based perturbation analysis (LiRPA) (e.g. CROWN and DeepPoly) for neural networks. LiRPA algorithms can provide guaranteed upper and lower bounds for a neural network function with perturbed inputs. These bounds are represented as linear functions with respect to the variable under perturbation. LiRPA has become an important tool in robustness verification and certified adversarial defense, and can become an useful tool for many other tasks as well.\n",
        "\n",
        "Our algorithm generalizes existing LiRPA algorithms for feed-forward neural networks to a graph algorithm on general computational graphs. We can compute LiRPA bounds on a computational graph defined by PyTorch, without any manual derivation. Our implementation is also automatically differentiable, allowing optimizing network parameters to shape the bounds into certain specifications (e.g., certified defense)."
      ]
    },
    {
      "cell_type": "markdown",
      "metadata": {
        "id": "oQJWL04XK0Fx"
      },
      "source": [
        "Common Pytorch imports"
      ]
    },
    {
      "cell_type": "code",
      "execution_count": 1,
      "metadata": {
        "id": "n-f-iqIZJ0Ph"
      },
      "outputs": [],
      "source": [
        "import torch\n",
        "import torch.nn as nn\n",
        "import torch.nn.functional as F\n",
        "import torchvision.datasets as datasets\n",
        "import torchvision.transforms as transforms"
      ]
    },
    {
      "cell_type": "markdown",
      "metadata": {
        "id": "RGFQGxgwK9zw"
      },
      "source": [
        "Imports for using auto_LiRPA"
      ]
    },
    {
      "cell_type": "code",
      "execution_count": 2,
      "metadata": {
        "id": "YOFxF3WcKyfA"
      },
      "outputs": [],
      "source": [
        "from auto_LiRPA import BoundedModule, BoundedTensor\n",
        "from auto_LiRPA.perturbations import *"
      ]
    },
    {
      "cell_type": "markdown",
      "metadata": {
        "id": "Vg9bR06eHf4Y"
      },
      "source": [
        "## Define the Computation (Neural Network)\n",
        "To begin with, we define a **18-layer ResNet** using Pytorch. The network is defined as a standard nn.module object in Pytorch, and consists of **convolutional**, **pooling** and **batch normalization** layers. We will use our auto_LiRPA library to compute bounds for this network automatically, without manual derivations of the bounds."
      ]
    },
    {
      "cell_type": "code",
      "execution_count": 3,
      "metadata": {
        "id": "VtKhZTQwVPpx"
      },
      "outputs": [
        {
          "name": "stderr",
          "output_type": "stream",
          "text": [
            "/home/karim-tito/miniconda3/envs/deep_learning_env/lib/python3.7/site-packages/ipykernel/ipkernel.py:287: DeprecationWarning: `should_run_async` will not call `transform_cell` automatically in the future. Please pass the result to `transformed_cell` argument and any exception that happen during thetransform in `preprocessing_exc_tuple` in IPython 7.17 and above.\n",
            "  and should_run_async(code)\n"
          ]
        }
      ],
      "source": [
        "'''ResNet in PyTorch.\n",
        "For Pre-activation ResNet, see 'preact_resnet.py'.\n",
        "Reference:\n",
        "[1] Kaiming He, Xiangyu Zhang, Shaoqing Ren, Jian Sun\n",
        "    Deep Residual Learning for Image Recognition. arXiv:1512.03385\n",
        "'''\n",
        "\n",
        "class BasicBlock(nn.Module):\n",
        "    expansion = 1\n",
        "\n",
        "    def __init__(self, in_planes, planes, stride=1):\n",
        "        super(BasicBlock, self).__init__()\n",
        "        self.conv1 = nn.Conv2d(\n",
        "            in_planes, planes, kernel_size=3, stride=stride, padding=1, bias=False)\n",
        "        self.bn1 = nn.BatchNorm2d(planes)\n",
        "        self.conv2 = nn.Conv2d(planes, planes, kernel_size=3,\n",
        "                               stride=1, padding=1, bias=False)\n",
        "        self.bn2 = nn.BatchNorm2d(planes)\n",
        "\n",
        "        self.shortcut = nn.Sequential()\n",
        "        if stride != 1 or in_planes != self.expansion*planes:\n",
        "            self.shortcut = nn.Sequential(\n",
        "                nn.Conv2d(in_planes, self.expansion*planes,\n",
        "                          kernel_size=1, stride=stride, bias=False),\n",
        "                nn.BatchNorm2d(self.expansion*planes)\n",
        "            )\n",
        "\n",
        "    def forward(self, x):\n",
        "        out = F.relu(self.bn1(self.conv1(x)))\n",
        "        out = self.bn2(self.conv2(out))\n",
        "        out += self.shortcut(x)\n",
        "        out = F.relu(out)\n",
        "        return out\n",
        "\n",
        "\n",
        "class Bottleneck(nn.Module):\n",
        "    expansion = 4\n",
        "\n",
        "    def __init__(self, in_planes, planes, stride=1):\n",
        "        super(Bottleneck, self).__init__()\n",
        "        self.conv1 = nn.Conv2d(in_planes, planes, kernel_size=1, bias=False)\n",
        "        self.bn1 = nn.BatchNorm2d(planes)\n",
        "        self.conv2 = nn.Conv2d(planes, planes, kernel_size=3,\n",
        "                               stride=stride, padding=1, bias=False)\n",
        "        self.bn2 = nn.BatchNorm2d(planes)\n",
        "        self.conv3 = nn.Conv2d(planes, self.expansion *\n",
        "                               planes, kernel_size=1, bias=False)\n",
        "        self.bn3 = nn.BatchNorm2d(self.expansion*planes)\n",
        "\n",
        "        self.shortcut = nn.Sequential()\n",
        "        if stride != 1 or in_planes != self.expansion*planes:\n",
        "            self.shortcut = nn.Sequential(\n",
        "                nn.Conv2d(in_planes, self.expansion*planes,\n",
        "                          kernel_size=1, stride=stride, bias=False),\n",
        "                nn.BatchNorm2d(self.expansion*planes)\n",
        "            )\n",
        "\n",
        "    def forward(self, x):\n",
        "        out = F.relu(self.bn1(self.conv1(x)))\n",
        "        out = F.relu(self.bn2(self.conv2(out)))\n",
        "        out = self.bn3(self.conv3(out))\n",
        "        out += self.shortcut(x)\n",
        "        out = F.relu(out)\n",
        "        return out\n",
        "\n",
        "\n",
        "class ResNet(nn.Module):\n",
        "    def __init__(self, block, num_blocks, num_classes=10, in_planes=64):\n",
        "        super(ResNet, self).__init__()\n",
        "        self.in_planes = in_planes\n",
        "\n",
        "        self.conv1 = nn.Conv2d(3, in_planes, kernel_size=3,\n",
        "                               stride=1, padding=1, bias=False)\n",
        "        self.bn1 = nn.BatchNorm2d(in_planes)\n",
        "        self.layer1 = self._make_layer(block, in_planes, num_blocks[0], stride=1)\n",
        "        self.layer2 = self._make_layer(block, in_planes * 2, num_blocks[1], stride=2)\n",
        "        self.layer3 = self._make_layer(block, in_planes * 4, num_blocks[2], stride=2)\n",
        "        self.layer4 = self._make_layer(block, in_planes * 8, num_blocks[3], stride=2)\n",
        "        self.linear = nn.Linear(in_planes * 8 * block.expansion, num_classes)\n",
        "\n",
        "    def _make_layer(self, block, planes, num_blocks, stride):\n",
        "        strides = [stride] + [1]*(num_blocks-1)\n",
        "        layers = []\n",
        "        for stride in strides:\n",
        "            layers.append(block(self.in_planes, planes, stride))\n",
        "            self.in_planes = planes * block.expansion\n",
        "        return nn.Sequential(*layers)\n",
        "\n",
        "    def forward(self, x):\n",
        "        out = F.relu(self.bn1(self.conv1(x)))\n",
        "        out = self.layer1(out)\n",
        "        out = self.layer2(out)\n",
        "        out = self.layer3(out)\n",
        "        out = self.layer4(out)\n",
        "        out = F.avg_pool2d(out, 4)\n",
        "        out = out.view(out.size(0), -1)\n",
        "        out = self.linear(out)\n",
        "        return out\n",
        "\n",
        "\n",
        "def ResNet18(in_planes=2):\n",
        "    return ResNet(BasicBlock, [2, 2, 2, 2], in_planes=in_planes)"
      ]
    },
    {
      "cell_type": "markdown",
      "metadata": {
        "id": "9zPT4REmOzqL"
      },
      "source": [
        "Now we create the model, and load some pretrained parameters for demonstration. Note that this pretrained model was naturally trained so only verifiable under small perturbations."
      ]
    },
    {
      "cell_type": "code",
      "execution_count": 4,
      "metadata": {
        "colab": {
          "base_uri": "https://localhost:8080/"
        },
        "id": "-3IrpkFtjOwg",
        "outputId": "c76e691c-d9f2-4a10-e8ae-406949561b2b"
      },
      "outputs": [
        {
          "name": "stdout",
          "output_type": "stream",
          "text": [
            "--2021-12-06 09:57:05--  http://download.huan-zhang.com/models/auto_lirpa/resnet18_natural.pth\n",
            "Resolving download.huan-zhang.com (download.huan-zhang.com)... 104.21.96.11, 172.67.171.242, 2606:4700:3030::6815:600b, ...\n",
            "Connecting to download.huan-zhang.com (download.huan-zhang.com)|104.21.96.11|:80... connected.\n",
            "HTTP request sent, awaiting response... 200 OK\n",
            "Length: 208801 (204K)\n",
            "Saving to: ‘resnet18_demo.pth’\n",
            "\n",
            "resnet18_demo.pth   100%[===================>] 203,91K  26,0KB/s    in 7,5s    \n",
            "\n",
            "2021-12-06 09:57:13 (27,1 KB/s) - ‘resnet18_demo.pth’ saved [208801/208801]\n",
            "\n"
          ]
        }
      ],
      "source": [
        "model = ResNet18()\n",
        "# Download the model\n",
        "!wget -O resnet18_demo.pth http://download.huan-zhang.com/models/auto_lirpa/resnet18_natural.pth\n",
        "# Load pretrained weights. This pretrained model is for illustration only; it\n",
        "# does not represent state-of-the-art classification performance.\n",
        "checkpoint = torch.load(\"resnet18_demo.pth\")\n",
        "model.load_state_dict(checkpoint['state_dict'])\n",
        "model.eval()\n",
        "model = model.cuda() "
      ]
    },
    {
      "cell_type": "code",
      "execution_count": 152,
      "metadata": {
        "colab": {
          "base_uri": "https://localhost:8080/"
        },
        "id": "iLvVXQLIEsLe",
        "outputId": "10075b6f-f564-409d-c282-c895568e4878"
      },
      "outputs": [
        {
          "name": "stdout",
          "output_type": "stream",
          "text": [
            "ResNet(\n",
            "  (conv1): Conv2d(3, 2, kernel_size=(3, 3), stride=(1, 1), padding=(1, 1), bias=False)\n",
            "  (bn1): BatchNorm2d(2, eps=1e-05, momentum=0.1, affine=True, track_running_stats=True)\n",
            "  (layer1): Sequential(\n",
            "    (0): BasicBlock(\n",
            "      (conv1): Conv2d(2, 2, kernel_size=(3, 3), stride=(1, 1), padding=(1, 1), bias=False)\n",
            "      (bn1): BatchNorm2d(2, eps=1e-05, momentum=0.1, affine=True, track_running_stats=True)\n",
            "      (conv2): Conv2d(2, 2, kernel_size=(3, 3), stride=(1, 1), padding=(1, 1), bias=False)\n",
            "      (bn2): BatchNorm2d(2, eps=1e-05, momentum=0.1, affine=True, track_running_stats=True)\n",
            "      (shortcut): Sequential()\n",
            "    )\n",
            "    (1): BasicBlock(\n",
            "      (conv1): Conv2d(2, 2, kernel_size=(3, 3), stride=(1, 1), padding=(1, 1), bias=False)\n",
            "      (bn1): BatchNorm2d(2, eps=1e-05, momentum=0.1, affine=True, track_running_stats=True)\n",
            "      (conv2): Conv2d(2, 2, kernel_size=(3, 3), stride=(1, 1), padding=(1, 1), bias=False)\n",
            "      (bn2): BatchNorm2d(2, eps=1e-05, momentum=0.1, affine=True, track_running_stats=True)\n",
            "      (shortcut): Sequential()\n",
            "    )\n",
            "  )\n",
            "  (layer2): Sequential(\n",
            "    (0): BasicBlock(\n",
            "      (conv1): Conv2d(2, 4, kernel_size=(3, 3), stride=(2, 2), padding=(1, 1), bias=False)\n",
            "      (bn1): BatchNorm2d(4, eps=1e-05, momentum=0.1, affine=True, track_running_stats=True)\n",
            "      (conv2): Conv2d(4, 4, kernel_size=(3, 3), stride=(1, 1), padding=(1, 1), bias=False)\n",
            "      (bn2): BatchNorm2d(4, eps=1e-05, momentum=0.1, affine=True, track_running_stats=True)\n",
            "      (shortcut): Sequential(\n",
            "        (0): Conv2d(2, 4, kernel_size=(1, 1), stride=(2, 2), bias=False)\n",
            "        (1): BatchNorm2d(4, eps=1e-05, momentum=0.1, affine=True, track_running_stats=True)\n",
            "      )\n",
            "    )\n",
            "    (1): BasicBlock(\n",
            "      (conv1): Conv2d(4, 4, kernel_size=(3, 3), stride=(1, 1), padding=(1, 1), bias=False)\n",
            "      (bn1): BatchNorm2d(4, eps=1e-05, momentum=0.1, affine=True, track_running_stats=True)\n",
            "      (conv2): Conv2d(4, 4, kernel_size=(3, 3), stride=(1, 1), padding=(1, 1), bias=False)\n",
            "      (bn2): BatchNorm2d(4, eps=1e-05, momentum=0.1, affine=True, track_running_stats=True)\n",
            "      (shortcut): Sequential()\n",
            "    )\n",
            "  )\n",
            "  (layer3): Sequential(\n",
            "    (0): BasicBlock(\n",
            "      (conv1): Conv2d(4, 8, kernel_size=(3, 3), stride=(2, 2), padding=(1, 1), bias=False)\n",
            "      (bn1): BatchNorm2d(8, eps=1e-05, momentum=0.1, affine=True, track_running_stats=True)\n",
            "      (conv2): Conv2d(8, 8, kernel_size=(3, 3), stride=(1, 1), padding=(1, 1), bias=False)\n",
            "      (bn2): BatchNorm2d(8, eps=1e-05, momentum=0.1, affine=True, track_running_stats=True)\n",
            "      (shortcut): Sequential(\n",
            "        (0): Conv2d(4, 8, kernel_size=(1, 1), stride=(2, 2), bias=False)\n",
            "        (1): BatchNorm2d(8, eps=1e-05, momentum=0.1, affine=True, track_running_stats=True)\n",
            "      )\n",
            "    )\n",
            "    (1): BasicBlock(\n",
            "      (conv1): Conv2d(8, 8, kernel_size=(3, 3), stride=(1, 1), padding=(1, 1), bias=False)\n",
            "      (bn1): BatchNorm2d(8, eps=1e-05, momentum=0.1, affine=True, track_running_stats=True)\n",
            "      (conv2): Conv2d(8, 8, kernel_size=(3, 3), stride=(1, 1), padding=(1, 1), bias=False)\n",
            "      (bn2): BatchNorm2d(8, eps=1e-05, momentum=0.1, affine=True, track_running_stats=True)\n",
            "      (shortcut): Sequential()\n",
            "    )\n",
            "  )\n",
            "  (layer4): Sequential(\n",
            "    (0): BasicBlock(\n",
            "      (conv1): Conv2d(8, 16, kernel_size=(3, 3), stride=(2, 2), padding=(1, 1), bias=False)\n",
            "      (bn1): BatchNorm2d(16, eps=1e-05, momentum=0.1, affine=True, track_running_stats=True)\n",
            "      (conv2): Conv2d(16, 16, kernel_size=(3, 3), stride=(1, 1), padding=(1, 1), bias=False)\n",
            "      (bn2): BatchNorm2d(16, eps=1e-05, momentum=0.1, affine=True, track_running_stats=True)\n",
            "      (shortcut): Sequential(\n",
            "        (0): Conv2d(8, 16, kernel_size=(1, 1), stride=(2, 2), bias=False)\n",
            "        (1): BatchNorm2d(16, eps=1e-05, momentum=0.1, affine=True, track_running_stats=True)\n",
            "      )\n",
            "    )\n",
            "    (1): BasicBlock(\n",
            "      (conv1): Conv2d(16, 16, kernel_size=(3, 3), stride=(1, 1), padding=(1, 1), bias=False)\n",
            "      (bn1): BatchNorm2d(16, eps=1e-05, momentum=0.1, affine=True, track_running_stats=True)\n",
            "      (conv2): Conv2d(16, 16, kernel_size=(3, 3), stride=(1, 1), padding=(1, 1), bias=False)\n",
            "      (bn2): BatchNorm2d(16, eps=1e-05, momentum=0.1, affine=True, track_running_stats=True)\n",
            "      (shortcut): Sequential()\n",
            "    )\n",
            "  )\n",
            "  (linear): Linear(in_features=16, out_features=10, bias=True)\n",
            ")\n"
          ]
        }
      ],
      "source": [
        "\n",
        "print(model)"
      ]
    },
    {
      "cell_type": "markdown",
      "metadata": {
        "id": "bZ1XVLnQPDCE"
      },
      "source": [
        "## Load dataset\n",
        "\n",
        "We simply use the standard CIFAR-10 dataset. We load a random image from the dataset for demonstrating the usage of our framework."
      ]
    },
    {
      "cell_type": "code",
      "execution_count": 6,
      "metadata": {
        "colab": {
          "base_uri": "https://localhost:8080/",
          "height": 136,
          "referenced_widgets": [
            "9e7e346f934f4242ae708df9c4234666",
            "8ee0654750064115b237bd0bdd0a9b42",
            "3c00db991be2495582f57bcd6190ec35",
            "576b37a8542047cfba5388912c715792",
            "2802f726517a46ddaa916dd658dcdfa8",
            "02def3eb5f4b4d33a40869bdb1134b9b",
            "02d8cc9dd92b4adcbc04ff16f3c9600c",
            "8865721d1e25458a97a740f3e9fc754f",
            "949c0b0224c54bd68592bfaa8e21452c",
            "b6b6bbb796714ac7be25c4c3b758d01d",
            "2e1ad4d25fc4492bbc8af9200e53dfc2"
          ]
        },
        "id": "XVWoWCj0nVjR",
        "outputId": "e4b35429-461d-40c8-832d-3458f8afe3fd"
      },
      "outputs": [
        {
          "name": "stdout",
          "output_type": "stream",
          "text": [
            "Downloading https://www.cs.toronto.edu/~kriz/cifar-10-python.tar.gz to ./data/cifar-10-python.tar.gz\n"
          ]
        },
        {
          "data": {
            "application/vnd.jupyter.widget-view+json": {
              "model_id": "9e7e346f934f4242ae708df9c4234666",
              "version_major": 2,
              "version_minor": 0
            },
            "text/plain": [
              "  0%|          | 0/170498071 [00:00<?, ?it/s]"
            ]
          },
          "metadata": {},
          "output_type": "display_data"
        },
        {
          "name": "stdout",
          "output_type": "stream",
          "text": [
            "Extracting ./data/cifar-10-python.tar.gz to ./data\n",
            "Ground-truth label: 2\n",
            "Model prediction: tensor([[-2.1683, -6.2335,  5.0832, -2.8249, -3.9203, -2.3359, -2.0199, -3.7470,\n",
            "         -7.4981, -5.9163]], device='cuda:0', grad_fn=<AddmmBackward>)\n"
          ]
        }
      ],
      "source": [
        "test_data = datasets.CIFAR10(\n",
        "    \"./data\", train=False, download=True, \n",
        "    transform=transforms.Compose([transforms.ToTensor(), \n",
        "                                  transforms.Normalize(mean=[0.4914, 0.4822, 0.4465], std=[0.2023, 0.1994, 0.2010])]))\n",
        "# Choose one image from the dataset.\n",
        "idx = 123\n",
        "image = test_data[idx][0].view(1,3,32,32).cuda()\n",
        "label = data = test_data[idx][1]\n",
        "print('Ground-truth label:', label)\n",
        "print('Model prediction:', model(image))"
      ]
    },
    {
      "cell_type": "markdown",
      "metadata": {
        "id": "wXmWvpTHFN-0"
      },
      "source": [
        "## Use `auto_LiRPA` to obtain provable lower and outer bounds under perturbation\n",
        "\n",
        "There are three essential steps to use `auto_LiRPA`:\n",
        "\n",
        "1.   Wrap a predefined computation in a `nn.Module` object with `auto_LiRPA.BoundedModule`;\n",
        "2.   Define perturbation as a `BoundedTensor` (or `BoundedParameter` if you are perturbing model weights);\n",
        "3.   Use the `compute_bounds()` methods to obtain lower and upper bounds of the computational graph defined in `nn.Module`.\n",
        "\n"
      ]
    },
    {
      "cell_type": "code",
      "execution_count": 85,
      "metadata": {
        "colab": {
          "base_uri": "https://localhost:8080/"
        },
        "id": "J0Uck9k6f6Yz",
        "outputId": "061439ea-64bf-4ee9-a01d-1790320eefaa"
      },
      "outputs": [
        {
          "name": "stderr",
          "output_type": "stream",
          "text": [
            "/usr/local/lib/python3.7/dist-packages/torch/nn/functional.py:2113: TracerWarning: Converting a tensor to a Python boolean might cause the trace to be incorrect. We can't record the data flow of Python values, so this value will be treated as a constant in the future. This means that the trace might not generalize to other inputs!\n",
            "  if size_prods == 1:\n",
            "/usr/local/lib/python3.7/dist-packages/torch/onnx/symbolic_helper.py:680: UserWarning: ONNX export mode is set to inference mode, but operator batch_norm is set to training  mode. The model will be exported in inference, as specified by the export mode.\n",
            "  training_mode + \", as specified by the export mode.\")\n"
          ]
        }
      ],
      "source": [
        "# Step 1: wrap model with BoundedModule. The \"conv_mode\" option enables efficient CNN bounds on GPUs.\n",
        "bounded_model = BoundedModule(model, torch.zeros_like(image), bound_opts={\"conv_mode\": \"patches\"})\n",
        "bounded_model.eval()"
      ]
    },
    {
      "cell_type": "code",
      "execution_count": 151,
      "metadata": {
        "colab": {
          "base_uri": "https://localhost:8080/"
        },
        "id": "YMkDG0vtAjfg",
        "outputId": "790fa074-93d1-43ff-d9dd-892e285d8042"
      },
      "outputs": [
        {
          "name": "stdout",
          "output_type": "stream",
          "text": [
            "Collecting netron\n",
            "  Downloading netron-5.4.1-py2.py3-none-any.whl (1.3 MB)\n",
            "\u001b[?25l\r\u001b[K     |▎                               | 10 kB 22.7 MB/s eta 0:00:01\r\u001b[K     |▌                               | 20 kB 28.0 MB/s eta 0:00:01\r\u001b[K     |▊                               | 30 kB 26.1 MB/s eta 0:00:01\r\u001b[K     |█                               | 40 kB 20.2 MB/s eta 0:00:01\r\u001b[K     |█▏                              | 51 kB 15.9 MB/s eta 0:00:01\r\u001b[K     |█▌                              | 61 kB 11.9 MB/s eta 0:00:01\r\u001b[K     |█▊                              | 71 kB 11.7 MB/s eta 0:00:01\r\u001b[K     |██                              | 81 kB 12.6 MB/s eta 0:00:01\r\u001b[K     |██▏                             | 92 kB 12.4 MB/s eta 0:00:01\r\u001b[K     |██▍                             | 102 kB 13.3 MB/s eta 0:00:01\r\u001b[K     |██▊                             | 112 kB 13.3 MB/s eta 0:00:01\r\u001b[K     |███                             | 122 kB 13.3 MB/s eta 0:00:01\r\u001b[K     |███▏                            | 133 kB 13.3 MB/s eta 0:00:01\r\u001b[K     |███▍                            | 143 kB 13.3 MB/s eta 0:00:01\r\u001b[K     |███▋                            | 153 kB 13.3 MB/s eta 0:00:01\r\u001b[K     |████                            | 163 kB 13.3 MB/s eta 0:00:01\r\u001b[K     |████▏                           | 174 kB 13.3 MB/s eta 0:00:01\r\u001b[K     |████▍                           | 184 kB 13.3 MB/s eta 0:00:01\r\u001b[K     |████▋                           | 194 kB 13.3 MB/s eta 0:00:01\r\u001b[K     |████▉                           | 204 kB 13.3 MB/s eta 0:00:01\r\u001b[K     |█████▏                          | 215 kB 13.3 MB/s eta 0:00:01\r\u001b[K     |█████▍                          | 225 kB 13.3 MB/s eta 0:00:01\r\u001b[K     |█████▋                          | 235 kB 13.3 MB/s eta 0:00:01\r\u001b[K     |█████▉                          | 245 kB 13.3 MB/s eta 0:00:01\r\u001b[K     |██████                          | 256 kB 13.3 MB/s eta 0:00:01\r\u001b[K     |██████▍                         | 266 kB 13.3 MB/s eta 0:00:01\r\u001b[K     |██████▋                         | 276 kB 13.3 MB/s eta 0:00:01\r\u001b[K     |██████▉                         | 286 kB 13.3 MB/s eta 0:00:01\r\u001b[K     |███████                         | 296 kB 13.3 MB/s eta 0:00:01\r\u001b[K     |███████▎                        | 307 kB 13.3 MB/s eta 0:00:01\r\u001b[K     |███████▋                        | 317 kB 13.3 MB/s eta 0:00:01\r\u001b[K     |███████▉                        | 327 kB 13.3 MB/s eta 0:00:01\r\u001b[K     |████████                        | 337 kB 13.3 MB/s eta 0:00:01\r\u001b[K     |████████▎                       | 348 kB 13.3 MB/s eta 0:00:01\r\u001b[K     |████████▌                       | 358 kB 13.3 MB/s eta 0:00:01\r\u001b[K     |████████▉                       | 368 kB 13.3 MB/s eta 0:00:01\r\u001b[K     |█████████                       | 378 kB 13.3 MB/s eta 0:00:01\r\u001b[K     |█████████▎                      | 389 kB 13.3 MB/s eta 0:00:01\r\u001b[K     |█████████▌                      | 399 kB 13.3 MB/s eta 0:00:01\r\u001b[K     |█████████▊                      | 409 kB 13.3 MB/s eta 0:00:01\r\u001b[K     |██████████                      | 419 kB 13.3 MB/s eta 0:00:01\r\u001b[K     |██████████▎                     | 430 kB 13.3 MB/s eta 0:00:01\r\u001b[K     |██████████▌                     | 440 kB 13.3 MB/s eta 0:00:01\r\u001b[K     |██████████▊                     | 450 kB 13.3 MB/s eta 0:00:01\r\u001b[K     |███████████                     | 460 kB 13.3 MB/s eta 0:00:01\r\u001b[K     |███████████▏                    | 471 kB 13.3 MB/s eta 0:00:01\r\u001b[K     |███████████▌                    | 481 kB 13.3 MB/s eta 0:00:01\r\u001b[K     |███████████▊                    | 491 kB 13.3 MB/s eta 0:00:01\r\u001b[K     |████████████                    | 501 kB 13.3 MB/s eta 0:00:01\r\u001b[K     |████████████▏                   | 512 kB 13.3 MB/s eta 0:00:01\r\u001b[K     |████████████▍                   | 522 kB 13.3 MB/s eta 0:00:01\r\u001b[K     |████████████▊                   | 532 kB 13.3 MB/s eta 0:00:01\r\u001b[K     |█████████████                   | 542 kB 13.3 MB/s eta 0:00:01\r\u001b[K     |█████████████▏                  | 552 kB 13.3 MB/s eta 0:00:01\r\u001b[K     |█████████████▍                  | 563 kB 13.3 MB/s eta 0:00:01\r\u001b[K     |█████████████▋                  | 573 kB 13.3 MB/s eta 0:00:01\r\u001b[K     |██████████████                  | 583 kB 13.3 MB/s eta 0:00:01\r\u001b[K     |██████████████▏                 | 593 kB 13.3 MB/s eta 0:00:01\r\u001b[K     |██████████████▍                 | 604 kB 13.3 MB/s eta 0:00:01\r\u001b[K     |██████████████▋                 | 614 kB 13.3 MB/s eta 0:00:01\r\u001b[K     |██████████████▉                 | 624 kB 13.3 MB/s eta 0:00:01\r\u001b[K     |███████████████▏                | 634 kB 13.3 MB/s eta 0:00:01\r\u001b[K     |███████████████▍                | 645 kB 13.3 MB/s eta 0:00:01\r\u001b[K     |███████████████▋                | 655 kB 13.3 MB/s eta 0:00:01\r\u001b[K     |███████████████▉                | 665 kB 13.3 MB/s eta 0:00:01\r\u001b[K     |████████████████                | 675 kB 13.3 MB/s eta 0:00:01\r\u001b[K     |████████████████▍               | 686 kB 13.3 MB/s eta 0:00:01\r\u001b[K     |████████████████▋               | 696 kB 13.3 MB/s eta 0:00:01\r\u001b[K     |████████████████▉               | 706 kB 13.3 MB/s eta 0:00:01\r\u001b[K     |█████████████████               | 716 kB 13.3 MB/s eta 0:00:01\r\u001b[K     |█████████████████▎              | 727 kB 13.3 MB/s eta 0:00:01\r\u001b[K     |█████████████████▋              | 737 kB 13.3 MB/s eta 0:00:01\r\u001b[K     |█████████████████▉              | 747 kB 13.3 MB/s eta 0:00:01\r\u001b[K     |██████████████████              | 757 kB 13.3 MB/s eta 0:00:01\r\u001b[K     |██████████████████▎             | 768 kB 13.3 MB/s eta 0:00:01\r\u001b[K     |██████████████████▌             | 778 kB 13.3 MB/s eta 0:00:01\r\u001b[K     |██████████████████▉             | 788 kB 13.3 MB/s eta 0:00:01\r\u001b[K     |███████████████████             | 798 kB 13.3 MB/s eta 0:00:01\r\u001b[K     |███████████████████▎            | 808 kB 13.3 MB/s eta 0:00:01\r\u001b[K     |███████████████████▌            | 819 kB 13.3 MB/s eta 0:00:01\r\u001b[K     |███████████████████▊            | 829 kB 13.3 MB/s eta 0:00:01\r\u001b[K     |████████████████████            | 839 kB 13.3 MB/s eta 0:00:01\r\u001b[K     |████████████████████▎           | 849 kB 13.3 MB/s eta 0:00:01\r\u001b[K     |████████████████████▌           | 860 kB 13.3 MB/s eta 0:00:01\r\u001b[K     |████████████████████▊           | 870 kB 13.3 MB/s eta 0:00:01\r\u001b[K     |█████████████████████           | 880 kB 13.3 MB/s eta 0:00:01\r\u001b[K     |█████████████████████▏          | 890 kB 13.3 MB/s eta 0:00:01\r\u001b[K     |█████████████████████▌          | 901 kB 13.3 MB/s eta 0:00:01\r\u001b[K     |█████████████████████▊          | 911 kB 13.3 MB/s eta 0:00:01\r\u001b[K     |██████████████████████          | 921 kB 13.3 MB/s eta 0:00:01\r\u001b[K     |██████████████████████▏         | 931 kB 13.3 MB/s eta 0:00:01\r\u001b[K     |██████████████████████▍         | 942 kB 13.3 MB/s eta 0:00:01\r\u001b[K     |██████████████████████▊         | 952 kB 13.3 MB/s eta 0:00:01\r\u001b[K     |███████████████████████         | 962 kB 13.3 MB/s eta 0:00:01\r\u001b[K     |███████████████████████▏        | 972 kB 13.3 MB/s eta 0:00:01\r\u001b[K     |███████████████████████▍        | 983 kB 13.3 MB/s eta 0:00:01\r\u001b[K     |███████████████████████▋        | 993 kB 13.3 MB/s eta 0:00:01\r\u001b[K     |████████████████████████        | 1.0 MB 13.3 MB/s eta 0:00:01\r\u001b[K     |████████████████████████▏       | 1.0 MB 13.3 MB/s eta 0:00:01\r\u001b[K     |████████████████████████▍       | 1.0 MB 13.3 MB/s eta 0:00:01\r\u001b[K     |████████████████████████▋       | 1.0 MB 13.3 MB/s eta 0:00:01\r\u001b[K     |████████████████████████▉       | 1.0 MB 13.3 MB/s eta 0:00:01\r\u001b[K     |█████████████████████████▏      | 1.1 MB 13.3 MB/s eta 0:00:01\r\u001b[K     |█████████████████████████▍      | 1.1 MB 13.3 MB/s eta 0:00:01\r\u001b[K     |█████████████████████████▋      | 1.1 MB 13.3 MB/s eta 0:00:01\r\u001b[K     |█████████████████████████▉      | 1.1 MB 13.3 MB/s eta 0:00:01\r\u001b[K     |██████████████████████████      | 1.1 MB 13.3 MB/s eta 0:00:01\r\u001b[K     |██████████████████████████▍     | 1.1 MB 13.3 MB/s eta 0:00:01\r\u001b[K     |██████████████████████████▋     | 1.1 MB 13.3 MB/s eta 0:00:01\r\u001b[K     |██████████████████████████▉     | 1.1 MB 13.3 MB/s eta 0:00:01\r\u001b[K     |███████████████████████████     | 1.1 MB 13.3 MB/s eta 0:00:01\r\u001b[K     |███████████████████████████▎    | 1.1 MB 13.3 MB/s eta 0:00:01\r\u001b[K     |███████████████████████████▋    | 1.2 MB 13.3 MB/s eta 0:00:01\r\u001b[K     |███████████████████████████▉    | 1.2 MB 13.3 MB/s eta 0:00:01\r\u001b[K     |████████████████████████████    | 1.2 MB 13.3 MB/s eta 0:00:01\r\u001b[K     |████████████████████████████▎   | 1.2 MB 13.3 MB/s eta 0:00:01\r\u001b[K     |████████████████████████████▌   | 1.2 MB 13.3 MB/s eta 0:00:01\r\u001b[K     |████████████████████████████▉   | 1.2 MB 13.3 MB/s eta 0:00:01\r\u001b[K     |█████████████████████████████   | 1.2 MB 13.3 MB/s eta 0:00:01\r\u001b[K     |█████████████████████████████▎  | 1.2 MB 13.3 MB/s eta 0:00:01\r\u001b[K     |█████████████████████████████▌  | 1.2 MB 13.3 MB/s eta 0:00:01\r\u001b[K     |█████████████████████████████▊  | 1.2 MB 13.3 MB/s eta 0:00:01\r\u001b[K     |██████████████████████████████  | 1.3 MB 13.3 MB/s eta 0:00:01\r\u001b[K     |██████████████████████████████▎ | 1.3 MB 13.3 MB/s eta 0:00:01\r\u001b[K     |██████████████████████████████▌ | 1.3 MB 13.3 MB/s eta 0:00:01\r\u001b[K     |██████████████████████████████▊ | 1.3 MB 13.3 MB/s eta 0:00:01\r\u001b[K     |███████████████████████████████ | 1.3 MB 13.3 MB/s eta 0:00:01\r\u001b[K     |███████████████████████████████▎| 1.3 MB 13.3 MB/s eta 0:00:01\r\u001b[K     |███████████████████████████████▌| 1.3 MB 13.3 MB/s eta 0:00:01\r\u001b[K     |███████████████████████████████▊| 1.3 MB 13.3 MB/s eta 0:00:01\r\u001b[K     |████████████████████████████████| 1.3 MB 13.3 MB/s eta 0:00:01\r\u001b[K     |████████████████████████████████| 1.3 MB 13.3 MB/s \n",
            "\u001b[?25hInstalling collected packages: netron\n",
            "Successfully installed netron-5.4.1\n"
          ]
        },
        {
          "name": "stderr",
          "output_type": "stream",
          "text": [
            "/usr/local/lib/python3.7/dist-packages/google/colab/_pip.py:87: ResourceWarning: unclosed file <_io.TextIOWrapper name='/usr/local/lib/python3.7/dist-packages/netron-5.4.1.dist-info/top_level.txt' mode='r' encoding='UTF-8'>\n",
            "  for line in open(toplevel):\n",
            "ResourceWarning: Enable tracemalloc to get the object allocation traceback\n"
          ]
        }
      ],
      "source": [
        "\n",
        "!pip install netron"
      ]
    },
    {
      "cell_type": "code",
      "execution_count": 86,
      "metadata": {
        "colab": {
          "base_uri": "https://localhost:8080/"
        },
        "id": "IWDY87o-gLi-",
        "outputId": "5b1e5ff2-cc9c-48a9-f76c-e18b360bbe92"
      },
      "outputs": [
        {
          "name": "stdout",
          "output_type": "stream",
          "text": [
            "Model prediction: tensor([[-2.1683, -6.2335,  5.0832, -2.8249, -3.9203, -2.3359, -2.0199, -3.7470,\n",
            "         -7.4981, -5.9163]], device='cuda:0', grad_fn=<AddBackward0>)\n"
          ]
        }
      ],
      "source": [
        "# Step 2: define perturbation. Here we use a Linf perturbation on input image.\n",
        "eps = 0.003\n",
        "norm = np.inf\n",
        "ptb = PerturbationLpNorm(norm = norm, eps = eps)\n",
        "# Input tensor is wrapped in a BoundedTensor object.\n",
        "bounded_image = BoundedTensor(image, ptb)\n",
        "# We can use BoundedTensor to get model prediction as usual. Regular forward/backward propagation is unaffected.\n",
        "print('Model prediction:', bounded_model(bounded_image))"
      ]
    },
    {
      "cell_type": "markdown",
      "metadata": {
        "id": "v7lVE11xuXVy"
      },
      "source": [
        "As you can see above, the `BoundedModule` object wrapped by `auto_LiRPA` can be used the same way as a regular Pytorch model, with a `BoundedTensor` as its input."
      ]
    },
    {
      "cell_type": "code",
      "execution_count": 16,
      "metadata": {
        "id": "gGYAKpJ3T9VR"
      },
      "outputs": [],
      "source": [
        "with torch.no_grad():  # If gradients of the bounds are not needed, we can use no_grad to save memory.\n",
        "\n",
        "  lb, ub, A_dict = bounded_model.compute_bounds(x=(bounded_image,),return_A=True,, method='CROWN')"
      ]
    },
    {
      "cell_type": "markdown",
      "metadata": {
        "id": "IN4kWT4dXfoj"
      },
      "source": []
    },
    {
      "cell_type": "code",
      "execution_count": 134,
      "metadata": {
        "id": "-L2pOpABUHyQ"
      },
      "outputs": [],
      "source": [
        "a= bounded_model._modules"
      ]
    },
    {
      "cell_type": "code",
      "execution_count": 163,
      "metadata": {
        "id": "KEnK3KC9tT_A"
      },
      "outputs": [],
      "source": [
        "needed_dict={'/199':['/input.1','/1','/198'],'/198':['/input.1','/1'],'last_final_node':['/input.1','/1']}"
      ]
    },
    {
      "cell_type": "code",
      "execution_count": 165,
      "metadata": {
        "id": "eCQ0hEoAdAAJ"
      },
      "outputs": [],
      "source": [
        "with torch.no_grad():\n",
        "  lb, ub, A_dict = bounded_model.compute_bounds(x=(bounded_image,),return_A=True,needed_A_dict=needed_dict, method='CROWN')"
      ]
    },
    {
      "cell_type": "code",
      "execution_count": 129,
      "metadata": {
        "id": "aehM0zDYuXIL"
      },
      "outputs": [],
      "source": [
        "lA=  A_dict['/199']['/input.1']['lA']\n",
        "uA  = A_dict['/199']['/input.1']['uA']"
      ]
    },
    {
      "cell_type": "code",
      "execution_count": 166,
      "metadata": {
        "colab": {
          "base_uri": "https://localhost:8080/"
        },
        "id": "cKtJYhJduwr6",
        "outputId": "d3f18a95-644f-444a-9c67-91a75f5c7263"
      },
      "outputs": [
        {
          "data": {
            "text/plain": [
              "dict_keys(['/199'])"
            ]
          },
          "execution_count": 166,
          "metadata": {},
          "output_type": "execute_result"
        }
      ],
      "source": [
        "A_dict.keys()"
      ]
    },
    {
      "cell_type": "code",
      "execution_count": 95,
      "metadata": {
        "colab": {
          "base_uri": "https://localhost:8080/",
          "height": 35
        },
        "id": "xPMSd8sbYwFp",
        "outputId": "24620957-71de-4908-9eab-09555f33dbab"
      },
      "outputs": [
        {
          "data": {
            "application/vnd.google.colaboratory.intrinsic+json": {
              "type": "string"
            },
            "text/plain": [
              "'/186'"
            ]
          },
          "execution_count": 95,
          "metadata": {},
          "output_type": "execute_result"
        }
      ],
      "source": [
        "node.name"
      ]
    },
    {
      "cell_type": "code",
      "execution_count": 157,
      "metadata": {
        "colab": {
          "base_uri": "https://localhost:8080/"
        },
        "id": "S-jWZu6YZHRC",
        "outputId": "8b9c6d96-6fac-4e96-f38e-396eb1c49d72"
      },
      "outputs": [
        {
          "data": {
            "text/plain": [
              "OrderedDict([('/123', BoundConv()),\n",
              "             ('/124', BoundBatchNormalization()),\n",
              "             ('/125', BoundRelu()),\n",
              "             ('/126', BoundConv()),\n",
              "             ('/127', BoundBatchNormalization()),\n",
              "             ('/128', BoundRelu()),\n",
              "             ('/129', BoundConv()),\n",
              "             ('/130', BoundBatchNormalization()),\n",
              "             ('/131', BoundAdd()),\n",
              "             ('/132', BoundRelu()),\n",
              "             ('/133', BoundConv()),\n",
              "             ('/134', BoundBatchNormalization()),\n",
              "             ('/135', BoundRelu()),\n",
              "             ('/136', BoundConv()),\n",
              "             ('/137', BoundBatchNormalization()),\n",
              "             ('/138', BoundAdd()),\n",
              "             ('/139', BoundRelu()),\n",
              "             ('/140', BoundConv()),\n",
              "             ('/141', BoundBatchNormalization()),\n",
              "             ('/142', BoundRelu()),\n",
              "             ('/143', BoundConv()),\n",
              "             ('/144', BoundBatchNormalization()),\n",
              "             ('/145', BoundConv()),\n",
              "             ('/146', BoundBatchNormalization()),\n",
              "             ('/147', BoundAdd()),\n",
              "             ('/148', BoundRelu()),\n",
              "             ('/149', BoundConv()),\n",
              "             ('/150', BoundBatchNormalization()),\n",
              "             ('/151', BoundRelu()),\n",
              "             ('/152', BoundConv()),\n",
              "             ('/153', BoundBatchNormalization()),\n",
              "             ('/154', BoundAdd()),\n",
              "             ('/155', BoundRelu()),\n",
              "             ('/156', BoundConv()),\n",
              "             ('/157', BoundBatchNormalization()),\n",
              "             ('/158', BoundRelu()),\n",
              "             ('/159', BoundConv()),\n",
              "             ('/160', BoundBatchNormalization()),\n",
              "             ('/161', BoundConv()),\n",
              "             ('/162', BoundBatchNormalization()),\n",
              "             ('/163', BoundAdd()),\n",
              "             ('/164', BoundRelu()),\n",
              "             ('/165', BoundConv()),\n",
              "             ('/166', BoundBatchNormalization()),\n",
              "             ('/167', BoundRelu()),\n",
              "             ('/168', BoundConv()),\n",
              "             ('/169', BoundBatchNormalization()),\n",
              "             ('/170', BoundAdd()),\n",
              "             ('/171', BoundRelu()),\n",
              "             ('/172', BoundConv()),\n",
              "             ('/173', BoundBatchNormalization()),\n",
              "             ('/174', BoundRelu()),\n",
              "             ('/175', BoundConv()),\n",
              "             ('/176', BoundBatchNormalization()),\n",
              "             ('/177', BoundConv()),\n",
              "             ('/178', BoundBatchNormalization()),\n",
              "             ('/179', BoundAdd()),\n",
              "             ('/180', BoundRelu()),\n",
              "             ('/181', BoundConv()),\n",
              "             ('/182', BoundBatchNormalization()),\n",
              "             ('/183', BoundRelu()),\n",
              "             ('/184', BoundConv()),\n",
              "             ('/185', BoundBatchNormalization()),\n",
              "             ('/186', BoundAdd()),\n",
              "             ('/187', BoundRelu()),\n",
              "             ('/188', BoundConstant()),\n",
              "             ('/189', BoundPad()),\n",
              "             ('/190', BoundAveragePool()),\n",
              "             ('/191', BoundShape()),\n",
              "             ('/192', BoundConstant()),\n",
              "             ('/193', BoundGather()),\n",
              "             ('/194', BoundConstant()),\n",
              "             ('/195', BoundUnsqueeze()),\n",
              "             ('/196', BoundUnsqueeze()),\n",
              "             ('/197', BoundConcat()),\n",
              "             ('/198', BoundReshape()),\n",
              "             ('/199', BoundLinear()),\n",
              "             ('/input.1', BoundInput()),\n",
              "             ('/1', BoundParams()),\n",
              "             ('/2', BoundParams()),\n",
              "             ('/3', BoundParams()),\n",
              "             ('/4', BoundBuffers()),\n",
              "             ('/5', BoundBuffers()),\n",
              "             ('/7', BoundParams()),\n",
              "             ('/8', BoundParams()),\n",
              "             ('/9', BoundParams()),\n",
              "             ('/10', BoundBuffers()),\n",
              "             ('/11', BoundBuffers()),\n",
              "             ('/13', BoundParams()),\n",
              "             ('/14', BoundParams()),\n",
              "             ('/15', BoundParams()),\n",
              "             ('/16', BoundBuffers()),\n",
              "             ('/17', BoundBuffers()),\n",
              "             ('/19', BoundParams()),\n",
              "             ('/20', BoundParams()),\n",
              "             ('/21', BoundParams()),\n",
              "             ('/22', BoundBuffers()),\n",
              "             ('/23', BoundBuffers()),\n",
              "             ('/25', BoundParams()),\n",
              "             ('/26', BoundParams()),\n",
              "             ('/27', BoundParams()),\n",
              "             ('/28', BoundBuffers()),\n",
              "             ('/29', BoundBuffers()),\n",
              "             ('/31', BoundParams()),\n",
              "             ('/32', BoundParams()),\n",
              "             ('/33', BoundParams()),\n",
              "             ('/34', BoundBuffers()),\n",
              "             ('/35', BoundBuffers()),\n",
              "             ('/37', BoundParams()),\n",
              "             ('/38', BoundParams()),\n",
              "             ('/39', BoundParams()),\n",
              "             ('/40', BoundBuffers()),\n",
              "             ('/41', BoundBuffers()),\n",
              "             ('/43', BoundParams()),\n",
              "             ('/44', BoundParams()),\n",
              "             ('/45', BoundParams()),\n",
              "             ('/46', BoundBuffers()),\n",
              "             ('/47', BoundBuffers()),\n",
              "             ('/49', BoundParams()),\n",
              "             ('/50', BoundParams()),\n",
              "             ('/51', BoundParams()),\n",
              "             ('/52', BoundBuffers()),\n",
              "             ('/53', BoundBuffers()),\n",
              "             ('/55', BoundParams()),\n",
              "             ('/56', BoundParams()),\n",
              "             ('/57', BoundParams()),\n",
              "             ('/58', BoundBuffers()),\n",
              "             ('/59', BoundBuffers()),\n",
              "             ('/61', BoundParams()),\n",
              "             ('/62', BoundParams()),\n",
              "             ('/63', BoundParams()),\n",
              "             ('/64', BoundBuffers()),\n",
              "             ('/65', BoundBuffers()),\n",
              "             ('/67', BoundParams()),\n",
              "             ('/68', BoundParams()),\n",
              "             ('/69', BoundParams()),\n",
              "             ('/70', BoundBuffers()),\n",
              "             ('/71', BoundBuffers()),\n",
              "             ('/73', BoundParams()),\n",
              "             ('/74', BoundParams()),\n",
              "             ('/75', BoundParams()),\n",
              "             ('/76', BoundBuffers()),\n",
              "             ('/77', BoundBuffers()),\n",
              "             ('/79', BoundParams()),\n",
              "             ('/80', BoundParams()),\n",
              "             ('/81', BoundParams()),\n",
              "             ('/82', BoundBuffers()),\n",
              "             ('/83', BoundBuffers()),\n",
              "             ('/85', BoundParams()),\n",
              "             ('/86', BoundParams()),\n",
              "             ('/87', BoundParams()),\n",
              "             ('/88', BoundBuffers()),\n",
              "             ('/89', BoundBuffers()),\n",
              "             ('/91', BoundParams()),\n",
              "             ('/92', BoundParams()),\n",
              "             ('/93', BoundParams()),\n",
              "             ('/94', BoundBuffers()),\n",
              "             ('/95', BoundBuffers()),\n",
              "             ('/97', BoundParams()),\n",
              "             ('/98', BoundParams()),\n",
              "             ('/99', BoundParams()),\n",
              "             ('/100', BoundBuffers()),\n",
              "             ('/101', BoundBuffers()),\n",
              "             ('/103', BoundParams()),\n",
              "             ('/104', BoundParams()),\n",
              "             ('/105', BoundParams()),\n",
              "             ('/106', BoundBuffers()),\n",
              "             ('/107', BoundBuffers()),\n",
              "             ('/109', BoundParams()),\n",
              "             ('/110', BoundParams()),\n",
              "             ('/111', BoundParams()),\n",
              "             ('/112', BoundBuffers()),\n",
              "             ('/113', BoundBuffers()),\n",
              "             ('/115', BoundParams()),\n",
              "             ('/116', BoundParams()),\n",
              "             ('/117', BoundParams()),\n",
              "             ('/118', BoundBuffers()),\n",
              "             ('/119', BoundBuffers()),\n",
              "             ('/121', BoundParams()),\n",
              "             ('/122', BoundParams()),\n",
              "             ('last_final_node', BoundLinear())])"
            ]
          },
          "execution_count": 157,
          "metadata": {},
          "output_type": "execute_result"
        }
      ],
      "source": [
        "bounded_model._modules"
      ]
    },
    {
      "cell_type": "code",
      "execution_count": 53,
      "metadata": {
        "id": "AcQEVk37avmW"
      },
      "outputs": [],
      "source": [
        "\n",
        "nodes.append(node)"
      ]
    },
    {
      "cell_type": "code",
      "execution_count": 113,
      "metadata": {
        "colab": {
          "base_uri": "https://localhost:8080/"
        },
        "id": "IBNJz4WYtXbq",
        "outputId": "02bebbd1-441b-4c52-e265-027925ab7e9d"
      },
      "outputs": [
        {
          "data": {
            "text/plain": [
              "{}"
            ]
          },
          "execution_count": 113,
          "metadata": {},
          "output_type": "execute_result"
        }
      ],
      "source": [
        "A_dict"
      ]
    },
    {
      "cell_type": "code",
      "execution_count": 92,
      "metadata": {
        "id": "YLFM4SRSaxHf"
      },
      "outputs": [],
      "source": []
    },
    {
      "cell_type": "code",
      "execution_count": 74,
      "metadata": {
        "colab": {
          "base_uri": "https://localhost:8080/"
        },
        "id": "WhuuxKG4djWX",
        "outputId": "8e0f434d-0de0-4977-d9e3-e1e57562daa6"
      },
      "outputs": [
        {
          "data": {
            "text/plain": [
              "{'/186': '/1'}"
            ]
          },
          "execution_count": 74,
          "metadata": {},
          "output_type": "execute_result"
        }
      ],
      "source": [
        "\n",
        "needed_dict"
      ]
    },
    {
      "cell_type": "code",
      "execution_count": null,
      "metadata": {
        "id": "dKa9h96uefIm"
      },
      "outputs": [],
      "source": []
    },
    {
      "cell_type": "code",
      "execution_count": 91,
      "metadata": {
        "colab": {
          "base_uri": "https://localhost:8080/"
        },
        "id": "grnmxr-CbbM3",
        "outputId": "6c36fea9-c213-4fb7-c1bc-e3b410fd3e49"
      },
      "outputs": [
        {
          "name": "stdout",
          "output_type": "stream",
          "text": [
            "['/input.1', '/1']\n",
            "/input.1\n",
            "/1\n",
            "['/123', '/2', '/3', '/4', '/5']\n",
            "/123\n",
            "/2\n",
            "/3\n",
            "/4\n",
            "/5\n",
            "['/124']\n",
            "/124\n",
            "['/125', '/7']\n",
            "/125\n",
            "/7\n",
            "['/126', '/8', '/9', '/10', '/11']\n",
            "/126\n",
            "/8\n",
            "/9\n",
            "/10\n",
            "/11\n",
            "['/127']\n",
            "/127\n",
            "['/128', '/13']\n",
            "/128\n",
            "/13\n",
            "['/129', '/14', '/15', '/16', '/17']\n",
            "/129\n",
            "/14\n",
            "/15\n",
            "/16\n",
            "/17\n",
            "['/130', '/125']\n",
            "/130\n",
            "/125\n",
            "['/131']\n",
            "/131\n",
            "['/132', '/19']\n",
            "/132\n",
            "/19\n",
            "['/133', '/20', '/21', '/22', '/23']\n",
            "/133\n",
            "/20\n",
            "/21\n",
            "/22\n",
            "/23\n",
            "['/134']\n",
            "/134\n",
            "['/135', '/25']\n",
            "/135\n",
            "/25\n",
            "['/136', '/26', '/27', '/28', '/29']\n",
            "/136\n",
            "/26\n",
            "/27\n",
            "/28\n",
            "/29\n",
            "['/137', '/132']\n",
            "/137\n",
            "/132\n",
            "['/138']\n",
            "/138\n",
            "['/139', '/31']\n",
            "/139\n",
            "/31\n",
            "['/140', '/32', '/33', '/34', '/35']\n",
            "/140\n",
            "/32\n",
            "/33\n",
            "/34\n",
            "/35\n",
            "['/141']\n",
            "/141\n",
            "['/142', '/37']\n",
            "/142\n",
            "/37\n",
            "['/143', '/38', '/39', '/40', '/41']\n",
            "/143\n",
            "/38\n",
            "/39\n",
            "/40\n",
            "/41\n",
            "['/139', '/43']\n",
            "/139\n",
            "/43\n",
            "['/145', '/44', '/45', '/46', '/47']\n",
            "/145\n",
            "/44\n",
            "/45\n",
            "/46\n",
            "/47\n",
            "['/144', '/146']\n",
            "/144\n",
            "/146\n",
            "['/147']\n",
            "/147\n",
            "['/148', '/49']\n",
            "/148\n",
            "/49\n",
            "['/149', '/50', '/51', '/52', '/53']\n",
            "/149\n",
            "/50\n",
            "/51\n",
            "/52\n",
            "/53\n",
            "['/150']\n",
            "/150\n",
            "['/151', '/55']\n",
            "/151\n",
            "/55\n",
            "['/152', '/56', '/57', '/58', '/59']\n",
            "/152\n",
            "/56\n",
            "/57\n",
            "/58\n",
            "/59\n",
            "['/153', '/148']\n",
            "/153\n",
            "/148\n",
            "['/154']\n",
            "/154\n",
            "['/155', '/61']\n",
            "/155\n",
            "/61\n",
            "['/156', '/62', '/63', '/64', '/65']\n",
            "/156\n",
            "/62\n",
            "/63\n",
            "/64\n",
            "/65\n",
            "['/157']\n",
            "/157\n",
            "['/158', '/67']\n",
            "/158\n",
            "/67\n",
            "['/159', '/68', '/69', '/70', '/71']\n",
            "/159\n",
            "/68\n",
            "/69\n",
            "/70\n",
            "/71\n",
            "['/155', '/73']\n",
            "/155\n",
            "/73\n",
            "['/161', '/74', '/75', '/76', '/77']\n",
            "/161\n",
            "/74\n",
            "/75\n",
            "/76\n",
            "/77\n",
            "['/160', '/162']\n",
            "/160\n",
            "/162\n",
            "['/163']\n",
            "/163\n",
            "['/164', '/79']\n",
            "/164\n",
            "/79\n",
            "['/165', '/80', '/81', '/82', '/83']\n",
            "/165\n",
            "/80\n",
            "/81\n",
            "/82\n",
            "/83\n",
            "['/166']\n",
            "/166\n",
            "['/167', '/85']\n",
            "/167\n",
            "/85\n",
            "['/168', '/86', '/87', '/88', '/89']\n",
            "/168\n",
            "/86\n",
            "/87\n",
            "/88\n",
            "/89\n",
            "['/169', '/164']\n",
            "/169\n",
            "/164\n",
            "['/170']\n",
            "/170\n",
            "['/171', '/91']\n",
            "/171\n",
            "/91\n",
            "['/172', '/92', '/93', '/94', '/95']\n",
            "/172\n",
            "/92\n",
            "/93\n",
            "/94\n",
            "/95\n",
            "['/173']\n",
            "/173\n",
            "['/174', '/97']\n",
            "/174\n",
            "/97\n",
            "['/175', '/98', '/99', '/100', '/101']\n",
            "/175\n",
            "/98\n",
            "/99\n",
            "/100\n",
            "/101\n",
            "['/171', '/103']\n",
            "/171\n",
            "/103\n",
            "['/177', '/104', '/105', '/106', '/107']\n",
            "/177\n",
            "/104\n",
            "/105\n",
            "/106\n",
            "/107\n",
            "['/176', '/178']\n",
            "/176\n",
            "/178\n",
            "['/179']\n",
            "/179\n",
            "['/180', '/109']\n",
            "/180\n",
            "/109\n",
            "['/181', '/110', '/111', '/112', '/113']\n",
            "/181\n",
            "/110\n",
            "/111\n",
            "/112\n",
            "/113\n",
            "['/182']\n",
            "/182\n",
            "['/183', '/115']\n",
            "/183\n",
            "/115\n",
            "['/184', '/116', '/117', '/118', '/119']\n",
            "/184\n",
            "/116\n",
            "/117\n",
            "/118\n",
            "/119\n",
            "['/185', '/180']\n",
            "/185\n",
            "/180\n",
            "['/186']\n",
            "/186\n",
            "[]\n",
            "['/187', '/188']\n",
            "/187\n",
            "/188\n",
            "['/189']\n",
            "/189\n",
            "['/190']\n",
            "/190\n",
            "[]\n",
            "['/191', '/192']\n",
            "/191\n",
            "/192\n",
            "[]\n",
            "['/193']\n",
            "/193\n",
            "['/194']\n",
            "/194\n",
            "['/195', '/196']\n",
            "/195\n",
            "/196\n",
            "['/190', '/197']\n",
            "/190\n",
            "/197\n",
            "['/198', '/121', '/122']\n",
            "/198\n",
            "/121\n",
            "/122\n",
            "[]\n",
            "[]\n",
            "[]\n",
            "[]\n",
            "[]\n",
            "[]\n",
            "[]\n",
            "[]\n",
            "[]\n",
            "[]\n",
            "[]\n",
            "[]\n",
            "[]\n",
            "[]\n",
            "[]\n",
            "[]\n",
            "[]\n",
            "[]\n",
            "[]\n",
            "[]\n",
            "[]\n",
            "[]\n",
            "[]\n",
            "[]\n",
            "[]\n",
            "[]\n",
            "[]\n",
            "[]\n",
            "[]\n",
            "[]\n",
            "[]\n",
            "[]\n",
            "[]\n",
            "[]\n",
            "[]\n",
            "[]\n",
            "[]\n",
            "[]\n",
            "[]\n",
            "[]\n",
            "[]\n",
            "[]\n",
            "[]\n",
            "[]\n",
            "[]\n",
            "[]\n",
            "[]\n",
            "[]\n",
            "[]\n",
            "[]\n",
            "[]\n",
            "[]\n",
            "[]\n",
            "[]\n",
            "[]\n",
            "[]\n",
            "[]\n",
            "[]\n",
            "[]\n",
            "[]\n",
            "[]\n",
            "[]\n",
            "[]\n",
            "[]\n",
            "[]\n",
            "[]\n",
            "[]\n",
            "[]\n",
            "[]\n",
            "[]\n",
            "[]\n",
            "[]\n",
            "[]\n",
            "[]\n",
            "[]\n",
            "[]\n",
            "[]\n",
            "[]\n",
            "[]\n",
            "[]\n",
            "[]\n",
            "[]\n",
            "[]\n",
            "[]\n",
            "[]\n",
            "[]\n",
            "[]\n",
            "[]\n",
            "[]\n",
            "[]\n",
            "[]\n",
            "[]\n",
            "[]\n",
            "[]\n",
            "[]\n",
            "[]\n",
            "[]\n",
            "[]\n",
            "[]\n",
            "[]\n",
            "[]\n",
            "[]\n",
            "[]\n",
            "['/198', '/121', '/122']\n",
            "/198\n",
            "/121\n",
            "/122\n"
          ]
        }
      ],
      "source": [
        "for i in a:\n",
        "  #print(i.__dir__())\n",
        "  print(i.input_name)\n",
        "  #print(type(i))\n",
        "\n",
        "  for l_name in i.input_name:\n",
        "    print(l_name)    "
      ]
    },
    {
      "cell_type": "code",
      "execution_count": 88,
      "metadata": {
        "id": "cAZvkHp5X0j9"
      },
      "outputs": [],
      "source": [
        "for i in a:\n",
        "  if hasattr(i, 'nonlinear') and i.nonlinear:\n",
        "    for l_name in i.input_name:\n",
        "\n",
        "      nodes.append(bounded_model._modules[l_name])"
      ]
    },
    {
      "cell_type": "code",
      "execution_count": 89,
      "metadata": {
        "colab": {
          "base_uri": "https://localhost:8080/"
        },
        "id": "VY2CZiC7g5oX",
        "outputId": "40f25665-8c98-45c0-e10a-fe848cd1d150"
      },
      "outputs": [
        {
          "name": "stdout",
          "output_type": "stream",
          "text": [
            "Bounding method: backward (CROWN, DeepPoly)\n",
            "f_0(x_0):   -5.638 <= f_0(x_0+delta) <=    0.521\n",
            "f_1(x_0):  -10.532 <= f_1(x_0+delta) <=   -2.419\n",
            "f_2(x_0):    1.883 <= f_2(x_0+delta) <=    7.537\n",
            "f_3(x_0):   -5.327 <= f_3(x_0+delta) <=   -0.827\n",
            "f_4(x_0):   -7.217 <= f_4(x_0+delta) <=   -1.037\n",
            "f_5(x_0):   -5.238 <= f_5(x_0+delta) <=   -0.151\n",
            "f_6(x_0):   -5.686 <= f_6(x_0+delta) <=    0.118\n",
            "f_7(x_0):   -7.934 <= f_7(x_0+delta) <=   -0.303\n",
            "f_8(x_0):  -12.044 <= f_8(x_0+delta) <=   -3.793\n",
            "f_9(x_0):   -9.329 <= f_9(x_0+delta) <=   -3.074\n"
          ]
        }
      ],
      "source": [
        "# Step 3: compute bounds using the compute_bounds() method.\n",
        "print('Bounding method: backward (CROWN, DeepPoly)')\n",
        "with torch.no_grad():  # If gradients of the bounds are not needed, we can use no_grad to save memory.\n",
        "  lb, ub = bounded_model.compute_bounds(x=(bounded_image,), method='CROWN')\n",
        "\n",
        "# Auxillary function to print bounds.\n",
        "def print_bounds(lb, ub):\n",
        "    lb = lb.detach().cpu().numpy()\n",
        "    ub = ub.detach().cpu().numpy()\n",
        "    for j in range(10):\n",
        "        print(\"f_{j}(x_0): {l:8.3f} <= f_{j}(x_0+delta) <= {u:8.3f}\".format(\n",
        "            j=j, l=lb[0][j], u=ub[0][j], r=ub[0][j] - lb[0][j]))\n",
        "\n",
        "print_bounds(lb, ub)"
      ]
    },
    {
      "cell_type": "markdown",
      "metadata": {
        "id": "ZG3TVOjzuplp"
      },
      "source": [
        "The backward mode perturbation analysis (an extension of [CROWN](https://https://arxiv.org/pdf/1811.00866.pdf)) provides relatively tight bounds. In this example above, the ground-truth label is 2. You can see that the model logit output for label 2 is bounded between 1.883 and 7.537, and we can guarantee that its the top-1 label under perturbation.\n",
        "\n",
        "Next, we will compute the bounds using interval bound propagation (IBP), a previous approach that can also operate on general computational graphs. However, it produces much looser and vacuous bounds:"
      ]
    },
    {
      "cell_type": "code",
      "execution_count": null,
      "metadata": {
        "colab": {
          "base_uri": "https://localhost:8080/"
        },
        "id": "ukIFpofCitDI",
        "outputId": "b607355e-5032-447c-fd2b-00f0bd529230"
      },
      "outputs": [
        {
          "name": "stdout",
          "output_type": "stream",
          "text": [
            "Bounding method: IBP\n",
            "f_0(x_0): -23917152.000 <= f_0(x_0+delta) <= 14821585.000\n",
            "f_1(x_0): -25477740.000 <= f_1(x_0+delta) <= 16557554.000\n",
            "f_2(x_0): -18018624.000 <= f_2(x_0+delta) <= 13646834.000\n",
            "f_3(x_0): -17182962.000 <= f_3(x_0+delta) <= 9431992.000\n",
            "f_4(x_0): -22261390.000 <= f_4(x_0+delta) <= 12147498.000\n",
            "f_5(x_0): -21668388.000 <= f_5(x_0+delta) <= 12951016.000\n",
            "f_6(x_0): -24474524.000 <= f_6(x_0+delta) <= 11607180.000\n",
            "f_7(x_0): -28624064.000 <= f_7(x_0+delta) <= 17297988.000\n",
            "f_8(x_0): -29272032.000 <= f_8(x_0+delta) <= 17333456.000\n",
            "f_9(x_0): -24436304.000 <= f_9(x_0+delta) <= 12459551.000\n"
          ]
        }
      ],
      "source": [
        "# Our library also supports the interval bound propagation (IBP) based bounds, \n",
        "# but it produces much looser bounds.\n",
        "print('Bounding method: IBP')\n",
        "with torch.no_grad():\n",
        "  lb, ub = bounded_model.compute_bounds(x=(bounded_image,), method='IBP')\n",
        "\n",
        "print_bounds(lb, ub)"
      ]
    },
    {
      "cell_type": "markdown",
      "metadata": {
        "id": "u8204Z-uEtiL"
      },
      "source": [
        "## Differentiability of our bounds\n",
        "\n",
        "The bounds obtained by our `compute_bounds()` method are themselves differentiable w.r.t. input image or model parameters. We can obtain the gradients easily just as we usually do in Pytorch.  The gradients can be used for certified defense training. See our [training examples](https://github.com/KaidiXu/auto_LiRPA#basic-certified-training).\n"
      ]
    },
    {
      "cell_type": "code",
      "execution_count": null,
      "metadata": {
        "colab": {
          "base_uri": "https://localhost:8080/"
        },
        "id": "wEcnAkUxjMHC",
        "outputId": "93b5ac12-fcbc-4502-f206-1f5f9f15bd51"
      },
      "outputs": [
        {
          "name": "stdout",
          "output_type": "stream",
          "text": [
            "grad norm: tensor(97.1432, device='cuda:0')\n"
          ]
        }
      ],
      "source": [
        "bounded_model.zero_grad()\n",
        "lb, ub = bounded_model.compute_bounds(x=(bounded_image,), method='CROWN')\n",
        "# Create a dummy scalar function for demonstrating the differentiability.\n",
        "loss = lb.sum()\n",
        "loss.backward()\n",
        "# This is the gradients of the loss w.r.t. first convolutional layer's weights:\n",
        "print('grad norm:', list(model.modules())[1].weight.grad.norm(2))"
      ]
    },
    {
      "cell_type": "markdown",
      "metadata": {
        "id": "4oSAAEAkUv9a"
      },
      "source": [
        "## More examples\n",
        "\n",
        "We provide many examples of `auto_LiRPA` in our repository. You can find more details of these examples [here](https://github.com/KaidiXu/auto_LiRPA#more-working-examples). Notably, we provided the following examples for `auto_LiRPA`:\n",
        "\n",
        "1. Certified defense on CIFAR-10, **TinyImageNet** and **ImageNet** (64*64) using large scale computer vision models such as DenseNet, ResNeXt and WideResNet.\n",
        "2. Examples on using **loss fusion**, an efficient technique that scales linear relaxation based certified defense to large datasets, making certified defense training up to 1000 times faster compared to the previous approach.\n",
        "3. Examples on training verifiably robust **LSTM** and **Transformer** models on natural language processing (**NLP**) tasks.\n",
        "4. Examples on bounding network output given **model weight perturbations**. Existing frameworks can only handle perturbations on model inputs, not on model parameters (weights). This allows us to perform robustness verification or certified adversarial defense against weight perturbations. We can also train the bounds on model weights to obtain models with flat optimization landscapes. "
      ]
    },
    {
      "cell_type": "code",
      "execution_count": null,
      "metadata": {
        "id": "XAcjDh-9FApi"
      },
      "outputs": [],
      "source": []
    }
  ],
  "metadata": {
    "accelerator": "GPU",
    "colab": {
      "collapsed_sections": [],
      "name": "auto_LiRPA Tutorial.ipynb",
      "provenance": []
    },
    "kernelspec": {
      "display_name": "Python 3",
      "name": "python3"
    },
    "language_info": {
      "codemirror_mode": {
        "name": "ipython",
        "version": 3
      },
      "file_extension": ".py",
      "mimetype": "text/x-python",
      "name": "python",
      "nbconvert_exporter": "python",
      "pygments_lexer": "ipython3",
      "version": "3.7.9"
    },
    "widgets": {
      "application/vnd.jupyter.widget-state+json": {
        "02d8cc9dd92b4adcbc04ff16f3c9600c": {
          "model_module": "@jupyter-widgets/base",
          "model_module_version": "1.2.0",
          "model_name": "LayoutModel",
          "state": {
            "_model_module": "@jupyter-widgets/base",
            "_model_module_version": "1.2.0",
            "_model_name": "LayoutModel",
            "_view_count": null,
            "_view_module": "@jupyter-widgets/base",
            "_view_module_version": "1.2.0",
            "_view_name": "LayoutView",
            "align_content": null,
            "align_items": null,
            "align_self": null,
            "border": null,
            "bottom": null,
            "display": null,
            "flex": null,
            "flex_flow": null,
            "grid_area": null,
            "grid_auto_columns": null,
            "grid_auto_flow": null,
            "grid_auto_rows": null,
            "grid_column": null,
            "grid_gap": null,
            "grid_row": null,
            "grid_template_areas": null,
            "grid_template_columns": null,
            "grid_template_rows": null,
            "height": null,
            "justify_content": null,
            "justify_items": null,
            "left": null,
            "margin": null,
            "max_height": null,
            "max_width": null,
            "min_height": null,
            "min_width": null,
            "object_fit": null,
            "object_position": null,
            "order": null,
            "overflow": null,
            "overflow_x": null,
            "overflow_y": null,
            "padding": null,
            "right": null,
            "top": null,
            "visibility": null,
            "width": null
          }
        },
        "02def3eb5f4b4d33a40869bdb1134b9b": {
          "model_module": "@jupyter-widgets/controls",
          "model_module_version": "1.5.0",
          "model_name": "DescriptionStyleModel",
          "state": {
            "_model_module": "@jupyter-widgets/controls",
            "_model_module_version": "1.5.0",
            "_model_name": "DescriptionStyleModel",
            "_view_count": null,
            "_view_module": "@jupyter-widgets/base",
            "_view_module_version": "1.2.0",
            "_view_name": "StyleView",
            "description_width": ""
          }
        },
        "2802f726517a46ddaa916dd658dcdfa8": {
          "model_module": "@jupyter-widgets/controls",
          "model_module_version": "1.5.0",
          "model_name": "HTMLModel",
          "state": {
            "_dom_classes": [],
            "_model_module": "@jupyter-widgets/controls",
            "_model_module_version": "1.5.0",
            "_model_name": "HTMLModel",
            "_view_count": null,
            "_view_module": "@jupyter-widgets/controls",
            "_view_module_version": "1.5.0",
            "_view_name": "HTMLView",
            "description": "",
            "description_tooltip": null,
            "layout": "IPY_MODEL_2e1ad4d25fc4492bbc8af9200e53dfc2",
            "placeholder": "​",
            "style": "IPY_MODEL_b6b6bbb796714ac7be25c4c3b758d01d",
            "value": " 170499072/? [00:06&lt;00:00, 31402675.19it/s]"
          }
        },
        "2e1ad4d25fc4492bbc8af9200e53dfc2": {
          "model_module": "@jupyter-widgets/base",
          "model_module_version": "1.2.0",
          "model_name": "LayoutModel",
          "state": {
            "_model_module": "@jupyter-widgets/base",
            "_model_module_version": "1.2.0",
            "_model_name": "LayoutModel",
            "_view_count": null,
            "_view_module": "@jupyter-widgets/base",
            "_view_module_version": "1.2.0",
            "_view_name": "LayoutView",
            "align_content": null,
            "align_items": null,
            "align_self": null,
            "border": null,
            "bottom": null,
            "display": null,
            "flex": null,
            "flex_flow": null,
            "grid_area": null,
            "grid_auto_columns": null,
            "grid_auto_flow": null,
            "grid_auto_rows": null,
            "grid_column": null,
            "grid_gap": null,
            "grid_row": null,
            "grid_template_areas": null,
            "grid_template_columns": null,
            "grid_template_rows": null,
            "height": null,
            "justify_content": null,
            "justify_items": null,
            "left": null,
            "margin": null,
            "max_height": null,
            "max_width": null,
            "min_height": null,
            "min_width": null,
            "object_fit": null,
            "object_position": null,
            "order": null,
            "overflow": null,
            "overflow_x": null,
            "overflow_y": null,
            "padding": null,
            "right": null,
            "top": null,
            "visibility": null,
            "width": null
          }
        },
        "3c00db991be2495582f57bcd6190ec35": {
          "model_module": "@jupyter-widgets/controls",
          "model_module_version": "1.5.0",
          "model_name": "HTMLModel",
          "state": {
            "_dom_classes": [],
            "_model_module": "@jupyter-widgets/controls",
            "_model_module_version": "1.5.0",
            "_model_name": "HTMLModel",
            "_view_count": null,
            "_view_module": "@jupyter-widgets/controls",
            "_view_module_version": "1.5.0",
            "_view_name": "HTMLView",
            "description": "",
            "description_tooltip": null,
            "layout": "IPY_MODEL_02d8cc9dd92b4adcbc04ff16f3c9600c",
            "placeholder": "​",
            "style": "IPY_MODEL_02def3eb5f4b4d33a40869bdb1134b9b",
            "value": ""
          }
        },
        "576b37a8542047cfba5388912c715792": {
          "model_module": "@jupyter-widgets/controls",
          "model_module_version": "1.5.0",
          "model_name": "FloatProgressModel",
          "state": {
            "_dom_classes": [],
            "_model_module": "@jupyter-widgets/controls",
            "_model_module_version": "1.5.0",
            "_model_name": "FloatProgressModel",
            "_view_count": null,
            "_view_module": "@jupyter-widgets/controls",
            "_view_module_version": "1.5.0",
            "_view_name": "ProgressView",
            "bar_style": "success",
            "description": "",
            "description_tooltip": null,
            "layout": "IPY_MODEL_949c0b0224c54bd68592bfaa8e21452c",
            "max": 170498071,
            "min": 0,
            "orientation": "horizontal",
            "style": "IPY_MODEL_8865721d1e25458a97a740f3e9fc754f",
            "value": 170498071
          }
        },
        "8865721d1e25458a97a740f3e9fc754f": {
          "model_module": "@jupyter-widgets/controls",
          "model_module_version": "1.5.0",
          "model_name": "ProgressStyleModel",
          "state": {
            "_model_module": "@jupyter-widgets/controls",
            "_model_module_version": "1.5.0",
            "_model_name": "ProgressStyleModel",
            "_view_count": null,
            "_view_module": "@jupyter-widgets/base",
            "_view_module_version": "1.2.0",
            "_view_name": "StyleView",
            "bar_color": null,
            "description_width": ""
          }
        },
        "8ee0654750064115b237bd0bdd0a9b42": {
          "model_module": "@jupyter-widgets/base",
          "model_module_version": "1.2.0",
          "model_name": "LayoutModel",
          "state": {
            "_model_module": "@jupyter-widgets/base",
            "_model_module_version": "1.2.0",
            "_model_name": "LayoutModel",
            "_view_count": null,
            "_view_module": "@jupyter-widgets/base",
            "_view_module_version": "1.2.0",
            "_view_name": "LayoutView",
            "align_content": null,
            "align_items": null,
            "align_self": null,
            "border": null,
            "bottom": null,
            "display": null,
            "flex": null,
            "flex_flow": null,
            "grid_area": null,
            "grid_auto_columns": null,
            "grid_auto_flow": null,
            "grid_auto_rows": null,
            "grid_column": null,
            "grid_gap": null,
            "grid_row": null,
            "grid_template_areas": null,
            "grid_template_columns": null,
            "grid_template_rows": null,
            "height": null,
            "justify_content": null,
            "justify_items": null,
            "left": null,
            "margin": null,
            "max_height": null,
            "max_width": null,
            "min_height": null,
            "min_width": null,
            "object_fit": null,
            "object_position": null,
            "order": null,
            "overflow": null,
            "overflow_x": null,
            "overflow_y": null,
            "padding": null,
            "right": null,
            "top": null,
            "visibility": null,
            "width": null
          }
        },
        "949c0b0224c54bd68592bfaa8e21452c": {
          "model_module": "@jupyter-widgets/base",
          "model_module_version": "1.2.0",
          "model_name": "LayoutModel",
          "state": {
            "_model_module": "@jupyter-widgets/base",
            "_model_module_version": "1.2.0",
            "_model_name": "LayoutModel",
            "_view_count": null,
            "_view_module": "@jupyter-widgets/base",
            "_view_module_version": "1.2.0",
            "_view_name": "LayoutView",
            "align_content": null,
            "align_items": null,
            "align_self": null,
            "border": null,
            "bottom": null,
            "display": null,
            "flex": null,
            "flex_flow": null,
            "grid_area": null,
            "grid_auto_columns": null,
            "grid_auto_flow": null,
            "grid_auto_rows": null,
            "grid_column": null,
            "grid_gap": null,
            "grid_row": null,
            "grid_template_areas": null,
            "grid_template_columns": null,
            "grid_template_rows": null,
            "height": null,
            "justify_content": null,
            "justify_items": null,
            "left": null,
            "margin": null,
            "max_height": null,
            "max_width": null,
            "min_height": null,
            "min_width": null,
            "object_fit": null,
            "object_position": null,
            "order": null,
            "overflow": null,
            "overflow_x": null,
            "overflow_y": null,
            "padding": null,
            "right": null,
            "top": null,
            "visibility": null,
            "width": null
          }
        },
        "9e7e346f934f4242ae708df9c4234666": {
          "model_module": "@jupyter-widgets/controls",
          "model_module_version": "1.5.0",
          "model_name": "HBoxModel",
          "state": {
            "_dom_classes": [],
            "_model_module": "@jupyter-widgets/controls",
            "_model_module_version": "1.5.0",
            "_model_name": "HBoxModel",
            "_view_count": null,
            "_view_module": "@jupyter-widgets/controls",
            "_view_module_version": "1.5.0",
            "_view_name": "HBoxView",
            "box_style": "",
            "children": [
              "IPY_MODEL_3c00db991be2495582f57bcd6190ec35",
              "IPY_MODEL_576b37a8542047cfba5388912c715792",
              "IPY_MODEL_2802f726517a46ddaa916dd658dcdfa8"
            ],
            "layout": "IPY_MODEL_8ee0654750064115b237bd0bdd0a9b42"
          }
        },
        "b6b6bbb796714ac7be25c4c3b758d01d": {
          "model_module": "@jupyter-widgets/controls",
          "model_module_version": "1.5.0",
          "model_name": "DescriptionStyleModel",
          "state": {
            "_model_module": "@jupyter-widgets/controls",
            "_model_module_version": "1.5.0",
            "_model_name": "DescriptionStyleModel",
            "_view_count": null,
            "_view_module": "@jupyter-widgets/base",
            "_view_module_version": "1.2.0",
            "_view_name": "StyleView",
            "description_width": ""
          }
        }
      }
    }
  },
  "nbformat": 4,
  "nbformat_minor": 0
}
