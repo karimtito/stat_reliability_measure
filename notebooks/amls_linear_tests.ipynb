{
 "cells": [
  {
   "cell_type": "code",
   "execution_count": 5,
   "metadata": {},
   "outputs": [],
   "source": [
    "import numpy as np\n",
    "import pandas as pd\n",
    "import matplotlib.pyplot as plt\n",
    "from scipy.special import betainc\n",
    "import scipy.stats as stat\n",
    "from time import time\n",
    "import numpy.linalg as LA\n",
    "import scipy.stats as stat\n",
    "from stat_reliability_measure.dev.utils import dichotomic_search\n",
    "from stat_reliability_measure.dev.langevin_utils import project_ball\n"
   ]
  },
  {
   "cell_type": "code",
   "execution_count": 6,
   "metadata": {},
   "outputs": [],
   "source": [
    "d = 784\n",
    "p_t=1e-3\n",
    "epsilon=1\n",
    "e_1 = np.array([1]+[0]*(d-1))\n",
    "\n",
    "    \n",
    "p_target=lambda h: 0.5*betainc(0.5*(d+1),0.5,(2*epsilon*h-h**2)/(epsilon**2))\n",
    "co_c,P_target = dichotomic_search(f=p_target,a=0,b=1,thresh=p_t )\n",
    "assert np.isclose(a=p_t, b=P_target), \"The dichotomic search was not precise enough.\"\n",
    "c=1-co_c\n",
    "h_batch= lambda X: -np.clip(c-X[:,0],a_min=0, a_max = np.inf)\n",
    "tau=0\n",
    "prjct_epsilon = lambda X: project_ball(X, R=epsilon)\n",
    "\n",
    "big_gen=lambda N: np.random.normal(size= (N,d+2))\n",
    "norm_and_select= lambda X: (X/LA.norm(X, axis=1)[:,None])[:,:d] \n",
    "X_gen = lambda N: epsilon*norm_and_select(big_gen(N))\n"
   ]
  },
  {
   "cell_type": "code",
   "execution_count": null,
   "metadata": {},
   "outputs": [],
   "source": []
  }
 ],
 "metadata": {
  "interpreter": {
   "hash": "bc988435c4b631969eb5fce6943044c00d5bb2dcddaf96f4811676fc0db79e94"
  },
  "kernelspec": {
   "display_name": "Python 3.7.9 64-bit ('deep_learning_env': conda)",
   "language": "python",
   "name": "python3"
  },
  "language_info": {
   "codemirror_mode": {
    "name": "ipython",
    "version": 3
   },
   "file_extension": ".py",
   "mimetype": "text/x-python",
   "name": "python",
   "nbconvert_exporter": "python",
   "pygments_lexer": "ipython3",
   "version": "3.7.9"
  },
  "orig_nbformat": 4
 },
 "nbformat": 4,
 "nbformat_minor": 2
}
