{
 "cells": [
  {
   "attachments": {},
   "cell_type": "markdown",
   "metadata": {},
   "source": [
    "## Test fonction run exp"
   ]
  },
  {
   "attachments": {},
   "cell_type": "markdown",
   "metadata": {},
   "source": [
    "### 1. Imports"
   ]
  },
  {
   "cell_type": "code",
   "execution_count": 1,
   "metadata": {},
   "outputs": [],
   "source": [
    "import torch\n",
    "import math\n",
    "\n",
    "import stat_reliability_measure.config as config_\n",
    "from importlib import reload\n",
    "import matplotlib.pyplot as plt"
   ]
  },
  {
   "cell_type": "code",
   "execution_count": 2,
   "metadata": {},
   "outputs": [],
   "source": [
    "import stat_reliability_measure.dev.torch_utils as t_u\n",
    "\n",
    "from stat_reliability_measure.dev.amls.amls_config import MLS_SMC_Config\n",
    "import stat_reliability_measure.dev.utils as utils\n",
    "import stat_reliability_measure.run_exp as run_exp\n",
    "from stat_reliability_measure.config import Exp2Config\n",
    "import stat_reliability_measure.dev.smc.smc_pyt as smc_pyt\n",
    "import stat_reliability_measure.dev.smc.smc_config as smc_config\n",
    "\n",
    "import stat_reliability_measure.dev.amls.amls_pyt as amls_pyt\n",
    "import stat_reliability_measure.dev.form.form_pyt as form_pyt\n",
    "import stat_reliability_measure.dev.amls.amls_config as amls_config \n",
    "import stat_reliability_measure.dev.mls.webb_config as webb_config\n",
    "import stat_reliability_measure.dev.form.form_config as form_config\n",
    "import stat_reliability_measure.dev.mls.amls_uniform as amls_webb\n",
    "import stat_reliability_measure.dev.mc.mc_pyt as mc_pyt\n",
    "import stat_reliability_measure.dev.mc.mc_config as mc_config\n",
    "import stat_reliability_measure.dev.hmls.hmls_pyt as hmls_pyt\n",
    "import stat_reliability_measure.dev.hmls.hmls_config as hmls_config\n",
    "\n",
    "import stat_reliability_measure.dev.torch_arch as t_a\n",
    "from stat_reliability_measure.dev.utils import range_vars,simple_vars\n",
    "import pandas as pd\n",
    "import numpy as np\n",
    "import os \n",
    "from stat_reliability_measure.home import ROOT_DIR as rd"
   ]
  },
  {
   "attachments": {},
   "cell_type": "markdown",
   "metadata": {},
   "source": [
    "### 2. Model & Data load"
   ]
  },
  {
   "cell_type": "code",
   "execution_count": 3,
   "metadata": {},
   "outputs": [],
   "source": [
    "reload(config_)\n",
    "device = torch.device(\"cuda:0\" if torch.cuda.is_available() else \"cpu\")"
   ]
  },
  {
   "cell_type": "code",
   "execution_count": 4,
   "metadata": {},
   "outputs": [
    {
     "data": {
      "text/plain": [
       "dnn2(\n",
       "  (linear1): Linear(in_features=784, out_features=200, bias=True)\n",
       "  (linear2): Linear(in_features=200, out_features=10, bias=True)\n",
       "  (flat_op): Flatten()\n",
       ")"
      ]
     },
     "execution_count": 4,
     "metadata": {},
     "output_type": "execute_result"
    }
   ],
   "source": [
    "model = t_a.dnn2()\n",
    "model.load_state_dict(torch.load('./model_dnn2_release.pt'))\n",
    "model.to(device)\n",
    "model.eval()"
   ]
  },
  {
   "cell_type": "code",
   "execution_count": 5,
   "metadata": {},
   "outputs": [],
   "source": [
    "config = Exp2Config(method_name=\"amls_webb\", model=model)"
   ]
  },
  {
   "cell_type": "code",
   "execution_count": 6,
   "metadata": {},
   "outputs": [],
   "source": [
    "config.update()\n",
    "os.rmdir(config.exp_log_path)"
   ]
  },
  {
   "cell_type": "code",
   "execution_count": 7,
   "metadata": {},
   "outputs": [],
   "source": [
    "X,y = config.X[:1], config.y[:1]"
   ]
  },
  {
   "cell_type": "code",
   "execution_count": 8,
   "metadata": {},
   "outputs": [
    {
     "data": {
      "text/plain": [
       "0.9921875"
      ]
     },
     "execution_count": 8,
     "metadata": {},
     "output_type": "execute_result"
    }
   ],
   "source": [
    "config.sample_accuracy"
   ]
  },
  {
   "attachments": {},
   "cell_type": "markdown",
   "metadata": {},
   "source": [
    "## 3. Experiments with MALA-SMC, ours implementation and Webb's implementation of AMLS algorithm"
   ]
  },
  {
   "cell_type": "code",
   "execution_count": 9,
   "metadata": {},
   "outputs": [],
   "source": [
    "epsilon_range=[00.18]\n",
    "dataset='mnist'\n",
    "n_rep = 100 \n",
    "method_ref='MALA_SMC'\n",
    "N_ref = 8000\n",
    "T_ref = 200\n",
    "ess_ref = 0.9\n",
    "alpha_ref = 0.25\n",
    "n_rep_ref = 200"
   ]
  },
  {
   "cell_type": "code",
   "execution_count": 10,
   "metadata": {},
   "outputs": [],
   "source": [
    "X.requires_grad = True"
   ]
  },
  {
   "cell_type": "code",
   "execution_count": 11,
   "metadata": {},
   "outputs": [],
   "source": [
    "x_0 = X[0]"
   ]
  },
  {
   "cell_type": "code",
   "execution_count": 12,
   "metadata": {},
   "outputs": [
    {
     "name": "stdout",
     "output_type": "stream",
     "text": [
      "with parameters in {'N_range': [4000], 'T_range': [200], 'ess_alpha_range': [0.9], 'alpha_range': [0.25], 'L_range': [1]}\n",
      "Starting MALA_SMC simulation 1/1, with model: mnist_model, img_idx:0,eps:0.18,N: 4000: T: 200: ess_alpha: 0.9: alpha: 0.25: L: 1\n"
     ]
    },
    {
     "name": "stderr",
     "output_type": "stream",
     "text": [
      "  9%|███▊                                       | 9/100 [00:10<01:41,  1.12s/it]\n"
     ]
    },
    {
     "ename": "KeyboardInterrupt",
     "evalue": "",
     "output_type": "error",
     "traceback": [
      "\u001b[0;31m---------------------------------------------------------------------------\u001b[0m",
      "\u001b[0;31mKeyboardInterrupt\u001b[0m                         Traceback (most recent call last)",
      "Cell \u001b[0;32mIn[12], line 1\u001b[0m\n\u001b[0;32m----> 1\u001b[0m p_ref, dict_out \u001b[38;5;241m=\u001b[39m \u001b[43mrun_exp\u001b[49m\u001b[38;5;241;43m.\u001b[39;49m\u001b[43mrun_stat_rel_exp\u001b[49m\u001b[43m(\u001b[49m\u001b[43mmodel\u001b[49m\u001b[38;5;241;43m=\u001b[39;49m\u001b[43mmodel\u001b[49m\u001b[43m,\u001b[49m\u001b[43mX\u001b[49m\u001b[38;5;241;43m=\u001b[39;49m\u001b[43mX\u001b[49m\u001b[43m,\u001b[49m\u001b[43my\u001b[49m\u001b[38;5;241;43m=\u001b[39;49m\u001b[43my\u001b[49m\u001b[43m,\u001b[49m\u001b[43m \u001b[49m\n\u001b[1;32m      2\u001b[0m \u001b[43m                                                \u001b[49m\u001b[43mrepeat_exp\u001b[49m\u001b[38;5;241;43m=\u001b[39;49m\u001b[38;5;28;43;01mTrue\u001b[39;49;00m\u001b[43m,\u001b[49m\n\u001b[1;32m      3\u001b[0m \u001b[43m                                             \u001b[49m\u001b[43mmethod\u001b[49m\u001b[38;5;241;43m=\u001b[39;49m\u001b[38;5;124;43m'\u001b[39;49m\u001b[38;5;124;43mmala\u001b[39;49m\u001b[38;5;124;43m'\u001b[39;49m\u001b[43m,\u001b[49m\u001b[43m \u001b[49m\u001b[43mdataset_name\u001b[49m\u001b[38;5;241;43m=\u001b[39;49m\u001b[43mdataset\u001b[49m\u001b[43m,\u001b[49m\u001b[43mn_rep\u001b[49m\u001b[38;5;241;43m=\u001b[39;49m\u001b[38;5;241;43m100\u001b[39;49m\u001b[43m,\u001b[49m\n\u001b[1;32m      4\u001b[0m \u001b[43m                                \u001b[49m\u001b[43mepsilon_range\u001b[49m\u001b[38;5;241;43m=\u001b[39;49m\u001b[43mepsilon_range\u001b[49m\u001b[43m,\u001b[49m\u001b[43m \u001b[49m\u001b[43mupdate_aggr_res\u001b[49m\u001b[38;5;241;43m=\u001b[39;49m\u001b[38;5;28;43;01mTrue\u001b[39;49;00m\u001b[43m \u001b[49m\u001b[43m,\u001b[49m\u001b[43mtrack_accept\u001b[49m\u001b[38;5;241;43m=\u001b[39;49m\u001b[38;5;28;43;01mFalse\u001b[39;49;00m\u001b[43m,\u001b[49m\n\u001b[1;32m      5\u001b[0m \u001b[43m                                \u001b[49m\u001b[43mN_range\u001b[49m\u001b[38;5;241;43m=\u001b[39;49m\u001b[43m[\u001b[49m\u001b[43mN_ref\u001b[49m\u001b[43m]\u001b[49m\u001b[43m,\u001b[49m\u001b[43m \u001b[49m\u001b[43mT_range\u001b[49m\u001b[43m \u001b[49m\u001b[38;5;241;43m=\u001b[39;49m\u001b[43m[\u001b[49m\u001b[43mT_ref\u001b[49m\u001b[43m]\u001b[49m\u001b[43m,\u001b[49m\u001b[43mess_alpha\u001b[49m\u001b[43m \u001b[49m\u001b[38;5;241;43m=\u001b[39;49m\u001b[43m \u001b[49m\u001b[43mess_ref\u001b[49m\u001b[43m,\u001b[49m\u001b[43malpha\u001b[49m\u001b[38;5;241;43m=\u001b[39;49m\u001b[43malpha_ref\u001b[49m\u001b[43m)\u001b[49m\n",
      "File \u001b[0;32m/nfs/nas4/bbonnet/bbonnet/ktit/stat_reliability_measure/run_exp.py:258\u001b[0m, in \u001b[0;36mrun_stat_rel_exp\u001b[0;34m(model, X, y, method, epsilon_range, noise_dist, dataset_name, model_name, verbose, x_min, x_max, mask_opt, mask_idx, mask_cond, p_ref, log_hist_, aggr_res_path, batch_opt, log_txt_, exp_config, method_config, smc_multi, **kwargs)\u001b[0m\n\u001b[1;32m    256\u001b[0m args_dict \u001b[38;5;241m=\u001b[39m {\u001b[38;5;241m*\u001b[39m\u001b[38;5;241m*\u001b[39mfunc_args_vars,\u001b[38;5;241m*\u001b[39m\u001b[38;5;241m*\u001b[39mexp_required}\n\u001b[1;32m    257\u001b[0m method_config\u001b[38;5;241m.\u001b[39mupdate()\n\u001b[0;32m--> 258\u001b[0m \u001b[38;5;28;01mfor\u001b[39;00m i \u001b[38;5;129;01min\u001b[39;00m iterator:\n\u001b[1;32m    259\u001b[0m     t\u001b[38;5;241m=\u001b[39mtime()\n\u001b[1;32m    260\u001b[0m     p_est,dict_out\u001b[38;5;241m=\u001b[39mestimation_func(\u001b[38;5;241m*\u001b[39m\u001b[38;5;241m*\u001b[39margs_dict,)\n",
      "File \u001b[0;32m/usr/local/lib/python3.10/dist-packages/tqdm/std.py:1192\u001b[0m, in \u001b[0;36mtqdm.__iter__\u001b[0;34m(self)\u001b[0m\n\u001b[1;32m   1190\u001b[0m dt \u001b[38;5;241m=\u001b[39m cur_t \u001b[38;5;241m-\u001b[39m last_print_t\n\u001b[1;32m   1191\u001b[0m \u001b[38;5;28;01mif\u001b[39;00m dt \u001b[38;5;241m>\u001b[39m\u001b[38;5;241m=\u001b[39m mininterval \u001b[38;5;129;01mand\u001b[39;00m cur_t \u001b[38;5;241m>\u001b[39m\u001b[38;5;241m=\u001b[39m min_start_t:\n\u001b[0;32m-> 1192\u001b[0m     \u001b[38;5;28;43mself\u001b[39;49m\u001b[38;5;241;43m.\u001b[39;49m\u001b[43mupdate\u001b[49m\u001b[43m(\u001b[49m\u001b[43mn\u001b[49m\u001b[43m \u001b[49m\u001b[38;5;241;43m-\u001b[39;49m\u001b[43m \u001b[49m\u001b[43mlast_print_n\u001b[49m\u001b[43m)\u001b[49m\n\u001b[1;32m   1193\u001b[0m     last_print_n \u001b[38;5;241m=\u001b[39m \u001b[38;5;28mself\u001b[39m\u001b[38;5;241m.\u001b[39mlast_print_n\n\u001b[1;32m   1194\u001b[0m     last_print_t \u001b[38;5;241m=\u001b[39m \u001b[38;5;28mself\u001b[39m\u001b[38;5;241m.\u001b[39mlast_print_t\n",
      "File \u001b[0;32m/usr/local/lib/python3.10/dist-packages/tqdm/std.py:1243\u001b[0m, in \u001b[0;36mtqdm.update\u001b[0;34m(self, n)\u001b[0m\n\u001b[1;32m   1241\u001b[0m     \u001b[38;5;28mself\u001b[39m\u001b[38;5;241m.\u001b[39m_ema_dn(dn)\n\u001b[1;32m   1242\u001b[0m     \u001b[38;5;28mself\u001b[39m\u001b[38;5;241m.\u001b[39m_ema_dt(dt)\n\u001b[0;32m-> 1243\u001b[0m \u001b[38;5;28;43mself\u001b[39;49m\u001b[38;5;241;43m.\u001b[39;49m\u001b[43mrefresh\u001b[49m\u001b[43m(\u001b[49m\u001b[43mlock_args\u001b[49m\u001b[38;5;241;43m=\u001b[39;49m\u001b[38;5;28;43mself\u001b[39;49m\u001b[38;5;241;43m.\u001b[39;49m\u001b[43mlock_args\u001b[49m\u001b[43m)\u001b[49m\n\u001b[1;32m   1244\u001b[0m \u001b[38;5;28;01mif\u001b[39;00m \u001b[38;5;28mself\u001b[39m\u001b[38;5;241m.\u001b[39mdynamic_miniters:\n\u001b[1;32m   1245\u001b[0m     \u001b[38;5;66;03m# If no `miniters` was specified, adjust automatically to the\u001b[39;00m\n\u001b[1;32m   1246\u001b[0m     \u001b[38;5;66;03m# maximum iteration rate seen so far between two prints.\u001b[39;00m\n\u001b[1;32m   1247\u001b[0m     \u001b[38;5;66;03m# e.g.: After running `tqdm.update(5)`, subsequent\u001b[39;00m\n\u001b[1;32m   1248\u001b[0m     \u001b[38;5;66;03m# calls to `tqdm.update()` will only cause an update after\u001b[39;00m\n\u001b[1;32m   1249\u001b[0m     \u001b[38;5;66;03m# at least 5 more iterations.\u001b[39;00m\n\u001b[1;32m   1250\u001b[0m     \u001b[38;5;28;01mif\u001b[39;00m \u001b[38;5;28mself\u001b[39m\u001b[38;5;241m.\u001b[39mmaxinterval \u001b[38;5;129;01mand\u001b[39;00m dt \u001b[38;5;241m>\u001b[39m\u001b[38;5;241m=\u001b[39m \u001b[38;5;28mself\u001b[39m\u001b[38;5;241m.\u001b[39mmaxinterval:\n",
      "File \u001b[0;32m/usr/local/lib/python3.10/dist-packages/tqdm/std.py:1348\u001b[0m, in \u001b[0;36mtqdm.refresh\u001b[0;34m(self, nolock, lock_args)\u001b[0m\n\u001b[1;32m   1346\u001b[0m     \u001b[38;5;28;01melse\u001b[39;00m:\n\u001b[1;32m   1347\u001b[0m         \u001b[38;5;28mself\u001b[39m\u001b[38;5;241m.\u001b[39m_lock\u001b[38;5;241m.\u001b[39macquire()\n\u001b[0;32m-> 1348\u001b[0m \u001b[38;5;28;43mself\u001b[39;49m\u001b[38;5;241;43m.\u001b[39;49m\u001b[43mdisplay\u001b[49m\u001b[43m(\u001b[49m\u001b[43m)\u001b[49m\n\u001b[1;32m   1349\u001b[0m \u001b[38;5;28;01mif\u001b[39;00m \u001b[38;5;129;01mnot\u001b[39;00m nolock:\n\u001b[1;32m   1350\u001b[0m     \u001b[38;5;28mself\u001b[39m\u001b[38;5;241m.\u001b[39m_lock\u001b[38;5;241m.\u001b[39mrelease()\n",
      "File \u001b[0;32m/usr/local/lib/python3.10/dist-packages/tqdm/std.py:1496\u001b[0m, in \u001b[0;36mtqdm.display\u001b[0;34m(self, msg, pos)\u001b[0m\n\u001b[1;32m   1494\u001b[0m \u001b[38;5;28;01mif\u001b[39;00m pos:\n\u001b[1;32m   1495\u001b[0m     \u001b[38;5;28mself\u001b[39m\u001b[38;5;241m.\u001b[39mmoveto(pos)\n\u001b[0;32m-> 1496\u001b[0m \u001b[38;5;28;43mself\u001b[39;49m\u001b[38;5;241;43m.\u001b[39;49m\u001b[43msp\u001b[49m\u001b[43m(\u001b[49m\u001b[38;5;28;43mself\u001b[39;49m\u001b[38;5;241;43m.\u001b[39;49m\u001b[38;5;21;43m__str__\u001b[39;49m\u001b[43m(\u001b[49m\u001b[43m)\u001b[49m\u001b[43m \u001b[49m\u001b[38;5;28;43;01mif\u001b[39;49;00m\u001b[43m \u001b[49m\u001b[43mmsg\u001b[49m\u001b[43m \u001b[49m\u001b[38;5;129;43;01mis\u001b[39;49;00m\u001b[43m \u001b[49m\u001b[38;5;28;43;01mNone\u001b[39;49;00m\u001b[43m \u001b[49m\u001b[38;5;28;43;01melse\u001b[39;49;00m\u001b[43m \u001b[49m\u001b[43mmsg\u001b[49m\u001b[43m)\u001b[49m\n\u001b[1;32m   1497\u001b[0m \u001b[38;5;28;01mif\u001b[39;00m pos:\n\u001b[1;32m   1498\u001b[0m     \u001b[38;5;28mself\u001b[39m\u001b[38;5;241m.\u001b[39mmoveto(\u001b[38;5;241m-\u001b[39mpos)\n",
      "File \u001b[0;32m/usr/local/lib/python3.10/dist-packages/tqdm/std.py:462\u001b[0m, in \u001b[0;36mtqdm.status_printer.<locals>.print_status\u001b[0;34m(s)\u001b[0m\n\u001b[1;32m    460\u001b[0m \u001b[38;5;28;01mdef\u001b[39;00m \u001b[38;5;21mprint_status\u001b[39m(s):\n\u001b[1;32m    461\u001b[0m     len_s \u001b[38;5;241m=\u001b[39m disp_len(s)\n\u001b[0;32m--> 462\u001b[0m     \u001b[43mfp_write\u001b[49m\u001b[43m(\u001b[49m\u001b[38;5;124;43m'\u001b[39;49m\u001b[38;5;130;43;01m\\r\u001b[39;49;00m\u001b[38;5;124;43m'\u001b[39;49m\u001b[43m \u001b[49m\u001b[38;5;241;43m+\u001b[39;49m\u001b[43m \u001b[49m\u001b[43ms\u001b[49m\u001b[43m \u001b[49m\u001b[38;5;241;43m+\u001b[39;49m\u001b[43m \u001b[49m\u001b[43m(\u001b[49m\u001b[38;5;124;43m'\u001b[39;49m\u001b[38;5;124;43m \u001b[39;49m\u001b[38;5;124;43m'\u001b[39;49m\u001b[43m \u001b[49m\u001b[38;5;241;43m*\u001b[39;49m\u001b[43m \u001b[49m\u001b[38;5;28;43mmax\u001b[39;49m\u001b[43m(\u001b[49m\u001b[43mlast_len\u001b[49m\u001b[43m[\u001b[49m\u001b[38;5;241;43m0\u001b[39;49m\u001b[43m]\u001b[49m\u001b[43m \u001b[49m\u001b[38;5;241;43m-\u001b[39;49m\u001b[43m \u001b[49m\u001b[43mlen_s\u001b[49m\u001b[43m,\u001b[49m\u001b[43m \u001b[49m\u001b[38;5;241;43m0\u001b[39;49m\u001b[43m)\u001b[49m\u001b[43m)\u001b[49m\u001b[43m)\u001b[49m\n\u001b[1;32m    463\u001b[0m     last_len[\u001b[38;5;241m0\u001b[39m] \u001b[38;5;241m=\u001b[39m len_s\n",
      "File \u001b[0;32m/usr/local/lib/python3.10/dist-packages/tqdm/std.py:456\u001b[0m, in \u001b[0;36mtqdm.status_printer.<locals>.fp_write\u001b[0;34m(s)\u001b[0m\n\u001b[1;32m    454\u001b[0m \u001b[38;5;28;01mdef\u001b[39;00m \u001b[38;5;21mfp_write\u001b[39m(s):\n\u001b[1;32m    455\u001b[0m     fp\u001b[38;5;241m.\u001b[39mwrite(\u001b[38;5;28mstr\u001b[39m(s))\n\u001b[0;32m--> 456\u001b[0m     \u001b[43mfp_flush\u001b[49m\u001b[43m(\u001b[49m\u001b[43m)\u001b[49m\n",
      "File \u001b[0;32m/usr/local/lib/python3.10/dist-packages/tqdm/utils.py:195\u001b[0m, in \u001b[0;36mDisableOnWriteError.disable_on_exception.<locals>.inner\u001b[0;34m(*args, **kwargs)\u001b[0m\n\u001b[1;32m    193\u001b[0m \u001b[38;5;28;01mdef\u001b[39;00m \u001b[38;5;21minner\u001b[39m(\u001b[38;5;241m*\u001b[39margs, \u001b[38;5;241m*\u001b[39m\u001b[38;5;241m*\u001b[39mkwargs):\n\u001b[1;32m    194\u001b[0m     \u001b[38;5;28;01mtry\u001b[39;00m:\n\u001b[0;32m--> 195\u001b[0m         \u001b[38;5;28;01mreturn\u001b[39;00m \u001b[43mfunc\u001b[49m\u001b[43m(\u001b[49m\u001b[38;5;241;43m*\u001b[39;49m\u001b[43margs\u001b[49m\u001b[43m,\u001b[49m\u001b[43m \u001b[49m\u001b[38;5;241;43m*\u001b[39;49m\u001b[38;5;241;43m*\u001b[39;49m\u001b[43mkwargs\u001b[49m\u001b[43m)\u001b[49m\n\u001b[1;32m    196\u001b[0m     \u001b[38;5;28;01mexcept\u001b[39;00m \u001b[38;5;167;01mOSError\u001b[39;00m \u001b[38;5;28;01mas\u001b[39;00m e:\n\u001b[1;32m    197\u001b[0m         \u001b[38;5;28;01mif\u001b[39;00m e\u001b[38;5;241m.\u001b[39merrno \u001b[38;5;241m!=\u001b[39m \u001b[38;5;241m5\u001b[39m:\n",
      "File \u001b[0;32m/usr/local/lib/python3.10/dist-packages/ipykernel/iostream.py:547\u001b[0m, in \u001b[0;36mOutStream.flush\u001b[0;34m(self)\u001b[0m\n\u001b[1;32m    543\u001b[0m         \u001b[38;5;28mself\u001b[39m\u001b[38;5;241m.\u001b[39m_io_loop\u001b[38;5;241m.\u001b[39mcall_later(\u001b[38;5;28mself\u001b[39m\u001b[38;5;241m.\u001b[39mflush_interval, \u001b[38;5;28mself\u001b[39m\u001b[38;5;241m.\u001b[39m_flush)\n\u001b[1;32m    545\u001b[0m     \u001b[38;5;28mself\u001b[39m\u001b[38;5;241m.\u001b[39mpub_thread\u001b[38;5;241m.\u001b[39mschedule(_schedule_in_thread)\n\u001b[0;32m--> 547\u001b[0m \u001b[38;5;28;01mdef\u001b[39;00m \u001b[38;5;21mflush\u001b[39m(\u001b[38;5;28mself\u001b[39m):\n\u001b[1;32m    548\u001b[0m \u001b[38;5;250m    \u001b[39m\u001b[38;5;124;03m\"\"\"trigger actual zmq send\u001b[39;00m\n\u001b[1;32m    549\u001b[0m \n\u001b[1;32m    550\u001b[0m \u001b[38;5;124;03m    send will happen in the background thread\u001b[39;00m\n\u001b[1;32m    551\u001b[0m \u001b[38;5;124;03m    \"\"\"\u001b[39;00m\n\u001b[1;32m    552\u001b[0m     \u001b[38;5;28;01mif\u001b[39;00m (\n\u001b[1;32m    553\u001b[0m         \u001b[38;5;28mself\u001b[39m\u001b[38;5;241m.\u001b[39mpub_thread\n\u001b[1;32m    554\u001b[0m         \u001b[38;5;129;01mand\u001b[39;00m \u001b[38;5;28mself\u001b[39m\u001b[38;5;241m.\u001b[39mpub_thread\u001b[38;5;241m.\u001b[39mthread \u001b[38;5;129;01mis\u001b[39;00m \u001b[38;5;129;01mnot\u001b[39;00m \u001b[38;5;28;01mNone\u001b[39;00m\n\u001b[0;32m   (...)\u001b[0m\n\u001b[1;32m    557\u001b[0m     ):\n\u001b[1;32m    558\u001b[0m         \u001b[38;5;66;03m# request flush on the background thread\u001b[39;00m\n",
      "\u001b[0;31mKeyboardInterrupt\u001b[0m: "
     ]
    }
   ],
   "source": [
    "p_ref, dict_out = run_exp.run_stat_rel_exp(model=model,X=X,y=y, \n",
    "                                                repeat_exp=True,\n",
    "                                             method='mala', dataset_name=dataset,n_rep=100,\n",
    "                                epsilon_range=epsilon_range, update_aggr_res=True ,track_accept=False,\n",
    "                                N_range=[N_ref], T_range =[T_ref],ess_alpha = ess_ref,alpha=alpha_ref)"
   ]
  },
  {
   "cell_type": "markdown",
   "metadata": {},
   "source": [
    "2.04s/it"
   ]
  },
  {
   "cell_type": "code",
   "execution_count": 13,
   "metadata": {},
   "outputs": [
    {
     "data": {
      "text/plain": [
       "(1.939310084253521e-07, 1.0952103553047292e-08)"
      ]
     },
     "execution_count": 13,
     "metadata": {},
     "output_type": "execute_result"
    }
   ],
   "source": [
    "agg_res_df = pd.read_csv(f'{rd}/logs/exp_2_mnist/aggr_res.csv')\n",
    "ref_exp = utils.get_sel_df(df=agg_res_df, triplets=[('method_name',method_ref,'='),('n_rep',n_rep_ref,'='),\n",
    "                                                    ('epsilon',epsilon_range[0],'='),\n",
    "        ('N',N_ref,'='),('T',T_ref,'='),('alpha',alpha_ref,'='), ])\n",
    "p_ref,std_ref =ref_exp['mean_est'].values[0], ref_exp['std_est'].values[0]\n",
    "p_ref,std_ref"
   ]
  },
  {
   "cell_type": "code",
   "execution_count": 79,
   "metadata": {},
   "outputs": [
    {
     "data": {
      "text/plain": [
       "<module 'stat_reliability_measure.dev.hmls.hmls_pyt' from '/home/karim-tito/stat_reliability_measure/dev/hmls/hmls_pyt.py'>"
      ]
     },
     "execution_count": 79,
     "metadata": {},
     "output_type": "execute_result"
    }
   ],
   "source": [
    "reload(amls_config)\n",
    "reload(config_)\n",
    "reload(webb_config)\n",
    "reload(amls_webb)\n",
    "reload(amls_pyt)\n",
    "reload(smc_pyt)\n",
    "reload(run_exp)\n",
    "reload(form_config)\n",
    "reload(t_u)\n",
    "reload(form_pyt)\n",
    "reload(mc_config)\n",
    "reload(mc_pyt)\n",
    "reload(hmls_config)\n",
    "reload(hmls_pyt)"
   ]
  },
  {
   "cell_type": "code",
   "execution_count": null,
   "metadata": {},
   "outputs": [
    {
     "name": "stdout",
     "output_type": "stream",
     "text": [
      "[[200, 500, 1000], [5, 10, 20], [0.5], [0.2], [1]]\n",
      "{'N_range': [200, 500, 1000], 'T_range': [5, 10, 20], 'ratio_range': [0.5], 'alpha_range': [0.2], 'L_range': [1]}\n",
      "Experiment already done for method: HMLS\n",
      "Starting HMLS simulation 1/9, with model: mnist_model, img_idx:0,eps:0.18,N: 200: T: 5: ratio: 0.5: alpha: 0.2: L: 1\n"
     ]
    },
    {
     "name": "stderr",
     "output_type": "stream",
     "text": [
      "100%|█████████████████████████████████████████| 200/200 [05:32<00:00,  1.66s/it]\n"
     ]
    },
    {
     "name": "stdout",
     "output_type": "stream",
     "text": [
      "mean est:2.0567476749420166e-07, std est:7.692223798436203e-08\n",
      "mean calls:55100.0\n",
      "std. re.:1818401.9192856152\n",
      "std. rel. adj.:100193945752.6374\n",
      "mean rel. error:0.3084016273576815\n",
      "std rel. error:0.25668015583233655\n",
      "stat performance (per 1k calls):14.143076586361744\n",
      "Experiment already done for method: HMLS\n",
      "Starting HMLS simulation 2/9, with model: mnist_model, img_idx:0,eps:0.18,N: 200: T: 10: ratio: 0.5: alpha: 0.2: L: 1\n"
     ]
    },
    {
     "name": "stderr",
     "output_type": "stream",
     "text": [
      "100%|█████████████████████████████████████████| 200/200 [08:15<00:00,  2.48s/it]\n"
     ]
    },
    {
     "name": "stdout",
     "output_type": "stream",
     "text": [
      "mean est:1.9364058971405028e-07, std est:6.903411752663601e-08\n",
      "mean calls:82700.0\n",
      "std. re.:1841072.8959672328\n",
      "std. rel. adj.:152256728496.49014\n",
      "mean rel. error:0.2712563714317559\n",
      "std rel. error:0.23051830084326447\n",
      "stat performance (per 1k calls):19.06386347973797\n",
      "Experiment already done for method: HMLS\n",
      "Starting HMLS simulation 3/9, with model: mnist_model, img_idx:0,eps:0.18,N: 200: T: 20: ratio: 0.5: alpha: 0.2: L: 1\n"
     ]
    },
    {
     "name": "stderr",
     "output_type": "stream",
     "text": [
      "100%|█████████████████████████████████████████| 200/200 [09:11<00:00,  2.76s/it]\n"
     ]
    },
    {
     "name": "stdout",
     "output_type": "stream",
     "text": [
      "mean est:1.9733607769012454e-07, std est:6.302449077574958e-08\n",
      "mean calls:92962.5\n",
      "std. re.:1618439.0990230483\n",
      "std. rel. adj.:150454144742.9301\n",
      "mean rel. error:0.24806887364071784\n",
      "std rel. error:0.21067694732715528\n",
      "stat performance (per 1k calls):19.585055715900673\n",
      "Experiment already done for method: HMLS\n",
      "Starting HMLS simulation 4/9, with model: mnist_model, img_idx:0,eps:0.18,N: 500: T: 5: ratio: 0.5: alpha: 0.2: L: 1\n"
     ]
    },
    {
     "name": "stderr",
     "output_type": "stream",
     "text": [
      "100%|█████████████████████████████████████████| 200/200 [05:37<00:00,  1.69s/it]\n"
     ]
    },
    {
     "name": "stdout",
     "output_type": "stream",
     "text": [
      "mean est:1.9420146942138673e-07, std est:4.142772948308218e-08\n",
      "mean calls:138281.25\n",
      "std. re.:1098464.7082950308\n",
      "std. rel. adj.:151897072943.9222\n",
      "mean rel. error:0.17528770300488403\n",
      "std rel. error:0.12210685298452359\n",
      "stat performance (per 1k calls):16.88508826426615\n",
      "Experiment already done for method: HMLS\n",
      "Starting HMLS simulation 5/9, with model: mnist_model, img_idx:0,eps:0.18,N: 500: T: 10: ratio: 0.5: alpha: 0.2: L: 1\n"
     ]
    },
    {
     "name": "stderr",
     "output_type": "stream",
     "text": [
      "100%|█████████████████████████████████████████| 200/200 [07:59<00:00,  2.40s/it]\n"
     ]
    },
    {
     "name": "stdout",
     "output_type": "stream",
     "text": [
      "mean est:1.9499540328979494e-07, std est:4.0892812889291475e-08\n",
      "mean calls:201493.75\n",
      "std. re.:1075469.845617903\n",
      "std. rel. adj.:216700452205.47232\n",
      "mean rel. error:0.1647079089979378\n",
      "std rel. error:0.13177442839646653\n",
      "stat performance (per 1k calls):26.551723731710528\n",
      "Experiment already done for method: HMLS\n",
      "Starting HMLS simulation 6/9, with model: mnist_model, img_idx:0,eps:0.18,N: 500: T: 20: ratio: 0.5: alpha: 0.2: L: 1\n"
     ]
    },
    {
     "name": "stderr",
     "output_type": "stream",
     "text": [
      "100%|█████████████████████████████████████████| 200/200 [08:58<00:00,  2.69s/it]\n"
     ]
    },
    {
     "name": "stdout",
     "output_type": "stream",
     "text": [
      "mean est:1.9472122192382813e-07, std est:4.283638923181013e-08\n",
      "mean calls:227281.25\n",
      "std. re.:1129760.2330010266\n",
      "std. rel. adj.:256773317956.76456\n",
      "mean rel. error:0.16891013242609912\n",
      "std rel. error:0.14239386730354525\n",
      "stat performance (per 1k calls):32.363456153083895\n",
      "Experiment already done for method: HMLS\n",
      "Starting HMLS simulation 7/9, with model: mnist_model, img_idx:0,eps:0.18,N: 1000: T: 5: ratio: 0.5: alpha: 0.2: L: 1\n"
     ]
    },
    {
     "name": "stderr",
     "output_type": "stream",
     "text": [
      "100%|█████████████████████████████████████████| 200/200 [05:27<00:00,  1.64s/it]\n"
     ]
    },
    {
     "name": "stdout",
     "output_type": "stream",
     "text": [
      "mean est:1.9309461116790773e-07, std est:3.183845645970625e-08\n",
      "mean calls:277062.5\n",
      "std. re.:853909.2090519283\n",
      "std. rel. adj.:236586220232.94986\n",
      "mean rel. error:0.1353552564477228\n",
      "std rel. error:0.09300915783832334\n",
      "stat performance (per 1k calls):25.76934979358046\n",
      "Experiment already done for method: HMLS\n",
      "Starting HMLS simulation 8/9, with model: mnist_model, img_idx:0,eps:0.18,N: 1000: T: 10: ratio: 0.5: alpha: 0.2: L: 1\n"
     ]
    },
    {
     "name": "stderr",
     "output_type": "stream",
     "text": [
      " 91%|█████████████████████████████████████▎   | 182/200 [07:09<00:42,  2.37s/it]"
     ]
    }
   ],
   "source": [
    "p_fail_mala, dict_out=run_exp.run_stat_rel_exp(model=model,method='hmls',X=X,y=y,dataset_name='mnist',\n",
    "                        n_rep=n_rep_ref, verbose=0, track_accept=False,ratio_range=[0.5],\n",
    "                        alpha=0.2, L_range=[1], only_duplicated=True,p_ref=p_ref,\n",
    "                         N_range=[200,500,1000],T_range=[5,10,20],epsilon_range=epsilon_range,repeat_exp=False,\n",
    " )\n",
    "\n",
    "\n",
    "exp_config,method_config_mala, agg_res_df = dict_out['exp_config'],dict_out['method_config'],dict_out['agg_res_df']\n",
    "results_df_mala = dict_out['results_df']\n",
    "print(f\"p_fail_mala={p_fail_mala}\")"
   ]
  },
  {
   "cell_type": "code",
   "execution_count": 36,
   "metadata": {},
   "outputs": [
    {
     "name": "stdout",
     "output_type": "stream",
     "text": [
      "[[300], [1000], [0.5]]\n",
      "Running reliability experiments on architecture custom trained on mnist.\n",
      "Testing uniform noise pertubation with epsilon in [0.18]\n",
      "{'N_range': [300], 'T_range': [1000], 'ratio_range': [0.5]}\n",
      "Starting MLS_Webb simulation 1/1, with model: mnist_model, img_idx:0,eps:0.18,N: 300: T: 1000: ratio: 0.5\n"
     ]
    },
    {
     "name": "stderr",
     "output_type": "stream",
     "text": [
      "  0%|          | 0/1 [00:00<?, ?it/s]"
     ]
    },
    {
     "name": "stderr",
     "output_type": "stream",
     "text": [
      "100%|██████████| 1/1 [01:06<00:00, 66.01s/it]\n"
     ]
    },
    {
     "name": "stdout",
     "output_type": "stream",
     "text": [
      "mean est:2.7179764612198727e-07, std est:0.0\n",
      "mean calls:6606600.0\n",
      "std. re.:0.0\n",
      "std. rel. adj.:0.0\n",
      "mean rel. error:0.39140589575978524\n",
      "std rel. error:0.0\n",
      "stat performance (per 1k calls):0.0\n",
      "p_fail_webb=2.7179764612198727e-07\n"
     ]
    }
   ],
   "source": [
    "p_fail_webb,dict_out=run_exp.run_stat_rel_exp(model=model,method='amls_webb',X=X,y=y,dataset_name=dataset,\n",
    "                        epsilon_range=epsilon_range, n_rep=1, update_aggr_res=False, p_ref=p_ref,\n",
    "                         N_range=[300],T_range=[1000,],ratio_range=[0.5,],repeat_exp=False,\n",
    "                        verbose=1,np_seed=0, torch_seed=0 ,)\n",
    "exp_config,method_config_webb, agg_res_df = dict_out['exp_config'],dict_out['method_config'],dict_out['agg_res_df']\n",
    "results_df_webb=dict_out['results_df']\n",
    "print(f\"p_fail_webb={p_fail_webb}\")"
   ]
  },
  {
   "cell_type": "code",
   "execution_count": 1,
   "metadata": {},
   "outputs": [
    {
     "ename": "NameError",
     "evalue": "name 'run_exp' is not defined",
     "output_type": "error",
     "traceback": [
      "\u001b[0;31m---------------------------------------------------------------------------\u001b[0m",
      "\u001b[0;31mNameError\u001b[0m                                 Traceback (most recent call last)",
      "\u001b[1;32m/home/karim-tito/stat_reliability_measure/tests/test_notebooks/test_run_exp.ipynb Cell 24\u001b[0m in \u001b[0;36m<cell line: 1>\u001b[0;34m()\u001b[0m\n\u001b[0;32m----> <a href='vscode-notebook-cell:/home/karim-tito/stat_reliability_measure/tests/test_notebooks/test_run_exp.ipynb#X32sZmlsZQ%3D%3D?line=0'>1</a>\u001b[0m p_fail_mls,dict_out\u001b[39m=\u001b[39mrun_exp\u001b[39m.\u001b[39mrun_stat_rel_exp(model\u001b[39m=\u001b[39mmodel,method\u001b[39m=\u001b[39m\u001b[39m'\u001b[39m\u001b[39mamls_batch\u001b[39m\u001b[39m'\u001b[39m,X\u001b[39m=\u001b[39mX,y\u001b[39m=\u001b[39my,dataset_name\u001b[39m=\u001b[39mdataset,\n\u001b[1;32m      <a href='vscode-notebook-cell:/home/karim-tito/stat_reliability_measure/tests/test_notebooks/test_run_exp.ipynb#X32sZmlsZQ%3D%3D?line=1'>2</a>\u001b[0m                         epsilon_range\u001b[39m=\u001b[39mepsilon_range, n_rep\u001b[39m=\u001b[39m\u001b[39m10\u001b[39m, update_aggr_res\u001b[39m=\u001b[39m\u001b[39mFalse\u001b[39;00m, \n\u001b[1;32m      <a href='vscode-notebook-cell:/home/karim-tito/stat_reliability_measure/tests/test_notebooks/test_run_exp.ipynb#X32sZmlsZQ%3D%3D?line=2'>3</a>\u001b[0m                          N_range\u001b[39m=\u001b[39m[\u001b[39m3000\u001b[39m, \n\u001b[1;32m      <a href='vscode-notebook-cell:/home/karim-tito/stat_reliability_measure/tests/test_notebooks/test_run_exp.ipynb#X32sZmlsZQ%3D%3D?line=3'>4</a>\u001b[0m                                   ],T_range\u001b[39m=\u001b[39m[\u001b[39m100\u001b[39m,\u001b[39m200\u001b[39m,\u001b[39m400\u001b[39m],ratio_range\u001b[39m=\u001b[39m[\u001b[39m0.5\u001b[39m,],repeat_exp\u001b[39m=\u001b[39m\u001b[39mFalse\u001b[39;00m,\n\u001b[1;32m      <a href='vscode-notebook-cell:/home/karim-tito/stat_reliability_measure/tests/test_notebooks/test_run_exp.ipynb#X32sZmlsZQ%3D%3D?line=4'>5</a>\u001b[0m                         verbose\u001b[39m=\u001b[39m\u001b[39m1\u001b[39m,np_seed\u001b[39m=\u001b[39m\u001b[39m0\u001b[39m, torch_seed\u001b[39m=\u001b[39m\u001b[39m0\u001b[39m,p_ref \u001b[39m=\u001b[39m p_ref)\n\u001b[1;32m      <a href='vscode-notebook-cell:/home/karim-tito/stat_reliability_measure/tests/test_notebooks/test_run_exp.ipynb#X32sZmlsZQ%3D%3D?line=5'>6</a>\u001b[0m exp_config,method_config_mls, agg_res_df \u001b[39m=\u001b[39m dict_out[\u001b[39m'\u001b[39m\u001b[39mexp_config\u001b[39m\u001b[39m'\u001b[39m],dict_out[\u001b[39m'\u001b[39m\u001b[39mmethod_config\u001b[39m\u001b[39m'\u001b[39m],dict_out[\u001b[39m'\u001b[39m\u001b[39magg_res_df\u001b[39m\u001b[39m'\u001b[39m]\n\u001b[1;32m      <a href='vscode-notebook-cell:/home/karim-tito/stat_reliability_measure/tests/test_notebooks/test_run_exp.ipynb#X32sZmlsZQ%3D%3D?line=6'>7</a>\u001b[0m results_df_mls \u001b[39m=\u001b[39m dict_out[\u001b[39m'\u001b[39m\u001b[39mresults_df\u001b[39m\u001b[39m'\u001b[39m]\n",
      "\u001b[0;31mNameError\u001b[0m: name 'run_exp' is not defined"
     ]
    }
   ],
   "source": [
    "p_fail_mls,dict_out=run_exp.run_stat_rel_exp(model=model,method='amls_batch',X=X,y=y,dataset_name=dataset,\n",
    "                        epsilon_range=epsilon_range, n_rep=10, update_aggr_res=False, \n",
    "                         N_range=[3000, \n",
    "                                  ],T_range=[100,200,400],ratio_range=[0.5,],repeat_exp=False,\n",
    "                        verbose=1,np_seed=0, torch_seed=0,p_ref = p_ref)\n",
    "exp_config,method_config_mls, agg_res_df = dict_out['exp_config'],dict_out['method_config'],dict_out['agg_res_df']\n",
    "results_df_mls = dict_out['results_df']\n",
    "print(f\"p_fail_mls: {p_fail_mls}\")"
   ]
  },
  {
   "cell_type": "code",
   "execution_count": null,
   "metadata": {},
   "outputs": [
    {
     "name": "stdout",
     "output_type": "stream",
     "text": [
      "[[3000], [20], [0.7, 0.8], [0.2], [1]]\n",
      "{'N_range': [3000], 'T_range': [20], 'ess_alpha_range': [0.7, 0.8], 'alpha_range': [0.2], 'L_range': [1]}\n",
      "Starting MALA_SMC simulation 1/2, with model: mnist_model, img_idx:0,eps:0.18,N: 3000: T: 20: ess_alpha: 0.7: alpha: 0.2: L: 1\n"
     ]
    },
    {
     "name": "stderr",
     "output_type": "stream",
     "text": [
      "100%|██████████| 1/1 [00:03<00:00,  3.16s/it]\n"
     ]
    },
    {
     "name": "stdout",
     "output_type": "stream",
     "text": [
      "mean est:7.125619845282927e-07, std est:0.0\n",
      "mean calls:1806200.0\n",
      "std. re.:0.0\n",
      "std. rel. adj.:0.0\n",
      "Starting MALA_SMC simulation 2/2, with model: mnist_model, img_idx:0,eps:0.18,N: 3000: T: 20: ess_alpha: 0.8: alpha: 0.2: L: 1\n"
     ]
    },
    {
     "name": "stderr",
     "output_type": "stream",
     "text": [
      "100%|██████████| 1/1 [00:03<00:00,  3.41s/it]\n"
     ]
    },
    {
     "name": "stdout",
     "output_type": "stream",
     "text": [
      "mean est:1.429374947292672e-06, std est:0.0\n",
      "mean calls:1792200.0\n",
      "std. re.:0.0\n",
      "std. rel. adj.:0.0\n",
      "p_fail_mala=1.0709684659104823e-06\n"
     ]
    }
   ],
   "source": [
    "p_fail_mala, dict_out=run_exp.run_stat_rel_exp(model=model,method='mala',X=X,y=y,dataset_name='mnist',\n",
    "                        n_rep=1, verbose=0, track_accept=False,ess_alpha_range=[0.7,0.8],\n",
    "                        alpha=0.2, L_range=[1], adapt_func='simp_ess',p_ref=p_ref,\n",
    "                         N_range=[3000],T_range=[20],epsilon_range=epsilon_range,repeat_exp=True,\n",
    " )\n",
    "exp_config,method_config_mala, agg_res_df = dict_out['exp_config'],dict_out['method_config'],dict_out['agg_res_df']\n",
    "results_df_mala = dict_out['results_df']\n",
    "print(f\"p_fail_mala={p_fail_mala}\")"
   ]
  },
  {
   "cell_type": "code",
   "execution_count": null,
   "metadata": {},
   "outputs": [
    {
     "name": "stdout",
     "output_type": "stream",
     "text": [
      "[[500], [20], [0.875], [0.2], [1]]\n",
      "{'N_range': [500], 'T_range': [20], 'ess_alpha_range': [0.875], 'alpha_range': [0.2], 'L_range': [1]}\n",
      "Starting MALA_SMC simulation 1/1, with model: mnist_model, img_idx:0,eps:0.18,N: 500: T: 20: ess_alpha: 0.875: alpha: 0.2: L: 1\n"
     ]
    },
    {
     "name": "stderr",
     "output_type": "stream",
     "text": [
      "100%|██████████| 1/1 [00:05<00:00,  5.38s/it]\n"
     ]
    },
    {
     "name": "stdout",
     "output_type": "stream",
     "text": [
      "mean est:7.431085009557137e-07, std est:0.0\n",
      "mean calls:331600.0\n",
      "std. re.:0.0\n",
      "std. rel. adj.:0.0\n",
      "p_fail_mala=7.431085009557137e-07\n"
     ]
    }
   ],
   "source": [
    "p_fail_mala, dict_out=run_exp.run_stat_rel_exp(model=model,method='smc_multi',X=X,y=y,dataset_name='mnist',\n",
    "                        n_rep=1, verbose=0, track_accept=False,ess_alpha_range=[0.875],\n",
    "                        alpha=0.2, L_range=[1], adapt_func='ess',\n",
    "                         N_range=[500],T_range=[20],epsilon_range=epsilon_range,repeat_exp=True,\n",
    " )\n",
    "exp_config,method_config_mala, agg_res_df = dict_out['exp_config'],dict_out['method_config'],dict_out['agg_res_df']\n",
    "results_df_mala = dict_out['results_df']\n",
    "print(f\"p_fail_mala={p_fail_mala}\")"
   ]
  },
  {
   "cell_type": "code",
   "execution_count": null,
   "metadata": {},
   "outputs": [
    {
     "data": {
      "text/plain": [
       "tensor([[  0.4927,  -4.5988,   2.9991,   5.6759,  -6.5458,   0.6176, -10.5810,\n",
       "          11.0179,   0.7859,   1.3639]], device='cuda:0',\n",
       "       grad_fn=<AddmmBackward0>)"
      ]
     },
     "execution_count": 15,
     "metadata": {},
     "output_type": "execute_result"
    }
   ],
   "source": [
    "exp_config.model(X)"
   ]
  },
  {
   "cell_type": "code",
   "execution_count": 14,
   "metadata": {},
   "outputs": [
    {
     "data": {
      "text/plain": [
       "tensor([[  0.4927,  -4.5988,   2.9991,   5.6759,  -6.5458,   0.6176, -10.5810,\n",
       "          11.0179,   0.7859,   1.3639]], device='cuda:0',\n",
       "       grad_fn=<AddmmBackward0>)"
      ]
     },
     "execution_count": 14,
     "metadata": {},
     "output_type": "execute_result"
    }
   ],
   "source": [
    "model(X)"
   ]
  },
  {
   "cell_type": "code",
   "execution_count": 50,
   "metadata": {},
   "outputs": [
    {
     "data": {
      "text/plain": [
       "0.02251716"
      ]
     },
     "execution_count": 50,
     "metadata": {},
     "output_type": "execute_result"
    }
   ],
   "source": [
    "1125858/5e7"
   ]
  },
  {
   "cell_type": "code",
   "execution_count": 51,
   "metadata": {},
   "outputs": [
    {
     "name": "stdout",
     "output_type": "stream",
     "text": [
      "[[1000], [10], [0.01]]\n",
      "{'steps_range': [1000], 'num_iter_range': [10], 'stepsize_range': [0.01]}\n",
      "Starting FORM simulation 1/1, with model: mnist_model, img_idx:0,eps:0.2,steps: 1000: num_iter: 10: stepsize: 0.01\n"
     ]
    },
    {
     "name": "stderr",
     "output_type": "stream",
     "text": [
      "  0%|          | 0/1 [00:00<?, ?it/s]"
     ]
    },
    {
     "name": "stderr",
     "output_type": "stream",
     "text": [
      "100%|██████████| 1/1 [00:19<00:00, 19.32s/it]\n"
     ]
    },
    {
     "name": "stdout",
     "output_type": "stream",
     "text": [
      "mean est:2.9287436643461935e-10, std est:0.0\n",
      "mean calls:10000.0\n",
      "std. re.:0.0\n",
      "std. rel. adj.:0.0\n",
      "mean rel. error:0.9999991309993812\n",
      "std rel. error:0.0\n",
      "stat performance (per 1k calls):0.0\n"
     ]
    }
   ],
   "source": [
    "p_fail_form,dict_out_form = run_exp.run_stat_rel_exp(model=model,method='form',X=X,y=y,dataset_name='mnist',\n",
    "                    search_method='carlini',epsilon_range = epsilon_range,\n",
    "                    steps_range=[1000,],num_iter_range=[10],stepsize_range=[1e-2],\n",
    "                    repeat_exp=True, random_init=False, \n",
    "                    sigma_init=0.000001,\n",
    "                        \n",
    "                        \n",
    "                        n_rep=1, verbose=0,p_ref=p_ref)"
   ]
  },
  {
   "cell_type": "code",
   "execution_count": 12,
   "metadata": {},
   "outputs": [
    {
     "name": "stdout",
     "output_type": "stream",
     "text": [
      "[[100000000], [400000]]\n",
      "{'N_range': [100000000], 'batch_size_range': [400000]}\n",
      "Starting CrudeMC simulation 1/1, with model: mnist_model, img_idx:0,eps:0.18,N: 100000000: batch_size: 400000\n"
     ]
    },
    {
     "name": "stderr",
     "output_type": "stream",
     "text": [
      "100%|██████████| 5/5 [02:39<00:00, 31.99s/it]\n"
     ]
    },
    {
     "name": "stdout",
     "output_type": "stream",
     "text": [
      "mean est:1.9600001621711272e-07, std est:2.7276376712848105e-08\n",
      "mean calls:100000000.0\n",
      "std. re.:710026.3483739486\n",
      "std. rel. adj.:71002634837394.86\n"
     ]
    }
   ],
   "source": [
    "p_fail_mc, dict_out_mc = run_exp.run_stat_rel_exp(model=model, method = 'CrudeMC',\n",
    "            X=X, y=y, dataset_name='mnist',epsilon_range=epsilon_range,\n",
    "            repeat_exp=True,n_rep=5, \n",
    "            N_range=[int(1e8)],batch_size_range=[int(4e5)],track_advs=False) "
   ]
  },
  {
   "cell_type": "code",
   "execution_count": 53,
   "metadata": {},
   "outputs": [
    {
     "data": {
      "text/plain": [
       "dnn2(\n",
       "  (linear1): Linear(in_features=784, out_features=200, bias=True)\n",
       "  (linear2): Linear(in_features=200, out_features=10, bias=True)\n",
       "  (flat_op): Flatten()\n",
       ")"
      ]
     },
     "execution_count": 53,
     "metadata": {},
     "output_type": "execute_result"
    }
   ],
   "source": [
    "exp_config.model"
   ]
  },
  {
   "cell_type": "markdown",
   "metadata": {},
   "source": [
    "## 4. Analysis of Experiments"
   ]
  },
  {
   "cell_type": "code",
   "execution_count": 65,
   "metadata": {},
   "outputs": [],
   "source": [
    "eps=0.18"
   ]
  },
  {
   "cell_type": "code",
   "execution_count": 68,
   "metadata": {},
   "outputs": [
    {
     "data": {
      "image/png": "[encoded data removed]",
      "text/plain": [
       "<Figure size 640x480 with 1 Axes>"
      ]
     },
     "metadata": {},
     "output_type": "display_data"
    }
   ],
   "source": [
    "fig=plt.figure()\n",
    "ax=plt.axes()\n",
    "ax.set_xscale('log')\n",
    "mls_webb_df=  utils.get_sel_df(df=agg_res_df,triplets=[('method_name','MALA_SMC','='),])\n",
    "for T in agg_res_df['T'].unique():\n",
    "    df = utils.get_sel_df(mls_webb_df,triplets=[('T',T,'='),('epsilon',eps,'=')])\n",
    "    ax.errorbar(x=df['mean_calls'],y=df['mean_log_est'], yerr=df['std_log_est'],label=f'mean_log, T={T}',)\n",
    "    ax.legend()\n",
    "\n"
   ]
  },
  {
   "cell_type": "code",
   "execution_count": null,
   "metadata": {},
   "outputs": [],
   "source": []
  },
  {
   "cell_type": "code",
   "execution_count": null,
   "metadata": {},
   "outputs": [],
   "source": []
  },
  {
   "cell_type": "code",
   "execution_count": null,
   "metadata": {},
   "outputs": [],
   "source": []
  },
  {
   "cell_type": "code",
   "execution_count": null,
   "metadata": {},
   "outputs": [],
   "source": []
  }
 ],
 "metadata": {
  "kernelspec": {
   "display_name": "Python 3 (ipykernel)",
   "language": "python",
   "name": "python3"
  },
  "language_info": {
   "codemirror_mode": {
    "name": "ipython",
    "version": 3
   },
   "file_extension": ".py",
   "mimetype": "text/x-python",
   "name": "python",
   "nbconvert_exporter": "python",
   "pygments_lexer": "ipython3",
   "version": "3.10.6"
  }
 },
 "nbformat": 4,
 "nbformat_minor": 4
}
