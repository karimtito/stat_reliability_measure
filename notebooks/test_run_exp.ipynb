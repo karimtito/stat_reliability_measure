{
 "cells": [
  {
   "attachments": {},
   "cell_type": "markdown",
   "metadata": {},
   "source": [
    "## Test fonction run exp"
   ]
  },
  {
   "attachments": {},
   "cell_type": "markdown",
   "metadata": {},
   "source": [
    "### 1. Imports"
   ]
  },
  {
   "cell_type": "code",
   "execution_count": null,
   "metadata": {},
   "outputs": [],
   "source": []
  },
  {
   "cell_type": "code",
   "execution_count": 2,
   "metadata": {},
   "outputs": [
    {
     "ename": "ModuleNotFoundError",
     "evalue": "No module named 'stat_reliability_measure.config'",
     "output_type": "error",
     "traceback": [
      "\u001b[0;31m---------------------------------------------------------------------------\u001b[0m",
      "\u001b[0;31mModuleNotFoundError\u001b[0m                       Traceback (most recent call last)",
      "Cell \u001b[0;32mIn[2], line 3\u001b[0m\n\u001b[1;32m      1\u001b[0m \u001b[38;5;28;01mimport\u001b[39;00m \u001b[38;5;21;01mtorch\u001b[39;00m\n\u001b[1;32m      2\u001b[0m \u001b[38;5;28;01mimport\u001b[39;00m \u001b[38;5;21;01mmath\u001b[39;00m\n\u001b[0;32m----> 3\u001b[0m \u001b[38;5;28;01mimport\u001b[39;00m \u001b[38;5;21;01mstat_reliability_measure\u001b[39;00m\u001b[38;5;21;01m.\u001b[39;00m\u001b[38;5;21;01mconfig\u001b[39;00m \u001b[38;5;28;01mas\u001b[39;00m \u001b[38;5;21;01mconfig_\u001b[39;00m\n\u001b[1;32m      4\u001b[0m \u001b[38;5;28;01mfrom\u001b[39;00m \u001b[38;5;21;01mimportlib\u001b[39;00m \u001b[38;5;28;01mimport\u001b[39;00m reload\n\u001b[1;32m      5\u001b[0m \u001b[38;5;28;01mimport\u001b[39;00m \u001b[38;5;21;01mmatplotlib\u001b[39;00m\u001b[38;5;21;01m.\u001b[39;00m\u001b[38;5;21;01mpyplot\u001b[39;00m \u001b[38;5;28;01mas\u001b[39;00m \u001b[38;5;21;01mplt\u001b[39;00m\n",
      "\u001b[0;31mModuleNotFoundError\u001b[0m: No module named 'stat_reliability_measure.config'"
     ]
    }
   ],
   "source": [
    "import torch\n",
    "import math\n",
    "import stat_reliability_measure.config as config_\n",
    "from importlib import reload\n",
    "import matplotlib.pyplot as plt"
   ]
  },
  {
   "cell_type": "code",
   "execution_count": 2,
   "metadata": {},
   "outputs": [
    {
     "data": {
      "text/plain": [
       "<module 'stat_reliability_measure.dev.torch_utils' from '/nfs/nas4/bbonnet/bbonnet/ktit/stat_reliability_measure/dev/torch_utils.py'>"
      ]
     },
     "execution_count": 2,
     "metadata": {},
     "output_type": "execute_result"
    }
   ],
   "source": [
    "config_.t_u"
   ]
  },
  {
   "cell_type": "code",
   "execution_count": 3,
   "metadata": {},
   "outputs": [],
   "source": [
    "import stat_reliability_measure.dev.torch_utils as t_u\n",
    "\n",
    "from stat_reliability_measure.dev.amls.amls_config import MLS_SMC_Config\n",
    "import stat_reliability_measure.dev.utils as utils\n",
    "import stat_reliability_measure.run_exp as run_exp\n",
    "from stat_reliability_measure.config import Exp2Config\n",
    "import stat_reliability_measure.dev.smc.smc_pyt as smc_pyt\n",
    "import stat_reliability_measure.dev.smc.smc_config as smc_config\n",
    "\n",
    "import stat_reliability_measure.dev.amls.amls_pyt as amls_pyt\n",
    "import stat_reliability_measure.dev.form.form_pyt as form_pyt\n",
    "import stat_reliability_measure.dev.amls.amls_config as amls_config \n",
    "import stat_reliability_measure.dev.mls.webb_config as webb_config\n",
    "import stat_reliability_measure.dev.form.form_config as form_config\n",
    "import stat_reliability_measure.dev.mls.amls_uniform as amls_webb\n",
    "import stat_reliability_measure.dev.mc.mc_pyt as mc_pyt\n",
    "import stat_reliability_measure.dev.mc.mc_config as mc_config\n",
    "import stat_reliability_measure.dev.hmls.hmls_pyt as hmls_pyt\n",
    "import stat_reliability_measure.dev.hmls.hmls_config as hmls_config\n",
    "\n",
    "import stat_reliability_measure.dev.torch_arch as t_a\n",
    "from stat_reliability_measure.dev.utils import range_vars,simple_vars\n",
    "import pandas as pd\n",
    "import numpy as np\n",
    "import os \n"
   ]
  },
  {
   "attachments": {},
   "cell_type": "markdown",
   "metadata": {},
   "source": [
    "### 2. Model & Data load"
   ]
  },
  {
   "cell_type": "code",
   "execution_count": 6,
   "metadata": {},
   "outputs": [],
   "source": [
    "reload(config_)\n",
    "device = torch.device(\"cuda:0\" if torch.cuda.is_available() else \"cpu\")"
   ]
  },
  {
   "cell_type": "code",
   "execution_count": 5,
   "metadata": {},
   "outputs": [
    {
     "ename": "FileNotFoundError",
     "evalue": "[Errno 2] No such file or directory: '../../models/mnist/model_dnn2_release.pt'",
     "output_type": "error",
     "traceback": [
      "\u001b[0;31m---------------------------------------------------------------------------\u001b[0m",
      "\u001b[0;31mFileNotFoundError\u001b[0m                         Traceback (most recent call last)",
      "Cell \u001b[0;32mIn[5], line 2\u001b[0m\n\u001b[1;32m      1\u001b[0m model \u001b[38;5;241m=\u001b[39m t_a\u001b[38;5;241m.\u001b[39mdnn2()\n\u001b[0;32m----> 2\u001b[0m model\u001b[38;5;241m.\u001b[39mload_state_dict(\u001b[43mtorch\u001b[49m\u001b[38;5;241;43m.\u001b[39;49m\u001b[43mload\u001b[49m\u001b[43m(\u001b[49m\u001b[38;5;124;43m'\u001b[39;49m\u001b[38;5;124;43m../../models/mnist/model_dnn2_release.pt\u001b[39;49m\u001b[38;5;124;43m'\u001b[39;49m\u001b[43m)\u001b[49m)\n\u001b[1;32m      3\u001b[0m model\u001b[38;5;241m.\u001b[39mto(device)\n\u001b[1;32m      4\u001b[0m model\u001b[38;5;241m.\u001b[39meval()\n",
      "File \u001b[0;32m/usr/local/lib/python3.10/dist-packages/torch/serialization.py:791\u001b[0m, in \u001b[0;36mload\u001b[0;34m(f, map_location, pickle_module, weights_only, **pickle_load_args)\u001b[0m\n\u001b[1;32m    788\u001b[0m \u001b[38;5;28;01mif\u001b[39;00m \u001b[38;5;124m'\u001b[39m\u001b[38;5;124mencoding\u001b[39m\u001b[38;5;124m'\u001b[39m \u001b[38;5;129;01mnot\u001b[39;00m \u001b[38;5;129;01min\u001b[39;00m pickle_load_args\u001b[38;5;241m.\u001b[39mkeys():\n\u001b[1;32m    789\u001b[0m     pickle_load_args[\u001b[38;5;124m'\u001b[39m\u001b[38;5;124mencoding\u001b[39m\u001b[38;5;124m'\u001b[39m] \u001b[38;5;241m=\u001b[39m \u001b[38;5;124m'\u001b[39m\u001b[38;5;124mutf-8\u001b[39m\u001b[38;5;124m'\u001b[39m\n\u001b[0;32m--> 791\u001b[0m \u001b[38;5;28;01mwith\u001b[39;00m \u001b[43m_open_file_like\u001b[49m\u001b[43m(\u001b[49m\u001b[43mf\u001b[49m\u001b[43m,\u001b[49m\u001b[43m \u001b[49m\u001b[38;5;124;43m'\u001b[39;49m\u001b[38;5;124;43mrb\u001b[39;49m\u001b[38;5;124;43m'\u001b[39;49m\u001b[43m)\u001b[49m \u001b[38;5;28;01mas\u001b[39;00m opened_file:\n\u001b[1;32m    792\u001b[0m     \u001b[38;5;28;01mif\u001b[39;00m _is_zipfile(opened_file):\n\u001b[1;32m    793\u001b[0m         \u001b[38;5;66;03m# The zipfile reader is going to advance the current file position.\u001b[39;00m\n\u001b[1;32m    794\u001b[0m         \u001b[38;5;66;03m# If we want to actually tail call to torch.jit.load, we need to\u001b[39;00m\n\u001b[1;32m    795\u001b[0m         \u001b[38;5;66;03m# reset back to the original position.\u001b[39;00m\n\u001b[1;32m    796\u001b[0m         orig_position \u001b[38;5;241m=\u001b[39m opened_file\u001b[38;5;241m.\u001b[39mtell()\n",
      "File \u001b[0;32m/usr/local/lib/python3.10/dist-packages/torch/serialization.py:271\u001b[0m, in \u001b[0;36m_open_file_like\u001b[0;34m(name_or_buffer, mode)\u001b[0m\n\u001b[1;32m    269\u001b[0m \u001b[38;5;28;01mdef\u001b[39;00m \u001b[38;5;21m_open_file_like\u001b[39m(name_or_buffer, mode):\n\u001b[1;32m    270\u001b[0m     \u001b[38;5;28;01mif\u001b[39;00m _is_path(name_or_buffer):\n\u001b[0;32m--> 271\u001b[0m         \u001b[38;5;28;01mreturn\u001b[39;00m \u001b[43m_open_file\u001b[49m\u001b[43m(\u001b[49m\u001b[43mname_or_buffer\u001b[49m\u001b[43m,\u001b[49m\u001b[43m \u001b[49m\u001b[43mmode\u001b[49m\u001b[43m)\u001b[49m\n\u001b[1;32m    272\u001b[0m     \u001b[38;5;28;01melse\u001b[39;00m:\n\u001b[1;32m    273\u001b[0m         \u001b[38;5;28;01mif\u001b[39;00m \u001b[38;5;124m'\u001b[39m\u001b[38;5;124mw\u001b[39m\u001b[38;5;124m'\u001b[39m \u001b[38;5;129;01min\u001b[39;00m mode:\n",
      "File \u001b[0;32m/usr/local/lib/python3.10/dist-packages/torch/serialization.py:252\u001b[0m, in \u001b[0;36m_open_file.__init__\u001b[0;34m(self, name, mode)\u001b[0m\n\u001b[1;32m    251\u001b[0m \u001b[38;5;28;01mdef\u001b[39;00m \u001b[38;5;21m__init__\u001b[39m(\u001b[38;5;28mself\u001b[39m, name, mode):\n\u001b[0;32m--> 252\u001b[0m     \u001b[38;5;28msuper\u001b[39m()\u001b[38;5;241m.\u001b[39m\u001b[38;5;21m__init__\u001b[39m(\u001b[38;5;28;43mopen\u001b[39;49m\u001b[43m(\u001b[49m\u001b[43mname\u001b[49m\u001b[43m,\u001b[49m\u001b[43m \u001b[49m\u001b[43mmode\u001b[49m\u001b[43m)\u001b[49m)\n",
      "\u001b[0;31mFileNotFoundError\u001b[0m: [Errno 2] No such file or directory: '../../models/mnist/model_dnn2_release.pt'"
     ]
    }
   ],
   "source": [
    "model = t_a.dnn2()\n",
    "model.load_state_dict(torch.load('../../models/mnist/model_dnn2_release.pt'))\n",
    "model.to(device)\n",
    "model.eval()"
   ]
  },
  {
   "cell_type": "code",
   "execution_count": 6,
   "metadata": {},
   "outputs": [],
   "source": [
    "config = Exp2Config(method_name=\"amls_webb\", model=model)"
   ]
  },
  {
   "cell_type": "code",
   "execution_count": 7,
   "metadata": {},
   "outputs": [],
   "source": [
    "config.update()\n",
    "os.rmdir(config.exp_log_path)"
   ]
  },
  {
   "cell_type": "code",
   "execution_count": 8,
   "metadata": {},
   "outputs": [],
   "source": [
    "X,y = config.X[:1], config.y[:1]\n",
    "x_0 = X[0]"
   ]
  },
  {
   "cell_type": "code",
   "execution_count": 9,
   "metadata": {},
   "outputs": [
    {
     "data": {
      "text/plain": [
       "0.9921875"
      ]
     },
     "execution_count": 9,
     "metadata": {},
     "output_type": "execute_result"
    }
   ],
   "source": [
    "config.sample_accuracy"
   ]
  },
  {
   "cell_type": "code",
   "execution_count": 10,
   "metadata": {},
   "outputs": [
    {
     "data": {
      "image/png": "[encoded data removed]",
      "text/plain": [
       "<Figure size 640x480 with 1 Axes>"
      ]
     },
     "metadata": {},
     "output_type": "display_data"
    }
   ],
   "source": [
    "t_u.plot_tensor(config.X[0].view(28,28))"
   ]
  },
  {
   "cell_type": "markdown",
   "metadata": {},
   "source": [
    "## 3. Experiments with MALA-SMC, ours implementation and Webb's implementation of AMLS algorithm"
   ]
  },
  {
   "cell_type": "code",
   "execution_count": 19,
   "metadata": {},
   "outputs": [],
   "source": [
    "epsilon_range=[0.18]\n",
    "dataset='mnist'\n",
    "n_ref = 200 \n",
    "method_ref='MALA_SMC'\n",
    "N_ref = 10000\n",
    "T_ref = 100\n",
    "ess_ref = 0.8\n",
    "alpha_ref = 0.2\n",
    "n_rep_ref = 100"
   ]
  },
  {
   "cell_type": "code",
   "execution_count": 20,
   "metadata": {},
   "outputs": [],
   "source": [
    "X.requires_grad = True"
   ]
  },
  {
   "cell_type": "code",
   "execution_count": 21,
   "metadata": {},
   "outputs": [
    {
     "name": "stdout",
     "output_type": "stream",
     "text": [
      "with parameters in {'N_range': [10000], 'T_range': [100], 'ess_alpha_range': [0.8], 'alpha_range': [0.2], 'L_range': [1]}\n",
      "aggregate results csv file not found \n",
      " it will be build at /home/karim-tito/stat_reliability_measure/logs/exp_2_mnist/aggr_res.csv\n",
      "Starting MALA_SMC simulation 1/1, with model: mnist_model, img_idx:0,eps:0.18,N: 10000: T: 100: ess_alpha: 0.8: alpha: 0.2: L: 1\n"
     ]
    },
    {
     "name": "stderr",
     "output_type": "stream",
     "text": [
      "  0%|          | 0/200 [00:00<?, ?it/s]"
     ]
    },
    {
     "name": "stderr",
     "output_type": "stream",
     "text": [
      "100%|██████████| 200/200 [12:25<00:00,  3.73s/it]\n"
     ]
    },
    {
     "name": "stdout",
     "output_type": "stream",
     "text": [
      "mean est:1.9609817691446097e-07, std est:7.143952766709725e-09\n",
      "mean calls:2363647.825\n",
      "std. re.:185776.79329089395\n",
      "std. rel. adj.:439110913397.4961\n",
      "p_fail_mala=1.9609817691446097e-07\n"
     ]
    }
   ],
   "source": [
    "p_ref, dict_out=run_exp.run_est(model=model,method='mala',X=X,y=y,dataset_name='mnist',\n",
    "                        n_rep=n_ref, verbose=0, track_accept=False,ess_alpha_range=[\n",
    "                                                                                 ess_ref],\n",
    "                        alpha=alpha_ref, L_range=[1], adapt_func='simp_ess',\n",
    "                         N_range=[N_ref],T_range=[T_ref],epsilon_range=epsilon_range,repeat_exp=True,\n",
    " )\n",
    "exp_config,method_config_mala, agg_res_df = dict_out['exp_config'],dict_out['method_config'],dict_out['agg_res_df']\n",
    "results_ref = dict_out['results_df']\n",
    "print(f\"p_fail_mala={p_ref}\")"
   ]
  },
  {
   "cell_type": "code",
   "execution_count": 23,
   "metadata": {},
   "outputs": [
    {
     "data": {
      "text/plain": [
       "(1.9609817691446097e-07, 7.143952766709725e-09)"
      ]
     },
     "execution_count": 23,
     "metadata": {},
     "output_type": "execute_result"
    }
   ],
   "source": [
    "ref_exp = utils.get_sel_df(df=agg_res_df, triplets=[('method_name',method_ref,'='),('n_rep',n_ref,'='),\n",
    "                                                    ('epsilon',epsilon_range[0],'='),\n",
    "        ('N',N_ref,'='),('T',T_ref,'='),('alpha',alpha_ref,'='), ])\n",
    "p_ref,std_ref =ref_exp['mean_est'].values[0], ref_exp['std_est'].values[0]\n",
    "agg_res_df = pd.read_csv('../../logs/exp_2_mnist/aggr_res.csv')\n",
    "p_ref,std_ref"
   ]
  },
  {
   "cell_type": "code",
   "execution_count": 53,
   "metadata": {},
   "outputs": [
    {
     "data": {
      "text/plain": [
       "<module 'stat_reliability_measure.dev.hmls.hmls_pyt' from '/home/karim-tito/stat_reliability_measure/dev/hmls/hmls_pyt.py'>"
      ]
     },
     "execution_count": 53,
     "metadata": {},
     "output_type": "execute_result"
    }
   ],
   "source": [
    "reload(amls_config)\n",
    "reload(config_)\n",
    "reload(webb_config)\n",
    "reload(amls_webb)\n",
    "reload(amls_pyt)\n",
    "reload(smc_pyt)\n",
    "reload(run_exp)\n",
    "reload(form_config)\n",
    "reload(t_u)\n",
    "reload(form_pyt)\n",
    "reload(mc_config)\n",
    "reload(mc_pyt)\n",
    "reload(hmls_config)\n",
    "reload(hmls_pyt)"
   ]
  },
  {
   "cell_type": "code",
   "execution_count": 67,
   "metadata": {},
   "outputs": [
    {
     "name": "stdout",
     "output_type": "stream",
     "text": [
      "with parameters in {'N_range': [5000], 'T_range': [2], 'ratio_range': [0.5], 'alpha_range': [0.25], 'L_range': [1]}\n",
      "Starting HMLS simulation 1/1, with model: mnist_model, img_idx:0,eps:0.18,N: 5000: T: 2: ratio: 0.5: alpha: 0.25: L: 1\n"
     ]
    },
    {
     "name": "stderr",
     "output_type": "stream",
     "text": [
      "100%|██████████| 200/200 [04:28<00:00,  1.34s/it]\n"
     ]
    },
    {
     "name": "stdout",
     "output_type": "stream",
     "text": [
      "mean est:1.99066162109375e-07, std est:2.2736623339982534e-08\n",
      "mean calls:563750.0\n",
      "std. re.:573761.0730467502\n",
      "std. rel. adj.:323457804930.1054\n",
      "mean rel. error:0.09227410695836116\n",
      "std rel. error:0.07437759129466982\n",
      "stat performance (per 1k calls):41.93036709237011\n",
      "p_fail_hmls=1.99066162109375e-07\n"
     ]
    }
   ],
   "source": [
    "p_fail_hmls, dict_out=run_exp.run_stat_rel_exp(model=model,method='hmls',X=X,y=y,dataset_name='mnist',\n",
    "                        n_rep=200, verbose=0, track_accept=False,ratio_range=[0.5],track_levels=True,\n",
    "                        alpha=0.25, L_range=[1], only_duplicated=True,p_ref=p_ref,\n",
    "                      track_X=False, track_advs=True,np_seed=1,torch_seed=0,\n",
    "                         N_range=[5000],T_range=[2],epsilon_range=epsilon_range,repeat_exp=True,\n",
    " )\n",
    "\n",
    "\n",
    "exp_config,method_config_hmls, agg_res_df = dict_out['exp_config'],dict_out['method_config'],dict_out['agg_res_df']\n",
    "results_df_hmls = dict_out['results_df']\n",
    "\n",
    "X_hmls_adv = dict_out['advs_list'][0]\n",
    "img_hmls_adv = exp_config.gaussian_to_image(torch.Tensor(X_hmls_adv).to(exp_config.device))\n",
    "quant_img_hmls_adv = t_u.quantize_img(img_hmls_adv)/255.\n",
    "y_hmls_adv = model(img_hmls_adv).argmax(dim=1)\n",
    "normal_layer = t_u.NormalCDFLayer(device = exp_config.device,offset = x_0, epsilon=epsilon_range[0])\n",
    "def gaussian_to_image(gaussian_sample,normal_layer=normal_layer,image_shape=(28,28)):\n",
    "    image = normal_layer(gaussian_sample.view(-1,*image_shape))\n",
    "    return image\n",
    "print(f\"p_fail_hmls={p_fail_hmls}\")"
   ]
  },
  {
   "cell_type": "code",
   "execution_count": 64,
   "metadata": {},
   "outputs": [
    {
     "data": {
      "text/plain": [
       "<matplotlib.image.AxesImage at 0x7f588c1dd210>"
      ]
     },
     "execution_count": 64,
     "metadata": {},
     "output_type": "execute_result"
    },
    {
     "data": {
      "image/png": "[encoded data removed]",
      "text/plain": [
       "<Figure size 640x480 with 1 Axes>"
      ]
     },
     "metadata": {},
     "output_type": "display_data"
    }
   ],
   "source": [
    "plt.imshow(quant_img_hmls_adv[0].cpu().detach().view(28,28).numpy(),cmap='gray')"
   ]
  },
  {
   "cell_type": "code",
   "execution_count": 65,
   "metadata": {},
   "outputs": [
    {
     "data": {
      "image/png": "[encoded data removed]",
      "text/plain": [
       "<Figure size 2000x2000 with 1 Axes>"
      ]
     },
     "metadata": {},
     "output_type": "display_data"
    }
   ],
   "source": [
    "t_u.plot_k_tensor(img_hmls_adv[0],figsize=(20,20))"
   ]
  },
  {
   "cell_type": "code",
   "execution_count": 66,
   "metadata": {},
   "outputs": [
    {
     "name": "stdout",
     "output_type": "stream",
     "text": [
      "Running reliability experiments on architecture custom trained on mnist.\n",
      "Testing uniform noise pertubation with epsilon in [0.18]\n",
      "with parameters in {'N_range': [5000], 'T_range': [10], 'ratio_range': [0.5], 's_range': [1.0]}\n",
      "Starting MLS_SMC simulation 1/1, with model: mnist_model, img_idx:0,eps:0.18,N: 5000: T: 10: ratio: 0.5: s: 1.0\n"
     ]
    },
    {
     "name": "stderr",
     "output_type": "stream",
     "text": [
      "  0%|          | 0/100 [00:00<?, ?it/s]"
     ]
    },
    {
     "name": "stderr",
     "output_type": "stream",
     "text": [
      "100%|██████████| 100/100 [00:43<00:00,  2.28it/s]\n"
     ]
    },
    {
     "name": "stdout",
     "output_type": "stream",
     "text": [
      "mean est:1.9563722610473633e-07, std est:1.802299091870413e-08\n",
      "mean calls:554250.0\n",
      "std. re.:470894.77438090806\n",
      "std. rel. adj.:260993428700.6183\n",
      "mean rel. error:0.07229880003433924\n",
      "std rel. error:0.05772106105673312\n",
      "stat performance (per 1k calls):31.991898090694335\n",
      "p_fail_mls: 1.9563722610473633e-07\n"
     ]
    }
   ],
   "source": [
    "p_fail_mls,dict_out=run_exp.run_stat_rel_exp(model=model,method='amls_batch',X=X,y=y,dataset_name=dataset,\n",
    "                        epsilon_range=epsilon_range, n_rep=100, update_aggr_res=False, \n",
    "                         N_range=[5000],T_range=[10],ratio_range=[0.5,],repeat_exp=False,\n",
    "                         track_levels=True,track_X=True,\n",
    "                        verbose=1,np_seed=0, torch_seed=0,p_ref = p_ref)\n",
    "exp_config,method_config_mls, agg_res_df = dict_out['exp_config'],dict_out['method_config'],dict_out['agg_res_df']\n",
    "results_df_mls = dict_out['results_df']\n",
    "X_amls=dict_out['X_list'][0]\n",
    "X_amls_adv = X_amls[exp_config.V(X_amls)==0.]\n",
    "img_amls_adv = exp_config.gaussian_to_image(X_amls_adv)\n",
    "quant_img_amls_adv = t_u.quantize_img(img_amls_adv)/255.\n",
    "y_amls_adv = model(img_amls_adv).argmax(dim=1)\n",
    "y_quant_amls_adv = model(quant_img_amls_adv).argmax(dim=1)\n",
    "print(f\"p_fail_mls: {p_fail_mls}\")"
   ]
  },
  {
   "cell_type": "code",
   "execution_count": 218,
   "metadata": {},
   "outputs": [
    {
     "data": {
      "text/plain": [
       "tensor(0., device='cuda:0')"
      ]
     },
     "execution_count": 218,
     "metadata": {},
     "output_type": "execute_result"
    }
   ],
   "source": [
    "(t_u.compute_V_pyt(model=model,\n",
    "                  input_=img_amls_adv,\n",
    "                  target_class=7,)!=0).float().mean()"
   ]
  },
  {
   "cell_type": "code",
   "execution_count": 219,
   "metadata": {},
   "outputs": [
    {
     "data": {
      "text/plain": [
       "tensor(0.0161, device='cuda:0')"
      ]
     },
     "execution_count": 219,
     "metadata": {},
     "output_type": "execute_result"
    }
   ],
   "source": [
    "(t_u.compute_V_pyt(model=model,\n",
    "                  input_=quant_img_amls_adv,\n",
    "                  target_class=7,)!=0).float().mean()"
   ]
  },
  {
   "cell_type": "code",
   "execution_count": 220,
   "metadata": {},
   "outputs": [
    {
     "data": {
      "image/png": "[encoded data removed]",
      "text/plain": [
       "<Figure size 4000x1000 with 4 Axes>"
      ]
     },
     "metadata": {},
     "output_type": "display_data"
    }
   ],
   "source": [
    "t_u.plot_k_tensor(exp_config.gaussian_to_image(X_amls_adv[:4]))"
   ]
  },
  {
   "cell_type": "code",
   "execution_count": 50,
   "metadata": {},
   "outputs": [
    {
     "data": {
      "text/plain": [
       "array([-0.76788175, -0.35148048, -0.21802711, -0.14902183, -0.1041557 ,\n",
       "       -0.06463497,  0.        ])"
      ]
     },
     "execution_count": 50,
     "metadata": {},
     "output_type": "execute_result"
    }
   ],
   "source": [
    "np.loadtxt(results_df_hmls['levels_path'].values[0])"
   ]
  },
  {
   "cell_type": "code",
   "execution_count": 51,
   "metadata": {},
   "outputs": [
    {
     "data": {
      "text/plain": [
       "array([-1.30634975, -0.92414951, -0.6576128 , -0.44019127, -0.2548995 ,\n",
       "       -0.10884476,  0.038661  ])"
      ]
     },
     "execution_count": 51,
     "metadata": {},
     "output_type": "execute_result"
    }
   ],
   "source": [
    "np.loadtxt(results_df_mls['levels_path'].values[0],)"
   ]
  },
  {
   "cell_type": "code",
   "execution_count": 225,
   "metadata": {},
   "outputs": [
    {
     "name": "stdout",
     "output_type": "stream",
     "text": [
      "Running reliability experiments on architecture custom trained on mnist.\n",
      "Testing uniform noise pertubation with epsilon in [0.18]\n",
      "with parameters in {'N_range': [2000], 'T_range': [1000], 'ratio_range': [0.1]}\n",
      "Starting MLS_Webb simulation 1/1, with model: mnist_model, img_idx:0,eps:0.18,N: 2000: T: 1000: ratio: 0.1\n"
     ]
    },
    {
     "name": "stderr",
     "output_type": "stream",
     "text": [
      "100%|██████████| 1/1 [00:40<00:00, 40.25s/it]\n"
     ]
    },
    {
     "name": "stdout",
     "output_type": "stream",
     "text": [
      "mean est:1.875000947211994e-07, std est:0.0\n",
      "mean calls:14014000.0\n",
      "std. re.:0.0\n",
      "std. rel. adj.:0.0\n",
      "mean rel. error:0.03823284873753003\n",
      "std rel. error:0.0\n",
      "stat performance (per 1k calls):0.0\n",
      "p_fail_webb=1.875000947211994e-07\n"
     ]
    }
   ],
   "source": [
    "p_fail_webb,dict_out=run_exp.run_stat_rel_exp(model=model,method='amls_webb',X=X,y=y,dataset_name=dataset,\n",
    "                        epsilon_range=epsilon_range, n_rep=1, update_aggr_res=False, p_ref=p_ref,\n",
    "                         N_range=[2000],T_range=[1000,],ratio_range=[0.1,],repeat_exp=False,\n",
    "                        verbose=1,np_seed=0, torch_seed=0 ,)\n",
    "exp_config,method_config_webb, agg_res_df = dict_out['exp_config'],dict_out['method_config'],dict_out['agg_res_df']\n",
    "results_df_webb=dict_out['results_df']\n",
    "print(f\"p_fail_webb={p_fail_webb}\")"
   ]
  },
  {
   "cell_type": "code",
   "execution_count": 72,
   "metadata": {},
   "outputs": [
    {
     "name": "stdout",
     "output_type": "stream",
     "text": [
      "with parameters in {'N_range': [500], 'T_range': [5], 'ess_alpha_range': [0.75], 'alpha_range': [0.25], 'L_range': [1]}\n",
      "Starting MALA_SMC simulation 1/1, with model: mnist_model, img_idx:0,eps:0.18,N: 500: T: 5: ess_alpha: 0.75: alpha: 0.25: L: 1\n"
     ]
    },
    {
     "name": "stderr",
     "output_type": "stream",
     "text": [
      "100%|██████████| 100/100 [02:22<00:00,  1.42s/it]\n"
     ]
    },
    {
     "name": "stdout",
     "output_type": "stream",
     "text": [
      "mean est:1.9215423257890052e-07, std est:3.9971514994941794e-08\n",
      "mean calls:83603.5\n",
      "std. re.:1082556.8164076288\n",
      "std. rel. adj.:90505538800.5352\n",
      "mean rel. error:0.16467556709686676\n",
      "std rel. error:0.12298691507490064\n",
      "stat performance (per 1k calls):10.282136554464456\n",
      "p_fail_mala=1.9215423257890052e-07\n"
     ]
    }
   ],
   "source": [
    "p_fail_mala, dict_out=run_exp.run_stat_rel_exp(model=model,method='mala',X=X,y=y,dataset_name='mnist',\n",
    "                        n_rep=100, verbose=0, track_accept=False,ess_alpha_range=[\n",
    "                                                                                 0.75],\n",
    "                        alpha=0.25, L_range=[1], adapt_func='simp_ess',p_ref=p_ref,\n",
    "                         N_range=[500],T_range=[5],epsilon_range=epsilon_range,repeat_exp=True,\n",
    " )\n",
    "exp_config,method_config_mala, agg_res_df = dict_out['exp_config'],dict_out['method_config'],dict_out['agg_res_df']\n",
    "results_df_mala = dict_out['results_df']\n",
    "print(f\"p_fail_mala={p_fail_mala}\")"
   ]
  },
  {
   "cell_type": "code",
   "execution_count": 20,
   "metadata": {},
   "outputs": [
    {
     "name": "stdout",
     "output_type": "stream",
     "text": [
      "with parameters in {'N_range': [500], 'T_range': [20], 'ess_alpha_range': [0.875], 'alpha_range': [0.2], 'L_range': [1]}\n",
      "Starting MALA_SMC simulation 1/1, with model: mnist_model, img_idx:0,eps:0.18,N: 500: T: 20: ess_alpha: 0.875: alpha: 0.2: L: 1\n"
     ]
    },
    {
     "name": "stderr",
     "output_type": "stream",
     "text": [
      "100%|██████████| 10/10 [00:15<00:00,  1.54s/it]\n"
     ]
    },
    {
     "name": "stdout",
     "output_type": "stream",
     "text": [
      "mean est:1.9169501683791168e-07, std est:2.7047004532370744e-08\n",
      "mean calls:139566.0\n",
      "std. re.:736033.4077725433\n",
      "std. rel. adj.:102725238589.18277\n",
      "p_fail_mala=1.9169501683791168e-07\n"
     ]
    }
   ],
   "source": [
    "p_fail_mala, dict_out=run_exp.run_stat_rel_exp(model=model,method='mala',X=X,y=y,dataset_name='mnist',\n",
    "                        n_rep=10, verbose=0, track_accept=False,ess_alpha_range=[0.875],\n",
    "                        alpha=0.2, L_range=[1], adapt_func='ess',\n",
    "                         N_range=[500],T_range=[20],epsilon_range=epsilon_range,repeat_exp=True,\n",
    " )\n",
    "exp_config,method_config_mala, agg_res_df = dict_out['exp_config'],dict_out['method_config'],dict_out['agg_res_df']\n",
    "results_df_mala = dict_out['results_df']\n",
    "print(f\"p_fail_mala={p_fail_mala}\")"
   ]
  },
  {
   "cell_type": "code",
   "execution_count": 240,
   "metadata": {},
   "outputs": [
    {
     "name": "stdout",
     "output_type": "stream",
     "text": [
      "with parameters in {'N_range': [500], 'T_range': [20], 'ess_alpha_range': [0.875], 'alpha_range': [0.2], 'L_range': [1]}\n",
      "Starting MALA_SMC simulation 1/1, with model: mnist_model, img_idx:0,eps:0.18,N: 500: T: 20: ess_alpha: 0.875: alpha: 0.2: L: 1\n"
     ]
    },
    {
     "name": "stderr",
     "output_type": "stream",
     "text": [
      "100%|██████████| 100/100 [03:55<00:00,  2.36s/it]\n"
     ]
    },
    {
     "name": "stdout",
     "output_type": "stream",
     "text": [
      "mean est:1.9335658777208664e-07, std est:3.233486137111052e-08\n",
      "mean calls:138139.65\n",
      "std. re.:864874.428600197\n",
      "std. rel. adj.:119473450860.78119\n",
      "p_fail_mala=1.9335658777208664e-07\n"
     ]
    }
   ],
   "source": [
    "p_fail_mala, dict_out=run_exp.run_stat_rel_exp(model=model,method='smc_multi',X=X,y=y,dataset_name='mnist',\n",
    "                        n_rep=100, verbose=0, track_accept=False,ess_alpha_range=[0.875],\n",
    "                        alpha=0.2, L_range=[1], adapt_func='ess',\n",
    "                         N_range=[500],T_range=[20],epsilon_range=epsilon_range,repeat_exp=True,\n",
    " )\n",
    "exp_config,method_config_mala, agg_res_df = dict_out['exp_config'],dict_out['method_config'],dict_out['agg_res_df']\n",
    "results_df_mala = dict_out['results_df']\n",
    "print(f\"p_fail_mala={p_fail_mala}\")"
   ]
  },
  {
   "cell_type": "code",
   "execution_count": 234,
   "metadata": {},
   "outputs": [
    {
     "data": {
      "text/plain": [
       "tensor([[  0.4927,  -4.5988,   2.9991,   5.6759,  -6.5458,   0.6176, -10.5810,\n",
       "          11.0179,   0.7859,   1.3639]], device='cuda:0',\n",
       "       grad_fn=<AddmmBackward0>)"
      ]
     },
     "execution_count": 234,
     "metadata": {},
     "output_type": "execute_result"
    }
   ],
   "source": [
    "model(X)"
   ]
  },
  {
   "cell_type": "code",
   "execution_count": 232,
   "metadata": {},
   "outputs": [
    {
     "data": {
      "text/plain": [
       "0.02251716"
      ]
     },
     "execution_count": 232,
     "metadata": {},
     "output_type": "execute_result"
    }
   ],
   "source": [
    "1125858/5e7"
   ]
  },
  {
   "cell_type": "code",
   "execution_count": 233,
   "metadata": {},
   "outputs": [
    {
     "name": "stdout",
     "output_type": "stream",
     "text": [
      "with parameters in {'steps_range': [1000], 'num_iter_range': [10], 'stepsize_range': [0.01]}\n",
      "Starting FORM simulation 1/1, with model: mnist_model, img_idx:0,eps:0.18,steps: 1000: num_iter: 10: stepsize: 0.01\n"
     ]
    },
    {
     "name": "stderr",
     "output_type": "stream",
     "text": [
      "100%|██████████| 1/1 [00:20<00:00, 20.67s/it]\n"
     ]
    },
    {
     "name": "stdout",
     "output_type": "stream",
     "text": [
      "mean est:2.019410905655691e-12, std est:0.0\n",
      "mean calls:10000.0\n",
      "std. re.:0.0\n",
      "std. rel. adj.:0.0\n",
      "mean rel. error:0.9999896415888384\n",
      "std rel. error:0.0\n",
      "stat performance (per 1k calls):0.0\n"
     ]
    }
   ],
   "source": [
    "p_fail_form,dict_out_form = run_exp.run_stat_rel_exp(model=model,method='form',X=X,y=y,dataset_name='mnist',\n",
    "                    search_method='carlini',epsilon_range = epsilon_range,\n",
    "                    steps_range=[1000,],num_iter_range=[10],stepsize_range=[1e-2],\n",
    "                    repeat_exp=True, random_init=False, \n",
    "                    sigma_init=0.000001,\n",
    "                        \n",
    "                        \n",
    "                        n_rep=1, verbose=0,p_ref=p_ref)"
   ]
  },
  {
   "cell_type": "code",
   "execution_count": 74,
   "metadata": {},
   "outputs": [
    {
     "name": "stdout",
     "output_type": "stream",
     "text": [
      "with parameters in {'N_range': [100000000], 'batch_size_range': [400000]}\n",
      "Starting CrudeMC simulation 1/1, with model: mnist_model, img_idx:0,eps:0.18,N: 100000000: batch_size: 400000\n"
     ]
    },
    {
     "name": "stderr",
     "output_type": "stream",
     "text": [
      "100%|██████████| 5/5 [02:43<00:00, 32.75s/it]\n"
     ]
    },
    {
     "name": "stdout",
     "output_type": "stream",
     "text": [
      "mean est:2.300000261357127e-07, std est:5.403701663908578e-08\n",
      "mean calls:100000000.0\n",
      "std. re.:1021493.4661295576\n",
      "std. rel. adj.:102149346612955.77\n"
     ]
    }
   ],
   "source": [
    "p_fail_mc, dict_out_mc = run_exp.run_stat_rel_exp(model=model, method = 'CrudeMC',\n",
    "            X=X, y=y, dataset_name='mnist',epsilon_range=epsilon_range,\n",
    "            repeat_exp=True,n_rep=5, \n",
    "            N_range=[int(1e8)],batch_size_range=[int(4e5)],track_advs=False) "
   ]
  },
  {
   "cell_type": "code",
   "execution_count": 75,
   "metadata": {},
   "outputs": [
    {
     "data": {
      "text/plain": [
       "dnn2(\n",
       "  (linear1): Linear(in_features=784, out_features=200, bias=True)\n",
       "  (linear2): Linear(in_features=200, out_features=10, bias=True)\n",
       "  (flat_op): Flatten()\n",
       ")"
      ]
     },
     "execution_count": 75,
     "metadata": {},
     "output_type": "execute_result"
    }
   ],
   "source": [
    "exp_config.model"
   ]
  },
  {
   "cell_type": "markdown",
   "metadata": {},
   "source": [
    "## 4. Analysis of Experiments"
   ]
  },
  {
   "cell_type": "code",
   "execution_count": 76,
   "metadata": {},
   "outputs": [],
   "source": [
    "eps=0.18"
   ]
  },
  {
   "cell_type": "code",
   "execution_count": 82,
   "metadata": {},
   "outputs": [
    {
     "data": {
      "image/png": "[encoded data removed]",
      "text/plain": [
       "<Figure size 640x480 with 1 Axes>"
      ]
     },
     "metadata": {},
     "output_type": "display_data"
    }
   ],
   "source": [
    "fig=plt.figure()\n",
    "ax=plt.axes()\n",
    "ax.set_xscale('log')\n",
    "mala_df=  utils.get_sel_df(df=agg_res_df,triplets=[('method_name','MALA_SMC','='),])\n",
    "df = utils.get_sel_df(mala_df,triplets=[('epsilon',eps,'='),('ess_alpha',0.875,'='),('alpha',0.25,'=')])\n",
    "for T in df['T'].unique():\n",
    "    df = utils.get_sel_df(df,triplets=[('T',T,'=')])\n",
    "    ax.errorbar(x=df['mean_calls'],y=df['mean_log_est'], yerr=df['std_log_est'],label=f'mean_log, T={T}',)\n",
    "    ax.legend()\n",
    "\n"
   ]
  },
  {
   "cell_type": "code",
   "execution_count": null,
   "metadata": {},
   "outputs": [],
   "source": []
  },
  {
   "cell_type": "code",
   "execution_count": null,
   "metadata": {},
   "outputs": [],
   "source": []
  },
  {
   "cell_type": "code",
   "execution_count": null,
   "metadata": {},
   "outputs": [],
   "source": []
  },
  {
   "cell_type": "code",
   "execution_count": null,
   "metadata": {},
   "outputs": [],
   "source": []
  }
 ],
 "metadata": {
  "kernelspec": {
   "display_name": "Python 3 (ipykernel)",
   "language": "python",
   "name": "python3"
  },
  "language_info": {
   "codemirror_mode": {
    "name": "ipython",
    "version": 3
   },
   "file_extension": ".py",
   "mimetype": "text/x-python",
   "name": "python",
   "nbconvert_exporter": "python",
   "pygments_lexer": "ipython3",
   "version": "3.10.6"
  }
 },
 "nbformat": 4,
 "nbformat_minor": 4
}
