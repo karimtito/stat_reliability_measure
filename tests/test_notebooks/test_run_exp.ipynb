{
 "cells": [
  {
   "attachments": {},
   "cell_type": "markdown",
   "metadata": {},
   "source": [
    "## Test fonction run exp"
   ]
  },
  {
   "attachments": {},
   "cell_type": "markdown",
   "metadata": {},
   "source": [
    "### 1. Imports"
   ]
  },
  {
   "cell_type": "code",
   "execution_count": 1,
   "metadata": {},
   "outputs": [],
   "source": [
    "import torch\n",
    "import math\n",
    "import config as config_\n",
    "from importlib import reload\n",
    "import matplotlib.pyplot as plt"
   ]
  },
  {
   "cell_type": "code",
   "execution_count": 2,
   "metadata": {},
   "outputs": [],
   "source": [
    "import stat_reliability_measure.dev.torch_utils as t_u\n",
    "from dev.amls.amls_config import MLS_SMC_Config\n",
    "import stat_reliability_measure.dev.utils as utils\n",
    "import stat_reliability_measure.run_exp as run_exp\n",
    "from config import Exp2Config\n",
    "import stat_reliability_measure.dev.smc.smc_pyt as smc_pyt\n",
    "import stat_reliability_measure.dev.amls.amls_pyt as amls_pyt\n",
    "import dev.amls.amls_config as amls_config \n",
    "import stat_reliability_measure.dev.mls.webb_config as webb_config\n",
    "import stat_reliability_measure.dev.mls.amls_uniform as amls_webb\n",
    "from dev.utils import range_vars,simple_vars\n",
    "import os "
   ]
  },
  {
   "attachments": {},
   "cell_type": "markdown",
   "metadata": {},
   "source": [
    "### 2. Model & Data load"
   ]
  },
  {
   "cell_type": "code",
   "execution_count": 3,
   "metadata": {},
   "outputs": [
    {
     "data": {
      "text/plain": [
       "<module 'config' from '/home/karim-tito/stat_reliability_measure/config.py'>"
      ]
     },
     "execution_count": 3,
     "metadata": {},
     "output_type": "execute_result"
    }
   ],
   "source": [
    "reload(config_)"
   ]
  },
  {
   "cell_type": "code",
   "execution_count": 4,
   "metadata": {},
   "outputs": [],
   "source": [
    "config = Exp2Config(method_name=\"amls_webb\")"
   ]
  },
  {
   "cell_type": "code",
   "execution_count": 5,
   "metadata": {},
   "outputs": [
    {
     "name": "stdout",
     "output_type": "stream",
     "text": [
      "input_shape:(1, 28, 28)\n"
     ]
    }
   ],
   "source": [
    "config.update()\n",
    "os.rmdir(config.exp_log_path)"
   ]
  },
  {
   "cell_type": "code",
   "execution_count": 6,
   "metadata": {},
   "outputs": [],
   "source": [
    "model=config.model"
   ]
  },
  {
   "cell_type": "code",
   "execution_count": 7,
   "metadata": {},
   "outputs": [],
   "source": [
    "X,y = config.X[:1], config.y[:1]"
   ]
  },
  {
   "cell_type": "code",
   "execution_count": 8,
   "metadata": {},
   "outputs": [
    {
     "data": {
      "text/plain": [
       "0.9921875"
      ]
     },
     "execution_count": 8,
     "metadata": {},
     "output_type": "execute_result"
    }
   ],
   "source": [
    "config.sample_accuracy"
   ]
  },
  {
   "attachments": {},
   "cell_type": "markdown",
   "metadata": {},
   "source": [
    "## 3. Experiments with MALA-SMC, ours implementation and Webb's implementation of AMLS algorithm"
   ]
  },
  {
   "cell_type": "code",
   "execution_count": 34,
   "metadata": {},
   "outputs": [],
   "source": [
    "epsilon_range=[0.18]\n",
    "dataset='mnist'\n",
    "n_rep = 100 \n",
    "method_ref='MALA_SMC'\n",
    "N_ref = 4000\n",
    "T_ref = 50\n",
    "ess_ref = 0.9\n",
    "alpha_ref = 0.2"
   ]
  },
  {
   "cell_type": "code",
   "execution_count": null,
   "metadata": {},
   "outputs": [],
   "source": [
    "results_df, exp_config,method_config,agg_res_df = run_exp.run_stat_rel_exp(model=model,X=X,y=y, \n",
    "                                             method='mala', dataset_name=dataset,n_rep=100,\n",
    "                                epsilon_range=epsilon_range, update_aggr_res=True ,track_accept=False,\n",
    "                                N_range=[N_ref], T_range =[T_ref],ess_alpha = ess_ref,alpha=alpha_ref)\n",
    "p_ref = results_df['mean_est'].values[0]"
   ]
  },
  {
   "cell_type": "code",
   "execution_count": 96,
   "metadata": {},
   "outputs": [],
   "source": [
    "ref_exp = utils.get_sel_df(df=agg_res_df, triplets=[('method_name',method_ref,'='),\n",
    "        ('N',N_ref,'='),('T',T_ref,'='),('alpha',alpha_ref,'=') ])"
   ]
  },
  {
   "cell_type": "code",
   "execution_count": 97,
   "metadata": {},
   "outputs": [],
   "source": [
    "p_ref =ref_exp['mean_est'].values[0]"
   ]
  },
  {
   "cell_type": "code",
   "execution_count": 98,
   "metadata": {},
   "outputs": [
    {
     "data": {
      "text/plain": [
       "1.417912914689623e-06"
      ]
     },
     "execution_count": 98,
     "metadata": {},
     "output_type": "execute_result"
    }
   ],
   "source": [
    "p_ref"
   ]
  },
  {
   "cell_type": "code",
   "execution_count": 63,
   "metadata": {},
   "outputs": [
    {
     "data": {
      "text/plain": [
       "<module 'stat_reliability_measure.run_exp' from '/home/karim-tito/stat_reliability_measure/run_exp.py'>"
      ]
     },
     "execution_count": 63,
     "metadata": {},
     "output_type": "execute_result"
    }
   ],
   "source": [
    "reload(amls_config)\n",
    "reload(config_)\n",
    "reload(webb_config)\n",
    "reload(amls_webb)\n",
    "reload(amls_pyt)\n",
    "reload(smc_pyt)\n",
    "reload(run_exp)"
   ]
  },
  {
   "cell_type": "code",
   "execution_count": 100,
   "metadata": {},
   "outputs": [
    {
     "name": "stdout",
     "output_type": "stream",
     "text": [
      "[[500], [10, 20, 50, 100, 200], [0.1]]\n",
      "Running reliability experiments on architecture custom trained on mnist.\n",
      "Testing uniform noise pertubation with epsilon in [0.18]\n",
      "{'N_range': [500], 'T_range': [10, 20, 50, 100, 200], 'ratio_range': [0.1]}\n",
      "Starting MLS_Webb simulation 1/5, with model: mnist_model, img_idx:0,eps:0.18,N: 500: T: 10: ratio: 0.1\n"
     ]
    },
    {
     "name": "stderr",
     "output_type": "stream",
     "text": [
      "  0%|          | 0/100 [00:00<?, ?it/s]"
     ]
    },
    {
     "name": "stderr",
     "output_type": "stream",
     "text": [
      "100%|██████████| 100/100 [00:45<00:00,  2.19it/s]\n"
     ]
    },
    {
     "name": "stdout",
     "output_type": "stream",
     "text": [
      "mean est:2.3834669536285416e-08, std est:1.6688917472871354e-07\n",
      "mean calls:72160.0\n",
      "std. re.:293771659.9923464\n",
      "std. rel. adj.:21198562985047.715\n",
      "mean rel. error:0.983190314941519\n",
      "std rel. error:0.11770058160817659\n",
      "stat performance (per 1k calls):8.493273968846022\n",
      "Starting MLS_Webb simulation 2/5, with model: mnist_model, img_idx:0,eps:0.18,N: 500: T: 20: ratio: 0.1\n"
     ]
    },
    {
     "name": "stderr",
     "output_type": "stream",
     "text": [
      "100%|██████████| 100/100 [01:11<00:00,  1.40it/s]\n"
     ]
    },
    {
     "name": "stdout",
     "output_type": "stream",
     "text": [
      "mean est:4.119323941728914e-07, std est:2.9993057176210154e-06\n",
      "mean calls:117285.0\n",
      "std. re.:17675383.418448802\n",
      "std. rel. adj.:2073057344232.7678\n",
      "mean rel. error:1.246102154914117\n",
      "std rel. error:1.8506941190540132\n",
      "stat performance (per 1k calls):217.0586597532499\n",
      "Starting MLS_Webb simulation 3/5, with model: mnist_model, img_idx:0,eps:0.18,N: 500: T: 50: ratio: 0.1\n"
     ]
    },
    {
     "name": "stderr",
     "output_type": "stream",
     "text": [
      "100%|██████████| 100/100 [02:34<00:00,  1.55s/it]\n"
     ]
    },
    {
     "name": "stdout",
     "output_type": "stream",
     "text": [
      "mean est:7.200586775854336e-08, std est:5.541428690256756e-07\n",
      "mean calls:235875.0\n",
      "std. re.:106877422.54916862\n",
      "std. rel. adj.:25209712043785.15\n",
      "mean rel. error:1.0073600652056454\n",
      "std rel. error:0.19742254496666542\n",
      "stat performance (per 1k calls):46.5670427940122\n",
      "Starting MLS_Webb simulation 4/5, with model: mnist_model, img_idx:0,eps:0.18,N: 500: T: 100: ratio: 0.1\n"
     ]
    },
    {
     "name": "stderr",
     "output_type": "stream",
     "text": [
      "100%|██████████| 100/100 [04:04<00:00,  2.44s/it]\n"
     ]
    },
    {
     "name": "stdout",
     "output_type": "stream",
     "text": [
      "mean est:7.302088221260254e-08, std est:1.5162254088968027e-07\n",
      "mean calls:411575.0\n",
      "std. re.:28436072.903760377\n",
      "std. rel. adj.:11703576705365.178\n",
      "mean rel. error:0.948501151617914\n",
      "std rel. error:0.10693360594918482\n",
      "stat performance (per 1k calls):44.011198868535736\n",
      "Starting MLS_Webb simulation 5/5, with model: mnist_model, img_idx:0,eps:0.18,N: 500: T: 200: ratio: 0.1\n"
     ]
    },
    {
     "name": "stderr",
     "output_type": "stream",
     "text": [
      "100%|██████████| 100/100 [07:37<00:00,  4.57s/it]\n"
     ]
    },
    {
     "name": "stdout",
     "output_type": "stream",
     "text": [
      "mean est:3.840419256527509e-07, std est:1.6240687825256416e-06\n",
      "mean calls:753750.0\n",
      "std. re.:11011516.685865363\n",
      "std. rel. adj.:8299930701971.018\n",
      "mean rel. error:0.9687746438046024\n",
      "std rel. error:0.9513476472783905\n",
      "stat performance (per 1k calls):717.0782891360868\n"
     ]
    }
   ],
   "source": [
    "results_df, exp_config, method_config2, agg_res_df=run_exp.run_stat_rel_exp(model=model,method='amls_webb',X=X,y=y,dataset_name=dataset,\n",
    "                        epsilon_range=epsilon_range, n_rep=100, update_aggr_res=False, \n",
    "                         N_range=[500],T_range=[10,20,50,100,200],ratio_range=[0.1,],repeat_exp=False,\n",
    "                        verbose=1,np_seed=0, torch_seed=0 ,p_ref=p_ref\n",
    " )"
   ]
  },
  {
   "cell_type": "code",
   "execution_count": 101,
   "metadata": {},
   "outputs": [
    {
     "name": "stdout",
     "output_type": "stream",
     "text": [
      "[[500], [20, 50, 100, 200], [0.1], [1.0]]\n",
      "Running reliability experiments on architecture custom trained on mnist.\n",
      "Testing uniform noise pertubation with epsilon in [0.18]\n",
      "{'N_range': [500], 'T_range': [20, 50, 100, 200], 'ratio_range': [0.1], 's_range': [1.0]}\n",
      "Starting MLS_SMC simulation 1/4, with model: mnist_model, img_idx:0,eps:0.18,N: 500: T: 20: ratio: 0.1: s: 1.0\n"
     ]
    },
    {
     "name": "stderr",
     "output_type": "stream",
     "text": [
      "  0%|          | 0/100 [00:00<?, ?it/s]"
     ]
    },
    {
     "name": "stderr",
     "output_type": "stream",
     "text": [
      "100%|██████████| 100/100 [00:21<00:00,  4.68it/s]\n"
     ]
    },
    {
     "name": "stdout",
     "output_type": "stream",
     "text": [
      "mean est:2.0940600000000007e-07, std est:8.427838372916276e-08\n",
      "mean calls:54950.0\n",
      "std. re.:1921931.7262933285\n",
      "std. rel. adj.:105610148359.8184\n",
      "mean rel. error:0.8523139201071185\n",
      "std rel. error:0.05943833563827229\n",
      "stat performance (per 1k calls):3.2661365433230625\n",
      "Starting MLS_SMC simulation 2/4, with model: mnist_model, img_idx:0,eps:0.18,N: 500: T: 50: ratio: 0.1: s: 1.0\n"
     ]
    },
    {
     "name": "stderr",
     "output_type": "stream",
     "text": [
      "100%|██████████| 100/100 [00:51<00:00,  1.96it/s]\n"
     ]
    },
    {
     "name": "stdout",
     "output_type": "stream",
     "text": [
      "mean est:1.8827000000000008e-07, std est:5.938265992695176e-08\n",
      "mean calls:135950.0\n",
      "std. re.:1675318.56765617\n",
      "std. rel. adj.:227759559272.85632\n",
      "mean rel. error:0.8672203362776959\n",
      "std rel. error:0.04188032939946136\n",
      "stat performance (per 1k calls):5.693630781856771\n",
      "Starting MLS_SMC simulation 3/4, with model: mnist_model, img_idx:0,eps:0.18,N: 500: T: 100: ratio: 0.1: s: 1.0\n"
     ]
    },
    {
     "name": "stderr",
     "output_type": "stream",
     "text": [
      "100%|██████████| 100/100 [01:45<00:00,  1.05s/it]\n"
     ]
    },
    {
     "name": "stdout",
     "output_type": "stream",
     "text": [
      "mean est:2.0255200000000005e-07, std est:6.583164053857388e-08\n",
      "mean calls:271850.0\n",
      "std. re.:1604580.8560148645\n",
      "std. rel. adj.:436205305707.6409\n",
      "mean rel. error:0.8571477853812073\n",
      "std rel. error:0.04642854991766842\n",
      "stat performance (per 1k calls):12.621601295118161\n",
      "Starting MLS_SMC simulation 4/4, with model: mnist_model, img_idx:0,eps:0.18,N: 500: T: 200: ratio: 0.1: s: 1.0\n"
     ]
    },
    {
     "name": "stderr",
     "output_type": "stream",
     "text": [
      "100%|██████████| 100/100 [03:15<00:00,  1.95s/it]\n"
     ]
    },
    {
     "name": "stdout",
     "output_type": "stream",
     "text": [
      "mean est:1.9278600000000004e-07, std est:6.179152210457356e-08\n",
      "mean calls:544100.0\n",
      "std. re.:1662562.2233017685\n",
      "std. rel. adj.:904600105698.4923\n",
      "mean rel. error:0.8640353733979492\n",
      "std rel. error:0.04357920819001747\n",
      "stat performance (per 1k calls):23.711447176188507\n"
     ]
    }
   ],
   "source": [
    "results_df, exp_config, method_config2, agg_res_df=run_exp.run_stat_rel_exp(model=model,method='amls_batch',X=X,y=y,dataset_name=dataset,\n",
    "                        epsilon_range=epsilon_range, n_rep=100, update_aggr_res=False, \n",
    "                         N_range=[500],T_range=[20,50,100,200],ratio_range=[0.1,],repeat_exp=False,\n",
    "                        verbose=1,np_seed=0, torch_seed=0,p_ref=p_ref )"
   ]
  },
  {
   "cell_type": "code",
   "execution_count": 102,
   "metadata": {},
   "outputs": [
    {
     "name": "stdout",
     "output_type": "stream",
     "text": [
      "[[1000], [2, 5, 10, 20], [0.8], [0.25], [1]]\n",
      "{'N_range': [1000], 'T_range': [2, 5, 10, 20], 'ess_alpha_range': [0.8], 'alpha_range': [0.25], 'L_range': [1]}\n",
      "Experiment already done for method: MALA_SMC\n",
      "Starting MALA_SMC simulation 1/4, with model: mnist_model, img_idx:0,eps:0.18,N: 1000: T: 2: ess_alpha: 0.8: alpha: 0.25: L: 1\n"
     ]
    },
    {
     "name": "stderr",
     "output_type": "stream",
     "text": [
      "100%|██████████| 100/100 [00:54<00:00,  1.82it/s]\n"
     ]
    },
    {
     "name": "stdout",
     "output_type": "stream",
     "text": [
      "mean est:3.3199127877026056e-07, std est:6.56873241568717e-07\n",
      "mean calls:122990.52\n",
      "std. re.:5959752.444343065\n",
      "std. rel. adj.:732993052201.0247\n",
      "mean rel. error:0.8591946936088233\n",
      "std rel. error:0.250881904803773\n",
      "stat performance (per 1k calls):30.85609593040654\n",
      "Experiment already done for method: MALA_SMC\n",
      "Starting MALA_SMC simulation 2/4, with model: mnist_model, img_idx:0,eps:0.18,N: 1000: T: 5: ess_alpha: 0.8: alpha: 0.25: L: 1\n"
     ]
    },
    {
     "name": "stderr",
     "output_type": "stream",
     "text": [
      "100%|██████████| 100/100 [01:39<00:00,  1.01it/s]\n"
     ]
    },
    {
     "name": "stdout",
     "output_type": "stream",
     "text": [
      "mean est:4.393163633409358e-07, std est:6.993738028431576e-07\n",
      "mean calls:297453.0\n",
      "std. re.:3623719.731391109\n",
      "std. rel. adj.:1077886305261.4796\n",
      "mean rel. error:0.7932847952292457\n",
      "std rel. error:0.30052781445775384\n",
      "stat performance (per 1k calls):89.39289999390225\n",
      "Experiment already done for method: MALA_SMC\n",
      "Starting MALA_SMC simulation 3/4, with model: mnist_model, img_idx:0,eps:0.18,N: 1000: T: 10: ess_alpha: 0.8: alpha: 0.25: L: 1\n"
     ]
    },
    {
     "name": "stderr",
     "output_type": "stream",
     "text": [
      "100%|██████████| 100/100 [02:35<00:00,  1.55s/it]\n"
     ]
    },
    {
     "name": "stdout",
     "output_type": "stream",
     "text": [
      "mean est:4.0453759979186545e-07, std est:2.9988842967001697e-07\n",
      "mean calls:586885.8\n",
      "std. re.:1832491.3079786676\n",
      "std. rel. adj.:1075463127276.1068\n",
      "mean rel. error:0.7297418585021004\n",
      "std rel. error:0.15165095576847884\n",
      "stat performance (per 1k calls):89.00179249694833\n",
      "Experiment already done for method: MALA_SMC\n",
      "Starting MALA_SMC simulation 4/4, with model: mnist_model, img_idx:0,eps:0.18,N: 1000: T: 20: ess_alpha: 0.8: alpha: 0.25: L: 1\n"
     ]
    },
    {
     "name": "stderr",
     "output_type": "stream",
     "text": [
      "100%|██████████| 100/100 [04:20<00:00,  2.61s/it]\n"
     ]
    },
    {
     "name": "stdout",
     "output_type": "stream",
     "text": [
      "mean est:5.863126955318876e-07, std est:2.924567140079057e-07\n",
      "mean calls:1137793.8\n",
      "std. re.:850752.0411605528\n",
      "std. rel. adj.:967980397769.8218\n",
      "mean rel. error:0.6014770857528089\n",
      "std rel. error:0.1573068660990283\n",
      "stat performance (per 1k calls):178.9827769449046\n"
     ]
    }
   ],
   "source": [
    "results_df, exp_config, method_config, agg_res_df=run_exp.run_stat_rel_exp(model=model,method='mala',X=X,y=y,dataset_name='mnist',\n",
    "                        n_rep=100, verbose=0, track_accept=False,ess_alpha_range=[0.8],\n",
    "                         N_range=[1000],T_range=[2,5,10,20],epsilon_range=epsilon_range,repeat_exp=False,p_ref=p_ref\n",
    " )"
   ]
  },
  {
   "cell_type": "code",
   "execution_count": 67,
   "metadata": {},
   "outputs": [
    {
     "data": {
      "text/plain": [
       "0    0\n",
       "1    0\n",
       "Name: verbose, dtype: int64"
      ]
     },
     "execution_count": 67,
     "metadata": {},
     "output_type": "execute_result"
    }
   ],
   "source": [
    "results_df['verbose']"
   ]
  },
  {
   "cell_type": "code",
   "execution_count": 18,
   "metadata": {},
   "outputs": [],
   "source": [
    "results_df = utils.get_sel_df(results_df,triplets=[('method_name','MLS_Webb','=')])"
   ]
  },
  {
   "cell_type": "markdown",
   "metadata": {},
   "source": [
    "## 4. Analysis of Experiments"
   ]
  },
  {
   "cell_type": "code",
   "execution_count": 22,
   "metadata": {},
   "outputs": [],
   "source": [
    "eps=0.18"
   ]
  },
  {
   "cell_type": "code",
   "execution_count": 26,
   "metadata": {},
   "outputs": [
    {
     "data": {
      "image/png": "[encoded data removed]",
      "text/plain": [
       "<Figure size 640x480 with 1 Axes>"
      ]
     },
     "metadata": {},
     "output_type": "display_data"
    }
   ],
   "source": [
    "fig=plt.figure()\n",
    "ax=plt.axes()\n",
    "ax.set_xscale('log')\n",
    "mls_webb_df=  utils.get_sel_df(df=agg_res_df,triplets=[('method_name','MLS_Webb','=')])\n",
    "for T in agg_res_df['T'].unique():\n",
    "    df = utils.get_sel_df(mls_webb_df,triplets=[('T',T,'='),('epsilon',eps,'=')])\n",
    "    ax.errorbar(x=df['mean_calls'],y=df['mean_log_est'], yerr=df['std_log_est'],label=f'mean_log, T={T}',)\n",
    "    ax.legend()\n",
    "\n"
   ]
  },
  {
   "cell_type": "code",
   "execution_count": null,
   "metadata": {},
   "outputs": [],
   "source": []
  },
  {
   "cell_type": "code",
   "execution_count": null,
   "metadata": {},
   "outputs": [],
   "source": []
  }
 ],
 "metadata": {
  "kernelspec": {
   "display_name": "deep_l",
   "language": "python",
   "name": "python3"
  },
  "language_info": {
   "codemirror_mode": {
    "name": "ipython",
    "version": 3
   },
   "file_extension": ".py",
   "mimetype": "text/x-python",
   "name": "python",
   "nbconvert_exporter": "python",
   "pygments_lexer": "ipython3",
   "version": "3.10.4"
  },
  "orig_nbformat": 4
 },
 "nbformat": 4,
 "nbformat_minor": 2
}
