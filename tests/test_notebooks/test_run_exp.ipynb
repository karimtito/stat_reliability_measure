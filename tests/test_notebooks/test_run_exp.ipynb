{
 "cells": [
  {
   "attachments": {},
   "cell_type": "markdown",
   "metadata": {},
   "source": [
    "## Test fonction run exp"
   ]
  },
  {
   "attachments": {},
   "cell_type": "markdown",
   "metadata": {},
   "source": [
    "### 1. Imports"
   ]
  },
  {
   "cell_type": "code",
   "execution_count": 3,
   "metadata": {},
   "outputs": [],
   "source": [
    "import torch\n",
    "import math\n",
    "import config as config_\n",
    "from importlib import reload\n",
    "import matplotlib.pyplot as plt"
   ]
  },
  {
   "cell_type": "code",
   "execution_count": 4,
   "metadata": {},
   "outputs": [],
   "source": [
    "import stat_reliability_measure.dev.torch_utils as t_u\n",
    "from dev.amls.amls_config import MLS_SMC_Config\n",
    "import stat_reliability_measure.dev.utils as utils\n",
    "import stat_reliability_measure.run_exp as run_exp\n",
    "from config import Exp2Config\n",
    "import stat_reliability_measure.dev.smc.smc_pyt as smc_pyt\n",
    "import stat_reliability_measure.dev.amls.amls_pyt as amls_pyt\n",
    "import stat_reliability_measure.dev.form.form_pyt as form_pyt\n",
    "import dev.amls.amls_config as amls_config \n",
    "import stat_reliability_measure.dev.mls.webb_config as webb_config\n",
    "import stat_reliability_measure.dev.form.form_config as form_config\n",
    "import stat_reliability_measure.dev.mls.amls_uniform as amls_webb\n",
    "import stat_reliability_measure.dev.mc.mc_pyt as mc_pyt\n",
    "import stat_reliability_measure.dev.mc.mc_config as mc_config\n",
    "from dev.utils import range_vars,simple_vars\n",
    "import pandas as pd\n",
    "import os \n"
   ]
  },
  {
   "attachments": {},
   "cell_type": "markdown",
   "metadata": {},
   "source": [
    "### 2. Model & Data load"
   ]
  },
  {
   "cell_type": "code",
   "execution_count": 5,
   "metadata": {},
   "outputs": [
    {
     "data": {
      "text/plain": [
       "<module 'config' from '/home/karim-tito/stat_reliability_measure/config.py'>"
      ]
     },
     "execution_count": 5,
     "metadata": {},
     "output_type": "execute_result"
    }
   ],
   "source": [
    "reload(config_)"
   ]
  },
  {
   "cell_type": "code",
   "execution_count": 6,
   "metadata": {},
   "outputs": [],
   "source": [
    "config = Exp2Config(method_name=\"amls_webb\")"
   ]
  },
  {
   "cell_type": "code",
   "execution_count": 7,
   "metadata": {},
   "outputs": [
    {
     "name": "stdout",
     "output_type": "stream",
     "text": [
      "input_shape:(1, 28, 28)\n"
     ]
    }
   ],
   "source": [
    "config.update()\n",
    "os.rmdir(config.exp_log_path)"
   ]
  },
  {
   "cell_type": "code",
   "execution_count": 8,
   "metadata": {},
   "outputs": [],
   "source": [
    "model=config.model"
   ]
  },
  {
   "cell_type": "code",
   "execution_count": 9,
   "metadata": {},
   "outputs": [],
   "source": [
    "X,y = config.X[:1], config.y[:1]"
   ]
  },
  {
   "cell_type": "code",
   "execution_count": 10,
   "metadata": {},
   "outputs": [
    {
     "data": {
      "text/plain": [
       "0.9921875"
      ]
     },
     "execution_count": 10,
     "metadata": {},
     "output_type": "execute_result"
    }
   ],
   "source": [
    "config.sample_accuracy"
   ]
  },
  {
   "attachments": {},
   "cell_type": "markdown",
   "metadata": {},
   "source": [
    "## 3. Experiments with MALA-SMC, ours implementation and Webb's implementation of AMLS algorithm"
   ]
  },
  {
   "cell_type": "code",
   "execution_count": 11,
   "metadata": {},
   "outputs": [],
   "source": [
    "epsilon_range=[0.19]\n",
    "dataset='mnist'\n",
    "n_rep = 100 \n",
    "method_ref='MALA_SMC'\n",
    "N_ref = 4000\n",
    "T_ref = 50\n",
    "ess_ref = 0.9\n",
    "alpha_ref = 0.2"
   ]
  },
  {
   "cell_type": "code",
   "execution_count": 14,
   "metadata": {},
   "outputs": [
    {
     "name": "stdout",
     "output_type": "stream",
     "text": [
      "[[4000], [50], [0.9], [0.2], [1]]\n",
      "{'N_range': [4000], 'T_range': [50], 'ess_alpha_range': [0.9], 'alpha_range': [0.2], 'L_range': [1]}\n",
      "Starting MALA_SMC simulation 1/1, with model: mnist_model, img_idx:0,eps:0.19,N: 4000: T: 50: ess_alpha: 0.9: alpha: 0.2: L: 1\n"
     ]
    },
    {
     "name": "stderr",
     "output_type": "stream",
     "text": [
      "100%|██████████| 5/5 [00:57<00:00, 11.53s/it]\n"
     ]
    },
    {
     "name": "stdout",
     "output_type": "stream",
     "text": [
      "mean est:3.326648838992696e-05, std est:4.668333740153764e-06\n",
      "mean calls:9985351.8\n",
      "std. re.:4218.402133275881\n",
      "std. rel. adj.:42122229334.630165\n"
     ]
    }
   ],
   "source": [
    "p_ref, dict_out = run_exp.run_stat_rel_exp(model=model,X=X,y=y, \n",
    "                                                repeat_exp=True,\n",
    "                                             method='mala', dataset_name=dataset,n_rep=5,\n",
    "                                epsilon_range=epsilon_range, update_aggr_res=True ,track_accept=False,\n",
    "                                N_range=[N_ref], T_range =[T_ref],ess_alpha = ess_ref,alpha=alpha_ref)"
   ]
  },
  {
   "cell_type": "code",
   "execution_count": 15,
   "metadata": {},
   "outputs": [
    {
     "data": {
      "text/plain": [
       "(2.7631995908450336e-05, 3.096394561065395e-06)"
      ]
     },
     "execution_count": 15,
     "metadata": {},
     "output_type": "execute_result"
    }
   ],
   "source": [
    "agg_res_df = pd.read_csv('../../logs/exp_2_mnist/aggr_res.csv')\n",
    "ref_exp = utils.get_sel_df(df=agg_res_df, triplets=[('method_name',method_ref,'='),\n",
    "                                                    ('epsilon',epsilon_range[0],'='),\n",
    "        ('N',N_ref,'='),('T',T_ref,'='),('alpha',alpha_ref,'='), ])\n",
    "p_ref,std_ref =ref_exp['mean_est'].values[0], ref_exp['std_est'].values[0]\n",
    "p_ref,std_ref"
   ]
  },
  {
   "cell_type": "code",
   "execution_count": 30,
   "metadata": {},
   "outputs": [
    {
     "data": {
      "text/html": [
       "<div>\n",
       "<style scoped>\n",
       "    .dataframe tbody tr th:only-of-type {\n",
       "        vertical-align: middle;\n",
       "    }\n",
       "\n",
       "    .dataframe tbody tr th {\n",
       "        vertical-align: top;\n",
       "    }\n",
       "\n",
       "    .dataframe thead th {\n",
       "        text-align: right;\n",
       "    }\n",
       "</style>\n",
       "<table border=\"1\" class=\"dataframe\">\n",
       "  <thead>\n",
       "    <tr style=\"text-align: right;\">\n",
       "      <th></th>\n",
       "      <th>method_name</th>\n",
       "      <th>gaussian_latent</th>\n",
       "      <th>N</th>\n",
       "      <th>rho</th>\n",
       "      <th>n_rep</th>\n",
       "      <th>T</th>\n",
       "      <th>epsilon</th>\n",
       "      <th>alpha</th>\n",
       "      <th>min_rate</th>\n",
       "      <th>mean_time</th>\n",
       "      <th>...</th>\n",
       "      <th>steps</th>\n",
       "      <th>tol</th>\n",
       "      <th>num_iter</th>\n",
       "      <th>stepsize</th>\n",
       "      <th>random_init</th>\n",
       "      <th>search_method</th>\n",
       "      <th>sigma_init</th>\n",
       "      <th>requires_h</th>\n",
       "      <th>batch_size</th>\n",
       "      <th>track_advs</th>\n",
       "    </tr>\n",
       "  </thead>\n",
       "  <tbody>\n",
       "    <tr>\n",
       "      <th>148</th>\n",
       "      <td>MALA_SMC</td>\n",
       "      <td>True</td>\n",
       "      <td>4000.0</td>\n",
       "      <td>NaN</td>\n",
       "      <td>5</td>\n",
       "      <td>50.0</td>\n",
       "      <td>0.19</td>\n",
       "      <td>0.2</td>\n",
       "      <td>0.15</td>\n",
       "      <td>11.907064</td>\n",
       "      <td>...</td>\n",
       "      <td>NaN</td>\n",
       "      <td>NaN</td>\n",
       "      <td>NaN</td>\n",
       "      <td>NaN</td>\n",
       "      <td>NaN</td>\n",
       "      <td>NaN</td>\n",
       "      <td>NaN</td>\n",
       "      <td>NaN</td>\n",
       "      <td>NaN</td>\n",
       "      <td>NaN</td>\n",
       "    </tr>\n",
       "  </tbody>\n",
       "</table>\n",
       "<p>1 rows × 163 columns</p>\n",
       "</div>"
      ],
      "text/plain": [
       "    method_name  gaussian_latent       N  rho  n_rep     T  epsilon  alpha  \\\n",
       "148    MALA_SMC             True  4000.0  NaN      5  50.0     0.19    0.2   \n",
       "\n",
       "     min_rate  mean_time  ...  steps  tol  num_iter  stepsize  random_init  \\\n",
       "148      0.15  11.907064  ...    NaN  NaN       NaN       NaN          NaN   \n",
       "\n",
       "     search_method  sigma_init  requires_h  batch_size  track_advs  \n",
       "148            NaN         NaN         NaN         NaN         NaN  \n",
       "\n",
       "[1 rows x 163 columns]"
      ]
     },
     "execution_count": 30,
     "metadata": {},
     "output_type": "execute_result"
    }
   ],
   "source": [
    "ref_exp"
   ]
  },
  {
   "cell_type": "code",
   "execution_count": 31,
   "metadata": {},
   "outputs": [
    {
     "data": {
      "text/plain": [
       "<module 'stat_reliability_measure.dev.mc.mc_pyt' from '/home/karim-tito/stat_reliability_measure/dev/mc/mc_pyt.py'>"
      ]
     },
     "execution_count": 31,
     "metadata": {},
     "output_type": "execute_result"
    }
   ],
   "source": [
    "reload(amls_config)\n",
    "reload(config_)\n",
    "reload(webb_config)\n",
    "reload(amls_webb)\n",
    "reload(amls_pyt)\n",
    "reload(smc_pyt)\n",
    "reload(run_exp)\n",
    "reload(form_config)\n",
    "reload(t_u)\n",
    "reload(form_pyt)\n",
    "reload(mc_config)\n",
    "reload(mc_pyt)\n"
   ]
  },
  {
   "cell_type": "code",
   "execution_count": 16,
   "metadata": {},
   "outputs": [
    {
     "name": "stdout",
     "output_type": "stream",
     "text": [
      "[[3000], [100], [0.5]]\n",
      "Running reliability experiments on architecture custom trained on mnist.\n",
      "Testing uniform noise pertubation with epsilon in [0.19]\n",
      "{'N_range': [3000], 'T_range': [100], 'ratio_range': [0.5]}\n",
      "Starting MLS_Webb simulation 1/1, with model: mnist_model, img_idx:0,eps:0.19,N: 3000: T: 100: ratio: 0.5\n"
     ]
    },
    {
     "name": "stderr",
     "output_type": "stream",
     "text": [
      "100%|██████████| 10/10 [01:51<00:00, 11.18s/it]\n"
     ]
    },
    {
     "name": "stdout",
     "output_type": "stream",
     "text": [
      "mean est:6.280589497108717e-06, std est:1.931128309624201e-06\n",
      "mean calls:5423700.0\n",
      "std. re.:48956.494549193034\n",
      "std. rel. adj.:265525339486.45825\n",
      "mean rel. error:0.7727059052151929\n",
      "std rel. error:0.06988739850796045\n",
      "stat performance (per 1k calls):379.0482832876251\n",
      "p_fail_webb=6.280589497108717e-06\n"
     ]
    }
   ],
   "source": [
    "p_fail_webb,dict_out=run_exp.run_stat_rel_exp(model=model,method='amls_webb',X=X,y=y,dataset_name=dataset,\n",
    "                        epsilon_range=epsilon_range, n_rep=10, update_aggr_res=False, \n",
    "                         N_range=[3000],T_range=[100,],ratio_range=[0.5,],repeat_exp=False,\n",
    "                        verbose=1,np_seed=0, torch_seed=0 ,p_ref=p_ref\n",
    " )\n",
    "exp_config,method_config_webb, agg_res_df = dict_out['exp_config'],dict_out['method_config'],dict_out['agg_res_df']\n",
    "results_df_webb=dict_out['results_df']\n",
    "print(f\"p_fail_webb={p_fail_webb}\")"
   ]
  },
  {
   "cell_type": "code",
   "execution_count": 17,
   "metadata": {},
   "outputs": [
    {
     "name": "stdout",
     "output_type": "stream",
     "text": [
      "[[3000], [100, 200, 400], [0.5], [1.0]]\n",
      "Running reliability experiments on architecture custom trained on mnist.\n",
      "Testing uniform noise pertubation with epsilon in [0.19]\n",
      "{'N_range': [3000], 'T_range': [100, 200, 400], 'ratio_range': [0.5], 's_range': [1.0]}\n",
      "Starting MLS_SMC simulation 1/3, with model: mnist_model, img_idx:0,eps:0.19,N: 3000: T: 100: ratio: 0.5: s: 1.0\n"
     ]
    },
    {
     "name": "stderr",
     "output_type": "stream",
     "text": [
      "  0%|          | 0/10 [00:00<?, ?it/s]"
     ]
    },
    {
     "name": "stderr",
     "output_type": "stream",
     "text": [
      "100%|██████████| 10/10 [00:36<00:00,  3.61s/it]\n"
     ]
    },
    {
     "name": "stdout",
     "output_type": "stream",
     "text": [
      "mean est:8.268229166666666e-06, std est:6.238522935836961e-07\n",
      "mean calls:2433000.0\n",
      "std. re.:9125.502020229651\n",
      "std. rel. adj.:22202346415.218742\n",
      "mean rel. error:0.7007733645422949\n",
      "std rel. error:0.02257717088735205\n",
      "stat performance (per 1k calls):54.930256768927535\n",
      "Starting MLS_SMC simulation 2/3, with model: mnist_model, img_idx:0,eps:0.19,N: 3000: T: 200: ratio: 0.5: s: 1.0\n"
     ]
    },
    {
     "name": "stderr",
     "output_type": "stream",
     "text": [
      "100%|██████████| 10/10 [01:09<00:00,  6.97s/it]\n"
     ]
    },
    {
     "name": "stdout",
     "output_type": "stream",
     "text": [
      "mean est:8.362325032552082e-06, std est:7.01280030622589e-07\n",
      "mean calls:4863000.0\n",
      "std. re.:10028.532453780526\n",
      "std. rel. adj.:48768753322.7347\n",
      "mean rel. error:0.6973680417347361\n",
      "std rel. error:0.02537927527732897\n",
      "stat performance (per 1k calls):123.41941567365078\n",
      "Starting MLS_SMC simulation 3/3, with model: mnist_model, img_idx:0,eps:0.19,N: 3000: T: 400: ratio: 0.5: s: 1.0\n"
     ]
    },
    {
     "name": "stderr",
     "output_type": "stream",
     "text": [
      "100%|██████████| 10/10 [02:24<00:00, 14.41s/it]\n"
     ]
    },
    {
     "name": "stdout",
     "output_type": "stream",
     "text": [
      "mean est:8.378601074218749e-06, std est:6.496018143901604e-07\n",
      "mean calls:9663000.0\n",
      "std. re.:9253.461088934098\n",
      "std. rel. adj.:89416194502.3702\n",
      "mean rel. error:0.6967790129247801\n",
      "std rel. error:0.023509044245026846\n",
      "stat performance (per 1k calls):227.1678945396944\n",
      "p_fail_mls: 8.336385091145832e-06\n"
     ]
    }
   ],
   "source": [
    "p_fail_mls,dict_out=run_exp.run_stat_rel_exp(model=model,method='amls_batch',X=X,y=y,dataset_name=dataset,\n",
    "                        epsilon_range=epsilon_range, n_rep=10, update_aggr_res=False, \n",
    "                         N_range=[3000,\n",
    "                                  ],T_range=[100,200,400],ratio_range=[0.5,],repeat_exp=False,\n",
    "                        verbose=1,np_seed=0, torch_seed=0,p_ref=p_ref )\n",
    "exp_config,method_config_mls, agg_res_df = dict_out['exp_config'],dict_out['method_config'],dict_out['agg_res_df']\n",
    "results_df_mls = dict_out['results_df']\n",
    "print(f\"p_fail_mls: {p_fail_mls}\")"
   ]
  },
  {
   "cell_type": "code",
   "execution_count": 18,
   "metadata": {},
   "outputs": [
    {
     "name": "stdout",
     "output_type": "stream",
     "text": [
      "[[3000], [20, 50, 100], [0.8], [0.25], [1]]\n",
      "{'N_range': [3000], 'T_range': [20, 50, 100], 'ess_alpha_range': [0.8], 'alpha_range': [0.25], 'L_range': [1]}\n",
      "Starting MALA_SMC simulation 1/3, with model: mnist_model, img_idx:0,eps:0.19,N: 3000: T: 20: ess_alpha: 0.8: alpha: 0.25: L: 1\n"
     ]
    },
    {
     "name": "stderr",
     "output_type": "stream",
     "text": [
      "100%|██████████| 1/1 [00:03<00:00,  3.64s/it]\n"
     ]
    },
    {
     "name": "stdout",
     "output_type": "stream",
     "text": [
      "mean est:1.269540280190995e-05, std est:0.0\n",
      "mean calls:2944080.0\n",
      "std. re.:0.0\n",
      "std. rel. adj.:0.0\n",
      "Starting MALA_SMC simulation 2/3, with model: mnist_model, img_idx:0,eps:0.19,N: 3000: T: 50: ess_alpha: 0.8: alpha: 0.25: L: 1\n"
     ]
    },
    {
     "name": "stderr",
     "output_type": "stream",
     "text": [
      "100%|██████████| 1/1 [00:07<00:00,  7.46s/it]\n"
     ]
    },
    {
     "name": "stdout",
     "output_type": "stream",
     "text": [
      "mean est:2.611917989270296e-05, std est:0.0\n",
      "mean calls:6163281.0\n",
      "std. re.:0.0\n",
      "std. rel. adj.:0.0\n",
      "Starting MALA_SMC simulation 3/3, with model: mnist_model, img_idx:0,eps:0.19,N: 3000: T: 100: ess_alpha: 0.8: alpha: 0.25: L: 1\n"
     ]
    },
    {
     "name": "stderr",
     "output_type": "stream",
     "text": [
      "100%|██████████| 1/1 [00:12<00:00, 12.64s/it]\n"
     ]
    },
    {
     "name": "stdout",
     "output_type": "stream",
     "text": [
      "mean est:4.110242298338562e-05, std est:0.0\n",
      "mean calls:11041092.0\n",
      "std. re.:0.0\n",
      "std. rel. adj.:0.0\n",
      "p_fail_mala=2.6639001892666176e-05\n"
     ]
    }
   ],
   "source": [
    "p_fail_mala, dict_out=run_exp.run_stat_rel_exp(model=model,method='mala',X=X,y=y,dataset_name='mnist',\n",
    "                        n_rep=1, verbose=0, track_accept=False,ess_alpha_range=[0.8],\n",
    "                         N_range=[3000],T_range=[20,50,100],epsilon_range=epsilon_range,repeat_exp=True,\n",
    " )\n",
    "exp_config,method_config_mala, agg_res_df = dict_out['exp_config'],dict_out['method_config'],dict_out['agg_res_df']\n",
    "results_df_mala = dict_out['results_df']\n",
    "print(f\"p_fail_mala={p_fail_mala}\")"
   ]
  },
  {
   "cell_type": "code",
   "execution_count": 17,
   "metadata": {},
   "outputs": [
    {
     "data": {
      "text/plain": [
       "0.02251716"
      ]
     },
     "execution_count": 17,
     "metadata": {},
     "output_type": "execute_result"
    }
   ],
   "source": [
    "1125858/5e7"
   ]
  },
  {
   "cell_type": "code",
   "execution_count": 18,
   "metadata": {},
   "outputs": [
    {
     "name": "stdout",
     "output_type": "stream",
     "text": [
      "[[1000], [10], [0.01]]\n",
      "{'steps_range': [1000], 'num_iter_range': [10], 'stepsize_range': [0.01]}\n",
      "Starting FORM simulation 1/1, with model: mnist_model, img_idx:0,eps:0.18,steps: 1000: num_iter: 10: stepsize: 0.01\n"
     ]
    },
    {
     "name": "stderr",
     "output_type": "stream",
     "text": [
      "100%|██████████| 1/1 [00:20<00:00, 20.49s/it]\n"
     ]
    },
    {
     "name": "stdout",
     "output_type": "stream",
     "text": [
      "mean est:2.019410905655691e-12, std est:0.0\n",
      "mean calls:10000.0\n",
      "std. re.:0.0\n",
      "std. rel. adj.:0.0\n",
      "mean rel. error:0.9999985757863655\n",
      "std rel. error:0.0\n",
      "stat performance (per 1k calls):0.0\n"
     ]
    }
   ],
   "source": [
    "p_fail_form,dict_out_form = run_exp.run_stat_rel_exp(model=model,method='form',X=X,y=y,dataset_name='mnist',\n",
    "                    search_method='carlini',epsilon_range = epsilon_range,\n",
    "                    steps_range=[1000,],num_iter_range=[10],stepsize_range=[1e-2],\n",
    "                    repeat_exp=True, random_init=False, \n",
    "                    sigma_init=0.000001,\n",
    "                        \n",
    "                        \n",
    "                        n_rep=1, verbose=0,p_ref=p_ref)"
   ]
  },
  {
   "cell_type": "code",
   "execution_count": 1,
   "metadata": {},
   "outputs": [
    {
     "ename": "NameError",
     "evalue": "name 'run_exp' is not defined",
     "output_type": "error",
     "traceback": [
      "\u001b[0;31m---------------------------------------------------------------------------\u001b[0m",
      "\u001b[0;31mNameError\u001b[0m                                 Traceback (most recent call last)",
      "\u001b[1;32m/home/karim-tito/stat_reliability_measure/tests/test_notebooks/test_run_exp.ipynb Cell 23\u001b[0m in \u001b[0;36m<cell line: 1>\u001b[0;34m()\u001b[0m\n\u001b[0;32m----> <a href='vscode-notebook-cell:/home/karim-tito/stat_reliability_measure/tests/test_notebooks/test_run_exp.ipynb#X30sZmlsZQ%3D%3D?line=0'>1</a>\u001b[0m p_fail_mc, dict_out_mc \u001b[39m=\u001b[39m run_exp\u001b[39m.\u001b[39mrun_stat_rel_exp(model\u001b[39m=\u001b[39mmodel, method \u001b[39m=\u001b[39m \u001b[39m'\u001b[39m\u001b[39mCrudeMC\u001b[39m\u001b[39m'\u001b[39m,\n\u001b[1;32m      <a href='vscode-notebook-cell:/home/karim-tito/stat_reliability_measure/tests/test_notebooks/test_run_exp.ipynb#X30sZmlsZQ%3D%3D?line=1'>2</a>\u001b[0m             X\u001b[39m=\u001b[39mX, y\u001b[39m=\u001b[39my, dataset_name\u001b[39m=\u001b[39m\u001b[39m'\u001b[39m\u001b[39mmnist\u001b[39m\u001b[39m'\u001b[39m,epsilon_range\u001b[39m=\u001b[39mepsilon_range,\n\u001b[1;32m      <a href='vscode-notebook-cell:/home/karim-tito/stat_reliability_measure/tests/test_notebooks/test_run_exp.ipynb#X30sZmlsZQ%3D%3D?line=2'>3</a>\u001b[0m             repeat_exp\u001b[39m=\u001b[39m\u001b[39mTrue\u001b[39;00m,n_rep\u001b[39m=\u001b[39m\u001b[39m10\u001b[39m, \n\u001b[1;32m      <a href='vscode-notebook-cell:/home/karim-tito/stat_reliability_measure/tests/test_notebooks/test_run_exp.ipynb#X30sZmlsZQ%3D%3D?line=3'>4</a>\u001b[0m             N_range\u001b[39m=\u001b[39m[\u001b[39mint\u001b[39m(\u001b[39m1e8\u001b[39m)],batch_size_range\u001b[39m=\u001b[39m[\u001b[39mint\u001b[39m(\u001b[39m4e5\u001b[39m)],track_advs\u001b[39m=\u001b[39m\u001b[39mFalse\u001b[39;00m) \n",
      "\u001b[0;31mNameError\u001b[0m: name 'run_exp' is not defined"
     ]
    }
   ],
   "source": [
    "p_fail_mc, dict_out_mc = run_exp.run_stat_rel_exp(model=model, method = 'CrudeMC',\n",
    "            X=X, y=y, dataset_name='mnist',epsilon_range=epsilon_range,\n",
    "            repeat_exp=True,n_rep=10, \n",
    "            N_range=[int(1e8)],batch_size_range=[int(4e5)],track_advs=False) "
   ]
  },
  {
   "cell_type": "markdown",
   "metadata": {},
   "source": [
    "## 4. Analysis of Experiments"
   ]
  },
  {
   "cell_type": "code",
   "execution_count": 33,
   "metadata": {},
   "outputs": [],
   "source": [
    "eps=0.18"
   ]
  },
  {
   "cell_type": "code",
   "execution_count": 26,
   "metadata": {},
   "outputs": [
    {
     "data": {
      "image/png": "[encoded data removed]",
      "text/plain": [
       "<Figure size 640x480 with 1 Axes>"
      ]
     },
     "metadata": {},
     "output_type": "display_data"
    }
   ],
   "source": [
    "fig=plt.figure()\n",
    "ax=plt.axes()\n",
    "ax.set_xscale('log')\n",
    "mls_webb_df=  utils.get_sel_df(df=agg_res_df,triplets=[('method_name','MLS_Webb','='),])\n",
    "for T in agg_res_df['T'].unique():\n",
    "    df = utils.get_sel_df(mls_webb_df,triplets=[('T',T,'='),('epsilon',eps,'=')])\n",
    "    ax.errorbar(x=df['mean_calls'],y=df['mean_log_est'], yerr=df['std_log_est'],label=f'mean_log, T={T}',)\n",
    "    ax.legend()\n",
    "\n"
   ]
  },
  {
   "cell_type": "code",
   "execution_count": null,
   "metadata": {},
   "outputs": [],
   "source": []
  },
  {
   "cell_type": "code",
   "execution_count": null,
   "metadata": {},
   "outputs": [],
   "source": []
  }
 ],
 "metadata": {
  "kernelspec": {
   "display_name": "deep_l",
   "language": "python",
   "name": "python3"
  },
  "language_info": {
   "codemirror_mode": {
    "name": "ipython",
    "version": 3
   },
   "file_extension": ".py",
   "mimetype": "text/x-python",
   "name": "python",
   "nbconvert_exporter": "python",
   "pygments_lexer": "ipython3",
   "version": "3.10.4"
  },
  "orig_nbformat": 4
 },
 "nbformat": 4,
 "nbformat_minor": 2
}
