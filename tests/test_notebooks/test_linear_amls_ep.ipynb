{
 "cells": [
  {
   "cell_type": "markdown",
   "id": "ordinary-gossip",
   "metadata": {},
   "source": [
    "# Testing EagerPy implementation of AMLS on toy model"
   ]
  },
  {
   "cell_type": "markdown",
   "id": "defined-alignment",
   "metadata": {},
   "source": [
    "## 1. Imports"
   ]
  },
  {
   "cell_type": "code",
   "execution_count": 1,
   "id": "finnish-glasgow",
   "metadata": {},
   "outputs": [],
   "source": [
    "import numpy as np \n",
    "from time import time\n",
    "import scipy.stats as stat\n",
    "import matplotlib.pyplot as plt\n",
    "import pandas as pd\n",
    "import os\n",
    "import argparse\n",
    "from tqdm import tqdm\n",
    "from importlib import reload\n",
    "import torch\n",
    "from stat_reliability_measure.home import ROOT_DIR\n",
    "from datetime import datetime\n",
    "from stat_reliability_measure.dev.utils import  float_to_file_float,str2bool,str2intList,str2floatList"
   ]
  },
  {
   "cell_type": "code",
   "execution_count": 2,
   "id": "alert-liabilities",
   "metadata": {},
   "outputs": [],
   "source": [
    "from stat_reliability_measure.dev.amls import amls_ep\n",
    "from stat_reliability_measure.dev.amls import amls_pyt"
   ]
  },
  {
   "cell_type": "code",
   "execution_count": 3,
   "id": "ec4b3a71",
   "metadata": {},
   "outputs": [
    {
     "data": {
      "text/plain": [
       "<module 'stat_reliability_measure.dev.amls.amls_ep' from '/home/karim-tito/stat_reliability_measure/dev/amls/amls_ep.py'>"
      ]
     },
     "execution_count": 3,
     "metadata": {},
     "output_type": "execute_result"
    }
   ],
   "source": [
    "reload(amls_ep)"
   ]
  },
  {
   "cell_type": "markdown",
   "id": "under-commodity",
   "metadata": {},
   "source": [
    "## 2. Config"
   ]
  },
  {
   "cell_type": "code",
   "execution_count": 16,
   "id": "lesbian-basketball",
   "metadata": {},
   "outputs": [],
   "source": [
    "method_name = \"amls_ep\"\n",
    "class config:\n",
    "    n_rep=200\n",
    "    verbose=0\n",
    "    min_rate=0.40\n",
    "    clip_s=True\n",
    "    s_min=8e-3\n",
    "    s_max=3\n",
    "    n_max=2000\n",
    "    decay=0.95\n",
    "    gain_rate=1.0001\n",
    "    allow_zero_est=True\n",
    "    \n",
    "    N=100\n",
    "    N_range=[]\n",
    "\n",
    "    T=10\n",
    "    T_range=[]\n",
    "\n",
    "    ratio=0.5\n",
    "    ratio_range=[]\n",
    "\n",
    "    s=1\n",
    "    s_range= []\n",
    "\n",
    "    p_t=1e-7\n",
    "    p_range=[]\n",
    "    \n",
    "    d = 1024\n",
    "    epsilon = 1\n",
    "    \n",
    "    \n",
    "    tqdm_opt=True\n",
    "    save_config = True\n",
    "    print_config=True\n",
    "    update_aggr_res=False\n",
    "    aggr_res_path = None\n",
    "\n",
    "    track_accept=False\n",
    "    track_finish=True\n",
    "    device = None\n",
    "\n",
    "    torch_seed=0\n",
    "    np_seed=0\n",
    "\n",
    "    log_dir=ROOT_DIR+\"/logs/linear_gaussian_tests\"\n",
    "    batch_opt=True\n",
    "    allow_multi_gpu=True\n",
    "    track_gpu=False\n",
    "    track_cpu=False\n",
    "    core_numbers=None\n",
    "    gpu_name=None \n",
    "    cpu_name=None\n",
    "    cores_number=None\n",
    "    correct_T=False\n",
    "    last_particle=False"
   ]
  },
  {
   "cell_type": "code",
   "execution_count": 17,
   "id": "purple-knight",
   "metadata": {},
   "outputs": [],
   "source": [
    "nb_runs=1\n",
    "if len(config.N_range)==0:\n",
    "    config.N_range=[config.N]\n",
    "nb_runs*=len(config.N_range)\n",
    "if len(config.T_range)==0:\n",
    "    config.T_range=[config.T]\n",
    "nb_runs*=len(config.T_range)\n",
    "if len(config.ratio_range)==0:\n",
    "    config.ratio_range=[config.ratio]\n",
    "nb_runs*=len(config.ratio_range)\n",
    "if len(config.s_range)==0:\n",
    "    config.s_range=[config.s]\n",
    "nb_runs*=len(config.s_range)\n",
    "if len(config.p_range)==0:\n",
    "    config.p_range=[config.p_t]\n",
    "nb_runs*=len(config.p_range)\n",
    "\n",
    "if config.device is None:\n",
    "    device= 'cuda:0' if torch.cuda.is_available() else 'cpu'\n",
    "\n",
    "\n",
    "if not config.allow_multi_gpu:\n",
    "    os.environ[\"CUDA_VISIBLE_DEVICES\"]=\"0\"\n",
    "\n",
    "if config.track_gpu:\n",
    "    import GPUtil\n",
    "    gpus=GPUtil.getGPUs()\n",
    "    if len(gpus)>1:\n",
    "        print(\"Multi gpus detected, only the first GPU will be tracked.\")\n",
    "    config.gpu_name=gpus[0].name\n",
    "\n",
    "if config.track_cpu:\n",
    "    import cpuinfo\n",
    "    config.cpu_name=cpuinfo.get_cpu_info()[[key for key in cpuinfo.get_cpu_info().keys() if 'brand' in key][0]]\n",
    "    config.cores_number=os.cpu_count()\n",
    "\n",
    "\n",
    "epsilon=config.epsilon\n",
    "d=config.d\n",
    "\n",
    "if not os.path.exists(ROOT_DIR+'/logs'):\n",
    "    os.mkdir(ROOT_DIR+'/logs')\n",
    "    os.mkdir(config.log_dir)\n",
    "elif not os.path.exists(config.log_dir):\n",
    "    os.mkdir(config.log_dir)\n",
    "raw_logs=os.path.join(config.log_dir,'raw_logs/')\n",
    "if not os.path.exists(raw_logs):\n",
    "    os.mkdir(raw_logs)\n",
    "raw_logs_path=os.path.join(raw_logs,method_name)\n",
    "if not os.path.exists(raw_logs_path):\n",
    "    os.mkdir(raw_logs_path)\n",
    "\n",
    "loc_time= datetime.today().isoformat().split('.')[0]\n",
    "\n",
    "exp_log_path=os.path.join(config.log_dir,method_name+'_t_'+loc_time.split('_')[0])\n",
    "os.mkdir(exp_log_path)\n",
    "exp_res = []\n"
   ]
  },
  {
   "cell_type": "markdown",
   "id": "3cc84786",
   "metadata": {},
   "source": [
    "## 3. Test of AMLS"
   ]
  },
  {
   "cell_type": "code",
   "execution_count": 22,
   "id": "d1e20fa9",
   "metadata": {},
   "outputs": [],
   "source": [
    "epsilon=config.epsilon\n",
    "e_1 = torch.Tensor([1]+[0]*(d-1),device=config.device)\n",
    "get_c_norm= lambda p:stat.norm.isf(p)\n",
    "i_run=0\n",
    "config.n_rep = 200\n"
   ]
  },
  {
   "cell_type": "code",
   "execution_count": 23,
   "id": "903f6e52",
   "metadata": {},
   "outputs": [],
   "source": [
    "for p_t in config.p_range:\n",
    "    c=get_c_norm(p_t)\n",
    "    P_target=stat.norm.sf(c)\n",
    "    if config.verbose>=5:\n",
    "        print(f\"P_target:{P_target}\")\n",
    "    arbitrary_thresh=40 #pretty useless a priori but should not hurt results\n",
    "    def v_batch_pyt(X,c=c):\n",
    "        return torch.clamp(input=c-X[:,0],min=-arbitrary_thresh, max = None)\n",
    "    def v_batch_ep(X, c=c):\n",
    "        return (c-X[:,0]).clip(min_ = -arbitrary_thresh, max_ = None)\n",
    "    amls_gen = lambda N: torch.randn(size=(N,d),device=config.device)\n",
    "    normal_kernel =  lambda x,s : (x + s*torch.randn(size = x.shape,device=config.device))/np.sqrt(1+s**2) #normal law kernel, appliable to vectors \n",
    "    normal_kernel_ep = lambda x,s : (x + s*x.normal(shape=x.shape))/np.sqrt(1+s**2)\n",
    "    h_V_batch_pyt= lambda x: -v_batch_pyt(x).reshape((x.shape[0],1))\n",
    "    h_V_batch_ep= lambda x: -v_batch_ep(x).reshape((x.shape[0],1))\n",
    "\n"
   ]
  },
  {
   "cell_type": "code",
   "execution_count": 24,
   "id": "d05d8540",
   "metadata": {},
   "outputs": [
    {
     "name": "stderr",
     "output_type": "stream",
     "text": [
      "  0%|          | 1/200 [00:00<00:30,  6.55it/s]"
     ]
    },
    {
     "name": "stdout",
     "output_type": "stream",
     "text": [
      "Starting {method_name} run 1/1, with p_t= 1e-07,N=100,K=50,T=10,s=1\n"
     ]
    },
    {
     "name": "stderr",
     "output_type": "stream",
     "text": [
      "100%|██████████| 200/200 [00:26<00:00,  7.43it/s]"
     ]
    },
    {
     "name": "stdout",
     "output_type": "stream",
     "text": [
      "mean est:9.85465943813324e-08, std est:6.679141662058736e-08\n",
      "mean rel error:0.5135169434547424\n",
      "MSE rel:0.4463205722077249\n",
      "MSE adj.:5.2040978719420716e-11\n",
      "MSE rel. adj.:5204.097871942073\n",
      "mean calls:11660.0\n"
     ]
    },
    {
     "name": "stderr",
     "output_type": "stream",
     "text": [
      "\n"
     ]
    }
   ],
   "source": [
    "for T in config.T_range:\n",
    "        for N in config.N_range: \n",
    "            for s in config.s_range:\n",
    "                for ratio in config.ratio_range: \n",
    "                    loc_time= datetime.today().isoformat().split('.')[0]\n",
    "                    log_name=method_name+f'_N_{N}_T_{T}_s_{float_to_file_float(s)}_r_{float_to_file_float(ratio)}_t_'+'_'+loc_time.split('_')[0]\n",
    "                    log_path=os.path.join(exp_log_path,log_name)\n",
    "                    os.mkdir(path=log_path)\n",
    "                    i_run+=1\n",
    "                    \n",
    "                    \n",
    "                    K=int(N*ratio) if not config.last_particle else N-1\n",
    "                    print(f\"Starting {method_name} run {i_run}/{nb_runs}, with p_t= {p_t},N={N},K={K},T={T},s={s}\")\n",
    "                    if config.verbose>3:\n",
    "                        print(f\"K/N:{K/N}\")\n",
    "                    times= []\n",
    "                    rel_error= []\n",
    "                    ests = [] \n",
    "                    calls=[]\n",
    "                    if config.track_finish:\n",
    "                        finish_flags=[]\n",
    "                    for i in tqdm(range(config.n_rep)):\n",
    "                        t=time()\n",
    "                        if config.batch_opt:\n",
    "                            amls_res=amls_ep.ImportanceSplittingPytBatch(amls_gen, normal_kernel_ep,K=K, N=N,s=s,  h=h_V_batch_ep, \n",
    "                        tau=1e-15 , n_max=config.n_max,clip_s=config.clip_s , T=T,\n",
    "                        s_min= config.s_min, s_max =config.s_max,verbose= config.verbose,\n",
    "                        device=config.device,track_accept=config.track_accept)\n",
    "\n",
    "                        else:\n",
    "                            amls_res = amls_ep.ImportanceSplittingPyt(amls_gen, normal_kernel_ep,K=K, N=N,s=s,  h=h_V_batch_ep, \n",
    "                        tau=0 , n_max=config.n_max,clip_s=config.clip_s , T=T,\n",
    "                        s_min= config.s_min, s_max =config.s_max,verbose= config.verbose,\n",
    "                        device=config.device, )\n",
    "                        t=time()-t\n",
    "                        est=amls_res[0]\n",
    "                        \n",
    "                        dict_out=amls_res[1]\n",
    "                        times.append(t)\n",
    "                        ests.append(est)\n",
    "                        calls.append(dict_out['Count_h'])\n",
    "                    times=np.array(times)  \n",
    "                    ests=np.array(ests)\n",
    "                    abs_errors=np.abs(ests-p_t)\n",
    "                    rel_errors=abs_errors/p_t\n",
    "                    bias=np.mean(ests)-p_t\n",
    "                    calls=np.array(calls)\n",
    "                    errs=np.abs(ests-p_t)\n",
    "                    q_1,med_est,q_3=np.quantile(a=ests,q=[0.25,0.5,0.75])\n",
    "                    mean_calls=calls.mean()\n",
    "                    std_calls=calls.std()\n",
    "                    MSE=np.mean(abs_errors**2)\n",
    "                    MSE_adj=MSE*mean_calls\n",
    "                    MSE_rel=MSE/p_t**2\n",
    "                    MSE_rel_adj=MSE_rel*mean_calls\n",
    "                    \n",
    "                    print(f\"mean est:{ests.mean()}, std est:{ests.std()}\")\n",
    "                    print(f\"mean rel error:{rel_errors.mean()}\")\n",
    "                    print(f\"MSE rel:{MSE/p_t**2}\")\n",
    "                    print(f\"MSE adj.:{MSE_adj}\")\n",
    "                    print(f\"MSE rel. adj.:{MSE_rel_adj}\")\n",
    "                    print(f\"mean calls:{calls.mean()}\")"
   ]
  },
  {
   "cell_type": "code",
   "execution_count": 25,
   "id": "be58cbca",
   "metadata": {},
   "outputs": [
    {
     "name": "stderr",
     "output_type": "stream",
     "text": [
      "  0%|          | 1/200 [00:00<00:33,  5.89it/s]"
     ]
    },
    {
     "name": "stdout",
     "output_type": "stream",
     "text": [
      "Starting {method_name} run 2/1, with p_t= 1e-07,N=100,K=50,T=10,s=1\n"
     ]
    },
    {
     "name": "stderr",
     "output_type": "stream",
     "text": [
      "100%|██████████| 200/200 [00:23<00:00,  8.51it/s]"
     ]
    },
    {
     "name": "stdout",
     "output_type": "stream",
     "text": [
      "mean est:9.848549962043761e-08, std est:6.642025233599491e-08\n",
      "mean rel error:0.5180104899406434\n",
      "MSE rel:0.44139436317769315\n",
      "MSE adj.:5.14886524646779e-11\n",
      "MSE rel. adj.:5148.865246467791\n",
      "mean calls:11665.0\n"
     ]
    },
    {
     "name": "stderr",
     "output_type": "stream",
     "text": [
      "\n"
     ]
    }
   ],
   "source": [
    "for T in config.T_range:\n",
    "        for N in config.N_range: \n",
    "            for s in config.s_range:\n",
    "                for ratio in config.ratio_range: \n",
    "                    loc_time= datetime.today().isoformat().split('.')[0]\n",
    "                    log_name=method_name+f'_N_{N}_T_{T}_s_{float_to_file_float(s)}_r_{float_to_file_float(ratio)}_t_'+'_'+loc_time.split('_')[0]\n",
    "                    log_path=os.path.join(exp_log_path,log_name)\n",
    "                    os.mkdir(path=log_path)\n",
    "                    i_run+=1\n",
    "                    \n",
    "                    \n",
    "                    K=int(N*ratio) if not config.last_particle else N-1\n",
    "                    print(f\"Starting {method_name} run {i_run}/{nb_runs}, with p_t= {p_t},N={N},K={K},T={T},s={s}\")\n",
    "                    if config.verbose>3:\n",
    "                        print(f\"K/N:{K/N}\")\n",
    "                    times= []\n",
    "                    rel_error= []\n",
    "                    ests = [] \n",
    "                    calls=[]\n",
    "                    if config.track_finish:\n",
    "                        finish_flags=[]\n",
    "                    for i in tqdm(range(config.n_rep)):\n",
    "                        t=time()\n",
    "                        if config.batch_opt:\n",
    "                            amls_res=amls_pyt.ImportanceSplittingPytBatch(amls_gen, normal_kernel,K=K, N=N,s=s,  h=h_V_batch_pyt, \n",
    "                        tau=1e-15 , n_max=config.n_max,clip_s=config.clip_s , T=T,\n",
    "                        s_min= config.s_min, s_max =config.s_max,verbose= config.verbose,\n",
    "                        device=config.device,track_accept=config.track_accept)\n",
    "\n",
    "                        else:\n",
    "                            amls_res = amls_pyt.ImportanceSplittingPyt(amls_gen, normal_kernel,K=K, N=N,s=s,  h=h_V_batch_pyt, \n",
    "                        tau=0 , n_max=config.n_max,clip_s=config.clip_s , T=T,\n",
    "                        s_min= config.s_min, s_max =config.s_max,verbose= config.verbose,\n",
    "                        device=config.device, )\n",
    "                        t=time()-t\n",
    "                        est=amls_res[0]\n",
    "                        \n",
    "                        dict_out=amls_res[1]\n",
    "                        times.append(t)\n",
    "                        ests.append(est)\n",
    "                        calls.append(dict_out['Count_h'])\n",
    "                    times=np.array(times)  \n",
    "                    ests=np.array(ests)\n",
    "                    abs_errors=np.abs(ests-p_t)\n",
    "                    rel_errors=abs_errors/p_t\n",
    "                    bias=np.mean(ests)-p_t\n",
    "                    calls=np.array(calls)\n",
    "                    errs=np.abs(ests-p_t)\n",
    "                    q_1,med_est,q_3=np.quantile(a=ests,q=[0.25,0.5,0.75])\n",
    "                    mean_calls=calls.mean()\n",
    "                    std_calls=calls.std()\n",
    "                    MSE=np.mean(abs_errors**2)\n",
    "                    MSE_adj=MSE*mean_calls\n",
    "                    MSE_rel=MSE/p_t**2\n",
    "                    MSE_rel_adj=MSE_rel*mean_calls\n",
    "                    \n",
    "                    print(f\"mean est:{ests.mean()}, std est:{ests.std()}\")\n",
    "                    print(f\"mean rel error:{rel_errors.mean()}\")\n",
    "                    print(f\"MSE rel:{MSE/p_t**2}\")\n",
    "                    print(f\"MSE adj.:{MSE_adj}\")\n",
    "                    print(f\"MSE rel. adj.:{MSE_rel_adj}\")\n",
    "                    print(f\"mean calls:{calls.mean()}\")"
   ]
  },
  {
   "cell_type": "code",
   "execution_count": null,
   "id": "ad496cf7",
   "metadata": {},
   "outputs": [],
   "source": []
  }
 ],
 "metadata": {
  "kernelspec": {
   "display_name": "Python 3.7.9 ('deep_learning_env')",
   "language": "python",
   "name": "python3"
  },
  "language_info": {
   "codemirror_mode": {
    "name": "ipython",
    "version": 3
   },
   "file_extension": ".py",
   "mimetype": "text/x-python",
   "name": "python",
   "nbconvert_exporter": "python",
   "pygments_lexer": "ipython3",
   "version": "3.7.9 (default, Aug 31 2020, 12:42:55) \n[GCC 7.3.0]"
  },
  "vscode": {
   "interpreter": {
    "hash": "bc988435c4b631969eb5fce6943044c00d5bb2dcddaf96f4811676fc0db79e94"
   }
  }
 },
 "nbformat": 4,
 "nbformat_minor": 5
}
