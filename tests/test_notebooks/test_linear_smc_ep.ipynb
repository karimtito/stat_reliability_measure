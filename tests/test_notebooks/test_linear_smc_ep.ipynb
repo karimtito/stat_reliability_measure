{
 "cells": [
  {
   "cell_type": "markdown",
   "metadata": {},
   "source": [
    "# Testing EagerPy implementation of H-SMC on toy model"
   ]
  },
  {
   "cell_type": "markdown",
   "metadata": {},
   "source": [
    "## 1. Imports"
   ]
  },
  {
   "cell_type": "code",
   "execution_count": 1,
   "metadata": {},
   "outputs": [],
   "source": [
    "\n",
    "import scipy.stats as stat\n",
    "import numpy as np\n",
    "import eagerpy as ep\n",
    "from tqdm import tqdm\n",
    "from time import time\n",
    "from datetime import datetime\n",
    "import os\n",
    "import matplotlib.pyplot as plt\n",
    "import torch\n",
    "import GPUtil\n",
    "import cpuinfo\n",
    "import pandas as pd\n",
    "import argparse\n",
    "from stat_reliability_measure.dev.utils import str2bool,str2floatList,str2intList,float_to_file_float,dichotomic_search\n",
    "from scipy.special import betainc\n",
    "from importlib import reload\n",
    "from stat_reliability_measure.home import ROOT_DIR"
   ]
  },
  {
   "cell_type": "code",
   "execution_count": 2,
   "metadata": {},
   "outputs": [],
   "source": [
    "import stat_reliability_measure.dev.smc.smc_ep as smc_ep\n",
    "import stat_reliability_measure.dev.ep_utils as e_u\n",
    "import stat_reliability_measure.dev.smc.smc_pyt as smc_pyt\n",
    "import stat_reliability_measure.dev.torch_utils as t_u"
   ]
  },
  {
   "cell_type": "code",
   "execution_count": 3,
   "metadata": {},
   "outputs": [
    {
     "data": {
      "text/plain": [
       "<module 'stat_reliability_measure.dev.ep_utils' from '/home/karim-tito/stat_reliability_measure/dev/ep_utils.py'>"
      ]
     },
     "execution_count": 3,
     "metadata": {},
     "output_type": "execute_result"
    }
   ],
   "source": [
    "reload(smc_ep)\n",
    "reload(e_u)"
   ]
  },
  {
   "cell_type": "markdown",
   "metadata": {},
   "source": [
    "## 2. Config"
   ]
  },
  {
   "cell_type": "code",
   "execution_count": 4,
   "metadata": {},
   "outputs": [],
   "source": [
    "method_name=\"smc_ep\""
   ]
  },
  {
   "cell_type": "code",
   "execution_count": 5,
   "metadata": {},
   "outputs": [],
   "source": [
    "class config:\n",
    "    N=100\n",
    "    N_range=[]\n",
    "    T=1\n",
    "    T_range=[]\n",
    "    L=1\n",
    "    L_range=[]\n",
    "    min_rate=0.2\n",
    "    \n",
    "    alpha=0.2\n",
    "    alpha_range=[]\n",
    "    ess_alpha=0.8\n",
    "    e_range=[]\n",
    "    p_range=[]\n",
    "    p_t=1e-6\n",
    "    n_rep=10\n",
    "    \n",
    "    save_config=False \n",
    "    print_config=True\n",
    "    d=1024\n",
    "    verbose=0\n",
    "    log_dir=ROOT_DIR+'/logs/linear_gaussian_tests'\n",
    "    aggr_res_path = None\n",
    "    update_agg_res=True\n",
    "    sigma=1\n",
    "    v1_kernel=True\n",
    "    torch_seed=None\n",
    "    gpu_name=None\n",
    "    cpu_name=None\n",
    "    cores_number=None\n",
    "    track_gpu=False\n",
    "    track_cpu=False\n",
    "    device=None\n",
    "    n_max=10000 \n",
    "    allow_multi_gpu=False\n",
    "    tqdm_opt=True\n",
    "    allow_zero_est=True\n",
    "    track_accept=True\n",
    "    track_calls=False\n",
    "    mh_opt=False\n",
    "    adapt_dt=False\n",
    "    adapt_dt_mcmc=False\n",
    "    target_accept=0.574\n",
    "    accept_spread=0.1\n",
    "    dt_decay=0.999\n",
    "    dt_gain=None\n",
    "    dt_min=1e-3\n",
    "    dt_max=0.5\n",
    "    v_min_opt=False\n",
    "    ess_opt=False\n",
    "    only_duplicated=False\n",
    "    np_seed=None\n",
    "    lambda_0=0.5\n",
    "    test2=False\n",
    "\n",
    "    s_opt=False\n",
    "    s=1\n",
    "    clip_s=True\n",
    "    s_min=1e-3\n",
    "    s_max=3\n",
    "    s_decay=0.95\n",
    "    s_gain=1.0001\n",
    "\n",
    "    track_dt=False\n",
    "    mult_last=True\n",
    "    linear=True\n",
    "\n",
    "    track_ess=True\n",
    "    track_beta=True\n",
    "    track_dt=True\n",
    "    track_v_means=True\n",
    "    track_ratios=False\n",
    "\n",
    "    kappa_opt=True\n",
    "\n",
    "    adapt_func='ESS'\n",
    "    M_opt = False\n",
    "    adapt_step=True\n",
    "    FT=True\n",
    "    sig_dt=0.02\n",
    "    L_min=1\n",
    "    skip_mh=False\n",
    "    GV_opt=False\n",
    "   "
   ]
  },
  {
   "cell_type": "code",
   "execution_count": 6,
   "metadata": {},
   "outputs": [
    {
     "name": "stderr",
     "output_type": "stream",
     "text": [
      "  0%|          | 0/10 [00:00<?, ?it/s]"
     ]
    }
   ],
   "source": [
    "\n",
    "if config.adapt_func.lower()=='simp_ess':\n",
    "    adapt_func = lambda beta,v : smc_pyt.nextBetaSimpESS(beta_old=beta,v=v,lambda_0=config.lambda_0,max_beta=1e6)\n",
    "prblm_str='linear_gaussian' if config.linear else 'gaussian'\n",
    "if not config.linear:\n",
    "    config.log_dir=config.log_dir.replace('linear_gaussian','gaussian')\n",
    "if len(config.p_range)==0:\n",
    "    config.p_range= [config.p_t]\n",
    "\n",
    "if len(config.e_range)==0:\n",
    "    config.e_range= [config.ess_alpha]\n",
    "\n",
    "\n",
    "if len(config.N_range)==0:\n",
    "    config.N_range= [config.N]\n",
    "\n",
    "\n",
    "if len(config.T_range)==0:\n",
    "    config.T_range= [config.T]\n",
    "\n",
    "if len(config.L_range)==0:\n",
    "    config.L_range= [config.L]\n",
    "if len(config.alpha_range)==0:\n",
    "    config.alpha_range= [config.alpha]\n",
    "\n",
    "\n",
    "if not config.allow_multi_gpu:\n",
    "    os.environ[\"CUDA_VISIBLE_DEVICES\"]=\"0\"\n",
    "\n",
    "\n",
    "\n",
    "if config.torch_seed is None:\n",
    "    config.torch_seed=int(time())\n",
    "torch.manual_seed(seed=config.torch_seed)\n",
    "\n",
    "if config.np_seed is None:\n",
    "    config.np_seed=int(time())\n",
    "torch.manual_seed(seed=config.np_seed)\n",
    "\n",
    "\n",
    "\n",
    "if config.track_gpu:\n",
    "    gpus=GPUtil.getGPUs()\n",
    "    if len(gpus)>1:\n",
    "        print(\"Multi gpus detected, only the first GPU will be tracked.\")\n",
    "    config.gpu_name=gpus[0].name\n",
    "\n",
    "if config.track_cpu:\n",
    "    config.cpu_name=cpuinfo.get_cpu_info()[[key for key in cpuinfo.get_cpu_info().keys() if 'brand' in key][0]]\n",
    "    config.cores_number=os.cpu_count()\n",
    "\n",
    "\n",
    "if config.device is None:\n",
    "    config.device = torch.device(\"cuda:0\" if torch.cuda.is_available() else \"cpu\")  \n",
    "    if config.verbose>=5:\n",
    "        print(config.device)\n",
    "    device=config.device\n",
    "else:\n",
    "    device=config.device\n",
    "\n",
    "d=config.d\n",
    "#epsilon=config.epsilon\n",
    "\n",
    "\n",
    "if not os.path.exists(ROOT_DIR+'/logs'):\n",
    "    os.mkdir(ROOT_DIR+'/logs')\n",
    "if not os.path.exists(config.log_dir):\n",
    "    os.mkdir(config.log_dir)\n",
    "\n",
    "results_path=ROOT_DIR+'/logs/'+ prblm_str+'_tests/results.csv' \n",
    "if os.path.exists(results_path):\n",
    "    results_g=pd.read_csv(results_path)\n",
    "else:\n",
    "    results_g=pd.DataFrame(columns=['p_t','mean_est','mean_time','mean_err','stdtime','std_est','T','N','rho','alpha','n_rep','min_rate','method'])\n",
    "    results_g.to_csv(results_path,index=False)\n",
    "raw_logs = os.path.join(config.log_dir,'raw_logs/')\n",
    "if not os.path.exists(raw_logs):\n",
    "    os.mkdir(raw_logs)\n",
    "raw_logs_path=os.path.join(config.log_dir,'raw_logs/'+method_name)\n",
    "if not os.path.exists(raw_logs_path):\n",
    "    os.mkdir(raw_logs_path)\n",
    "\n",
    "loc_time= datetime.today().isoformat().split('.')[0]\n",
    "log_name=method_name+'_'+'_'+loc_time\n",
    "exp_log_path=os.path.join(raw_logs_path,log_name)\n",
    "if os.path.exists(exp_log_path):\n",
    "    exp_log_path = exp_log_path +'_'+ str(np.random.randint(low=0,high=9))\n",
    "os.mkdir(path=exp_log_path)\n",
    "\n",
    "# if config.aggr_res_path is None:\n",
    "#     aggr_res_path=os.path.join(config.log_dir,'aggr_res.csv')\n",
    "# else:\n",
    "#     aggr_res_path=config.aggr_res_path\n",
    "\n",
    "if config.dt_gain is None:\n",
    "    config.dt_gain=1/config.dt_decay\n",
    "#if config.print_config:\n",
    "    #print(config.json)\n",
    "\n",
    "param_ranges = [config.N_range,config.T_range,config.alpha_range,config.p_range,config.L_range,config.e_range]\n",
    "param_lens=np.array([len(l) for l in param_ranges])\n",
    "nb_runs= np.prod(param_lens)\n",
    "\n",
    "mh_str=\"adjusted\" \n",
    "method=method_name+'_'+mh_str\n",
    "save_every = 1\n",
    "#adapt_func= smc_pyt.ESSAdaptBetaPyt if config.ess_opt else smc_pyt.SimpAdaptBetaPyt\n",
    "\n",
    "kernel_str='v1_kernel' if config.v1_kernel else 'v2_kernel'\n",
    "\n",
    "\n",
    "run_nb=0\n",
    "iterator= tqdm(range(config.n_rep))\n",
    "exp_res=[]"
   ]
  },
  {
   "cell_type": "markdown",
   "metadata": {},
   "source": [
    "### 3. Test H-SMC on linear toy model"
   ]
  },
  {
   "cell_type": "code",
   "execution_count": 7,
   "metadata": {},
   "outputs": [],
   "source": [
    "assert config.linear"
   ]
  },
  {
   "cell_type": "code",
   "execution_count": 8,
   "metadata": {},
   "outputs": [],
   "source": [
    "for p_t in config.p_range:\n",
    "    if config.linear:\n",
    "        \n",
    "        get_c_norm= lambda p:stat.norm.isf(p)\n",
    "        c=get_c_norm(p_t)\n",
    "        if config.verbose>=1.:\n",
    "            print(f'c:{c}')\n",
    "        e_1= torch.Tensor([1]+[0]*(d-1)).to(device)\n",
    "        V = lambda X: torch.clamp(input=c-X[:,0], min=0, max=None)\n",
    "        V_ep = lambda X: (c-X[:,0]).clip(min_=0, max_ = None)\n",
    "        \n",
    "        gradV= lambda X: -((X[:,0]<c)[:,None]*e_1)\n",
    "        gradV_ep = lambda X: -((X[:,0]<c)[:,None]*e_1)\n",
    "        \n",
    "        norm_gen = lambda N: torch.randn(size=(N,d)).to(device)\n",
    "       \n",
    "    else:\n",
    "        epsilon=1\n",
    "        p_target_f=lambda h: 0.5*betainc(0.5*(d-1),0.5,(2*epsilon*h-h**2)/(epsilon**2))\n",
    "        h,P_target = dichotomic_search(f=p_target_f,a=0,b=epsilon,thresh=p_t,n_max=100)\n",
    "        c=epsilon-h\n",
    "        print(f'c:{c}',f'P_target:{P_target}')\n",
    "        e_1= torch.Tensor([1]+[0]*(d-1)).to(device)\n",
    "        V = lambda X: torch.clamp(input=torch.norm(X,p=2,dim=-1)*c-X[:,0], min=0, max=None)\n",
    "        V_ep = lambda X: (ep.norms.l2(X,p=2,dim=-1)*c-X[:,0]).clip(min_=0, max_=None)\n",
    "        gradV= lambda X: (c*X/torch.norm(X,p=2,dim=-1)[:,None] -e_1[None,:])*(X[:,0]<c*torch.norm(X,p=2,dim=1))[:,None]\n",
    "        \n",
    "        norm_gen = lambda N: torch.randn(size=(N,d)).to(device)"
   ]
  },
  {
   "cell_type": "code",
   "execution_count": 9,
   "metadata": {},
   "outputs": [
    {
     "data": {
      "text/plain": [
       "<module 'stat_reliability_measure.dev.smc.smc_ep' from '/home/karim-tito/stat_reliability_measure/dev/smc/smc_ep.py'>"
      ]
     },
     "execution_count": 9,
     "metadata": {},
     "output_type": "execute_result"
    }
   ],
   "source": [
    "reload(e_u)\n",
    "reload(smc_ep)"
   ]
  },
  {
   "cell_type": "code",
   "execution_count": 10,
   "metadata": {},
   "outputs": [
    {
     "name": "stderr",
     "output_type": "stream",
     "text": []
    },
    {
     "name": "stdout",
     "output_type": "stream",
     "text": [
      "Run 1/1\n",
      "Starting simulations with p_t:1e-06,ess_t:0.8,T:1,alpha:0.2,N:100,L:1\n"
     ]
    },
    {
     "name": "stderr",
     "output_type": "stream",
     "text": [
      "100%|██████████| 10/10 [00:01<00:00,  5.46it/s]\n"
     ]
    }
   ],
   "source": [
    "for ess_t in config.e_range:\n",
    "        if config.adapt_func.lower()=='ess':\n",
    "            adapt_func = lambda beta,v : smc_ep.nextBetaESS(beta_old=beta,v=v,ess_alpha=ess_t,max_beta=1e6)\n",
    "        for T in config.T_range:\n",
    "            for L in config.L_range:\n",
    "                for alpha in config.alpha_range:       \n",
    "                    for N in config.N_range:\n",
    "                        loc_time= datetime.today().isoformat().split('.')[0]\n",
    "                        log_name=method_name+f'_N_{N}_T_{T}_L_{L}_a_{float_to_file_float(alpha)}_ess_{float_to_file_float(ess_t)}'+'_'+loc_time.split('_')[0]\n",
    "                        log_path=os.path.join(exp_log_path,log_name)\n",
    "                        if os.path.exists(log_path):\n",
    "                            log_path=log_path+'_'+str(np.random.randint(low=0,high=10))\n",
    "                        \n",
    "                        \n",
    "                        os.mkdir(path=log_path)\n",
    "                        run_nb+=1\n",
    "                        print(f'Run {run_nb}/{nb_runs}')\n",
    "                        times=[]\n",
    "                        ests = []\n",
    "                        calls=[]\n",
    "                        finished_flags=[]\n",
    "                        iterator= tqdm(range(config.n_rep)) if config.tqdm_opt else range(config.n_rep)\n",
    "                        print(f\"Starting simulations with p_t:{p_t},ess_t:{ess_t},T:{T},alpha:{alpha},N:{N},L:{L}\")\n",
    "                        for i in iterator:\n",
    "                            t=time()\n",
    "                            sampler=smc_ep.SamplerSMC\n",
    "                            p_est,res_dict,=sampler(gen=norm_gen,V= V,gradV=gradV,adapt_func=adapt_func,min_rate=config.min_rate,N=N,T=T,L=L,\n",
    "                            alpha=alpha,n_max=10000,\n",
    "                            verbose=config.verbose, track_accept=config.track_accept,track_beta=config.track_beta,track_v_means=config.track_v_means,\n",
    "                            track_ratios=config.track_ratios,track_ess=config.track_ess,kappa_opt=config.kappa_opt\n",
    "                            ,gaussian =True,accept_spread=config.accept_spread, \n",
    "                            adapt_dt=config.adapt_dt, dt_decay=config.dt_decay,only_duplicated=config.only_duplicated,\n",
    "                            dt_gain=config.dt_gain,dt_min=config.dt_min,dt_max=config.dt_max,\n",
    "                            v_min_opt=config.v_min_opt, lambda_0= config.lambda_0,\n",
    "                            track_dt=config.track_dt,M_opt=config.M_opt,adapt_step=config.adapt_step,FT=config.FT,\n",
    "                            sig_dt=config.sig_dt,L_min=config.L_min,skip_mh=config.skip_mh,\n",
    "                            GV_opt=config.GV_opt\n",
    "                            )\n",
    "                            t1=time()-t\n",
    "\n",
    "                            #print(p_est)\n",
    "                  \n",
    "                            \n",
    "                            times.append(t1)\n",
    "                            ests.append(p_est)\n",
    "                            calls.append(res_dict['calls'])"
   ]
  },
  {
   "cell_type": "code",
   "execution_count": 45,
   "metadata": {},
   "outputs": [
    {
     "name": "stderr",
     "output_type": "stream",
     "text": []
    },
    {
     "name": "stdout",
     "output_type": "stream",
     "text": [
      "Run 3/1\n",
      "Starting simulations with p_t:1e-06,ess_t:0.8,T:1,alpha:0.2,N:100,L:1\n"
     ]
    },
    {
     "name": "stderr",
     "output_type": "stream",
     "text": [
      "100%|██████████| 10/10 [00:01<00:00,  6.71it/s]\n"
     ]
    }
   ],
   "source": [
    "for ess_t in config.e_range:\n",
    "        if config.adapt_func.lower()=='ess':\n",
    "            adapt_func = lambda beta,v : smc_pyt.nextBetaESS(beta_old=beta,v=v,ess_alpha=ess_t,max_beta=1e6)\n",
    "        for T in config.T_range:\n",
    "            for L in config.L_range:\n",
    "                for alpha in config.alpha_range:       \n",
    "                    for N in config.N_range:\n",
    "                        loc_time= datetime.today().isoformat().split('.')[0]\n",
    "                        log_name=method_name+f'_N_{N}_T_{T}_L_{L}_a_{float_to_file_float(alpha)}_ess_{float_to_file_float(ess_t)}'+'_'+loc_time.split('_')[0]\n",
    "                        log_path=os.path.join(exp_log_path,log_name)\n",
    "                        if os.path.exists(log_path):\n",
    "                            log_path=log_path+'_'+str(np.random.randint(low=0,high=10))\n",
    "                        \n",
    "                        \n",
    "                        os.mkdir(path=log_path)\n",
    "                        run_nb+=1\n",
    "                        print(f'Run {run_nb}/{nb_runs}')\n",
    "                        times=[]\n",
    "                        ests = []\n",
    "                        calls=[]\n",
    "                        finished_flags=[]\n",
    "                        iterator= tqdm(range(config.n_rep)) if config.tqdm_opt else range(config.n_rep)\n",
    "                        print(f\"Starting simulations with p_t:{p_t},ess_t:{ess_t},T:{T},alpha:{alpha},N:{N},L:{L}\")\n",
    "                        for i in iterator:\n",
    "                            t=time()\n",
    "                            sampler=smc_pyt.SamplerSMC\n",
    "                            p_est,res_dict,=sampler(gen=norm_gen,V= V,gradV=gradV,adapt_func=adapt_func,min_rate=config.min_rate,N=N,T=T,L=L,\n",
    "                            alpha=alpha,n_max=10000,\n",
    "                            verbose=config.verbose, track_accept=config.track_accept,track_beta=config.track_beta,track_v_means=config.track_v_means,\n",
    "                            track_ratios=config.track_ratios,track_ess=config.track_ess,kappa_opt=config.kappa_opt\n",
    "                            ,gaussian =True,accept_spread=config.accept_spread, \n",
    "                            adapt_dt=config.adapt_dt, dt_decay=config.dt_decay,only_duplicated=config.only_duplicated,\n",
    "                            dt_gain=config.dt_gain,dt_min=config.dt_min,dt_max=config.dt_max,\n",
    "                            v_min_opt=config.v_min_opt, lambda_0= config.lambda_0,\n",
    "                            track_dt=config.track_dt,M_opt=config.M_opt,adapt_step=config.adapt_step,FT=config.FT,\n",
    "                            sig_dt=config.sig_dt,L_min=config.L_min,skip_mh=config.skip_mh,\n",
    "                            GV_opt=config.GV_opt\n",
    "                            )\n",
    "                            t1=time()-t\n",
    "\n",
    "                            #print(p_est)\n",
    "                  \n",
    "                            \n",
    "                            times.append(t1)\n",
    "                            ests.append(p_est)\n",
    "                            calls.append(res_dict['calls'])"
   ]
  }
 ],
 "metadata": {
  "kernelspec": {
   "display_name": "Python 3.7.9 ('deep_learning_env')",
   "language": "python",
   "name": "python3"
  },
  "language_info": {
   "codemirror_mode": {
    "name": "ipython",
    "version": 3
   },
   "file_extension": ".py",
   "mimetype": "text/x-python",
   "name": "python",
   "nbconvert_exporter": "python",
   "pygments_lexer": "ipython3",
   "version": "3.7.9"
  },
  "orig_nbformat": 4,
  "vscode": {
   "interpreter": {
    "hash": "bc988435c4b631969eb5fce6943044c00d5bb2dcddaf96f4811676fc0db79e94"
   }
  }
 },
 "nbformat": 4,
 "nbformat_minor": 2
}
