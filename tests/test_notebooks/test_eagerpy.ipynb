{
 "cells": [
  {
   "cell_type": "markdown",
   "id": "5fa097d8-9b62-4f7b-a990-e967eb15fd07",
   "metadata": {},
   "source": [
    "# Test EagerPy"
   ]
  },
  {
   "cell_type": "markdown",
   "id": "1ea24392-eac1-4ab5-ad01-699185185dd4",
   "metadata": {},
   "source": [
    "## Imports"
   ]
  },
  {
   "cell_type": "code",
   "execution_count": 6,
   "id": "fd0090b9-ea30-4b2c-ade8-3e21b84f50ed",
   "metadata": {},
   "outputs": [],
   "source": [
    "import torch\n",
    "#import tensorflow as tf\n",
    "import eagerpy as ep \n",
    "import numpy as np"
   ]
  },
  {
   "cell_type": "markdown",
   "id": "8d613978-c99f-42e2-819e-3e920859ac8f",
   "metadata": {},
   "source": [
    "## Initiating tensors"
   ]
  },
  {
   "cell_type": "code",
   "execution_count": 7,
   "id": "e6e8d3f0-099a-4e5e-99b8-563e8bba235e",
   "metadata": {},
   "outputs": [],
   "source": [
    "tensor_data=np.linspace(0,1,120)\n"
   ]
  },
  {
   "cell_type": "code",
   "execution_count": 8,
   "id": "47cb0682-a3c2-465d-bb51-069e36c62a5a",
   "metadata": {},
   "outputs": [],
   "source": [
    "a = torch.tensor(tensor_data)\n",
    "#b = tf.constant(tensor_data)\n",
    "c = np.array(tensor_data)"
   ]
  },
  {
   "cell_type": "code",
   "execution_count": 9,
   "id": "28a87939-34bf-4b14-b3b9-51aa488040ef",
   "metadata": {},
   "outputs": [],
   "source": [
    "a_ep,  c_ep = ep.astensor(a), ep.astensor(c)\n",
    "#b_ep =ep.astensor(b)"
   ]
  },
  {
   "cell_type": "code",
   "execution_count": 10,
   "id": "9a0b3b42-7d83-42bb-8e9b-30148c965f09",
   "metadata": {},
   "outputs": [
    {
     "data": {
      "text/plain": [
       "True"
      ]
     },
     "execution_count": 10,
     "metadata": {},
     "output_type": "execute_result"
    }
   ],
   "source": [
    "torch.cuda.is_available()"
   ]
  },
  {
   "cell_type": "code",
   "execution_count": 11,
   "id": "131f0a9b-5156-4ee9-9167-ac9608c448fe",
   "metadata": {},
   "outputs": [],
   "source": [
    "d = torch.tensor(tensor_data).to('cuda:0')\n",
    "d_ep = ep.astensor(d)"
   ]
  },
  {
   "cell_type": "code",
   "execution_count": 12,
   "id": "72ac0cbd",
   "metadata": {},
   "outputs": [
    {
     "data": {
      "text/plain": [
       "PyTorchTensor(tensor([0.0000, 0.0084, 0.0168, 0.0252, 0.0336, 0.0420, 0.0504, 0.0588, 0.0672,\n",
       "                      0.0756, 0.0840, 0.0924, 0.1008, 0.1092, 0.1176, 0.1261, 0.1345, 0.1429,\n",
       "                      0.1513, 0.1597, 0.1681, 0.1765, 0.1849, 0.1933, 0.2017, 0.2101, 0.2185,\n",
       "                      0.2269, 0.2353, 0.2437, 0.2521, 0.2605, 0.2689, 0.2773, 0.2857, 0.2941,\n",
       "                      0.3025, 0.3109, 0.3193, 0.3277, 0.3361, 0.3445, 0.3529, 0.3613, 0.3697,\n",
       "                      0.3782, 0.3866, 0.3950, 0.4034, 0.4118, 0.4202, 0.4286, 0.4370, 0.4454,\n",
       "                      0.4538, 0.4622, 0.4706, 0.4790, 0.4874, 0.4958, 0.5042, 0.5126, 0.5210,\n",
       "                      0.5294, 0.5378, 0.5462, 0.5546, 0.5630, 0.5714, 0.5798, 0.5882, 0.5966,\n",
       "                      0.6050, 0.6134, 0.6218, 0.6303, 0.6387, 0.6471, 0.6555, 0.6639, 0.6723,\n",
       "                      0.6807, 0.6891, 0.6975, 0.7059, 0.7143, 0.7227, 0.7311, 0.7395, 0.7479,\n",
       "                      0.7563, 0.7647, 0.7731, 0.7815, 0.7899, 0.7983, 0.8067, 0.8151, 0.8235,\n",
       "                      0.8319, 0.8403, 0.8487, 0.8571, 0.8655, 0.8739, 0.8824, 0.8908, 0.8992,\n",
       "                      0.9076, 0.9160, 0.9244, 0.9328, 0.9412, 0.9496, 0.9580, 0.9664, 0.9748,\n",
       "                      0.9832, 0.9916, 1.0000], device='cuda:0', dtype=torch.float64))"
      ]
     },
     "execution_count": 12,
     "metadata": {},
     "output_type": "execute_result"
    }
   ],
   "source": [
    "d_ep"
   ]
  },
  {
   "cell_type": "code",
   "execution_count": 13,
   "id": "1b2280bf",
   "metadata": {},
   "outputs": [],
   "source": [
    "d_ep=ep.astensor(d)"
   ]
  },
  {
   "cell_type": "code",
   "execution_count": 14,
   "id": "620bdc28-56c7-4f0d-bdcc-562523edf400",
   "metadata": {},
   "outputs": [
    {
     "data": {
      "text/plain": [
       "PyTorchTensor(NotImplemented)"
      ]
     },
     "execution_count": 14,
     "metadata": {},
     "output_type": "execute_result"
    }
   ],
   "source": [
    "d_ep+c"
   ]
  },
  {
   "cell_type": "code",
   "execution_count": 15,
   "id": "a6a54ff9-ceee-45ea-9370-6ed0aa54c721",
   "metadata": {},
   "outputs": [
    {
     "data": {
      "text/plain": [
       "PyTorchTensor(NotImplemented)"
      ]
     },
     "execution_count": 15,
     "metadata": {},
     "output_type": "execute_result"
    }
   ],
   "source": [
    "d_ep < c"
   ]
  },
  {
   "cell_type": "markdown",
   "id": "dfab561a-14ec-45e9-8758-9f10e2c4db0e",
   "metadata": {},
   "source": [
    "## Testing sampling methods speed"
   ]
  },
  {
   "cell_type": "code",
   "execution_count": 16,
   "id": "8025337b-d1a3-4103-b1b5-8dccd55adee3",
   "metadata": {},
   "outputs": [],
   "source": [
    "K,N=100,120"
   ]
  },
  {
   "cell_type": "markdown",
   "id": "c5a1c93e-a14a-413d-a186-11bcb8926a04",
   "metadata": {},
   "source": [
    "### Random integer"
   ]
  },
  {
   "cell_type": "code",
   "execution_count": 17,
   "id": "5a9a56f9-2ca0-48c4-a811-b2000bb484d4",
   "metadata": {},
   "outputs": [],
   "source": [
    "u=d_ep.uniform(shape=N)"
   ]
  },
  {
   "cell_type": "code",
   "execution_count": 18,
   "id": "6335c4ac-2e41-4b0b-9c44-b6142a0c1f1c",
   "metadata": {},
   "outputs": [
    {
     "name": "stdout",
     "output_type": "stream",
     "text": [
      "7.31 µs ± 80.4 ns per loop (mean ± std. dev. of 7 runs, 100000 loops each)\n"
     ]
    }
   ],
   "source": [
    "%%timeit\n",
    "ind = np.random.randint(size=N-K,low=0,high=K)"
   ]
  },
  {
   "cell_type": "code",
   "execution_count": 19,
   "id": "050c6965-59ce-44fc-865c-333cf4d2a3b5",
   "metadata": {},
   "outputs": [],
   "source": [
    "ind = np.random.randint(size=N-K,low=0,high=K)"
   ]
  },
  {
   "cell_type": "code",
   "execution_count": 20,
   "id": "205fd229-a4aa-4100-b868-feb4066c7e61",
   "metadata": {},
   "outputs": [
    {
     "name": "stdout",
     "output_type": "stream",
     "text": [
      "3.32 µs ± 18 ns per loop (mean ± std. dev. of 7 runs, 100000 loops each)\n"
     ]
    }
   ],
   "source": [
    "%%timeit\n",
    "ind = torch.randint(size=[N-K], low=0, high=K,device='cpu')"
   ]
  },
  {
   "cell_type": "code",
   "execution_count": 16,
   "id": "3ca25ced-200d-4a35-ae5e-44c9b1b08a2c",
   "metadata": {},
   "outputs": [
    {
     "name": "stdout",
     "output_type": "stream",
     "text": [
      "20.5 µs ± 4.24 µs per loop (mean ± std. dev. of 7 runs, 100000 loops each)\n"
     ]
    }
   ],
   "source": [
    "%%timeit\n",
    "ind_=(K*a_ep.uniform(shape=N-K).raw).int()"
   ]
  },
  {
   "cell_type": "markdown",
   "id": "9fa17d1c-2e7d-4b8b-9617-af1ec620d97d",
   "metadata": {},
   "source": [
    "### Uniform tensor"
   ]
  },
  {
   "cell_type": "code",
   "execution_count": 19,
   "id": "4d2d69df-fb91-468a-b5fb-1bbe867a17bc",
   "metadata": {},
   "outputs": [
    {
     "name": "stdout",
     "output_type": "stream",
     "text": [
      "1.29 µs ± 8.1 ns per loop (mean ± std. dev. of 7 runs, 1000000 loops each)\n"
     ]
    }
   ],
   "source": [
    "%%timeit\n",
    "u = np.random.rand(N)"
   ]
  },
  {
   "cell_type": "code",
   "execution_count": 16,
   "id": "84b919ef-af42-4d67-bf48-06749233b4bd",
   "metadata": {},
   "outputs": [],
   "source": [
    "u = d_ep.uniform(N)"
   ]
  },
  {
   "cell_type": "code",
   "execution_count": 27,
   "id": "66252fac-e5d0-48c5-bc69-a5ae83fff644",
   "metadata": {},
   "outputs": [
    {
     "data": {
      "text/plain": [
       "PyTorchTensor(tensor([-0.9942, -0.3956, -1.0338,  1.8842, -0.6690,  0.4186,  0.5863, -2.6463,\n",
       "                       0.0107, -0.0125, -0.4323,  1.0613,  0.3601, -0.5594, -0.2200, -0.1174,\n",
       "                      -0.6813, -0.8838,  0.4028, -0.8459, -0.6407, -0.5679, -1.8882,  0.5182,\n",
       "                       1.7575, -0.7940,  2.3027,  0.0410, -1.3663,  0.2715, -1.9639,  0.5623,\n",
       "                      -0.1135,  0.5020,  0.0430,  0.5652,  0.8571, -1.7276,  0.0663,  1.8399,\n",
       "                      -2.1053,  1.7528, -1.4480, -0.4226,  1.0883,  0.1274,  1.0626, -0.4542,\n",
       "                       0.7209, -0.0920, -0.6241, -0.2172,  1.8419,  0.1391, -0.9556,  0.2660,\n",
       "                      -1.1215, -1.1446, -0.0797, -0.1310, -0.7129, -0.0819,  0.4879,  0.3972,\n",
       "                       0.1203,  0.6716, -1.0505, -1.0826, -0.9069, -0.1959,  2.2124,  0.7591,\n",
       "                      -1.0049,  0.8029,  0.4570, -0.9693,  0.2989,  0.2365,  0.6484,  0.3755,\n",
       "                       0.3459, -0.4948,  0.0608, -0.5830, -1.4827,  0.1655,  1.4045,  1.2313,\n",
       "                       0.1189, -0.8897,  0.7539,  1.1769, -0.8198, -0.8663,  0.2692,  0.1435,\n",
       "                       1.2162, -1.3071,  0.2773, -1.0444, -0.4936,  0.5393,  0.8612,  0.7114,\n",
       "                      -0.0079, -1.7073,  1.4836, -0.0793, -0.9473,  1.0869,  0.8804, -1.4163,\n",
       "                      -0.5483,  1.5138,  0.7504, -1.5354, -0.8835,  0.2886,  0.7806, -0.7627],\n",
       "                     device='cuda:0', dtype=torch.float64))"
      ]
     },
     "execution_count": 27,
     "metadata": {},
     "output_type": "execute_result"
    }
   ],
   "source": [
    "d_ep.normal(shape=(N))"
   ]
  },
  {
   "cell_type": "code",
   "execution_count": 22,
   "id": "d70af836-da94-4519-919d-f6192a4fb988",
   "metadata": {},
   "outputs": [
    {
     "name": "stdout",
     "output_type": "stream",
     "text": [
      "2.45 µs ± 45.2 ns per loop (mean ± std. dev. of 7 runs, 100000 loops each)\n"
     ]
    }
   ],
   "source": [
    "%%timeit \n",
    "torch.randn(N)"
   ]
  },
  {
   "cell_type": "code",
   "execution_count": 26,
   "id": "44036dba",
   "metadata": {},
   "outputs": [
    {
     "name": "stdout",
     "output_type": "stream",
     "text": [
      "1.61 µs ± 304 ns per loop (mean ± std. dev. of 7 runs, 1000000 loops each)\n"
     ]
    }
   ],
   "source": [
    "%%timeit\n",
    "ind = np.random.rand(N)"
   ]
  },
  {
   "cell_type": "code",
   "execution_count": 23,
   "id": "edf0f334",
   "metadata": {},
   "outputs": [
    {
     "name": "stdout",
     "output_type": "stream",
     "text": [
      "2.76 µs ± 80.6 ns per loop (mean ± std. dev. of 7 runs, 100000 loops each)\n"
     ]
    }
   ],
   "source": [
    "%%timeit\n",
    "ind = np.random.uniform(size=(N,))"
   ]
  },
  {
   "cell_type": "code",
   "execution_count": 24,
   "id": "77ee22ea-5b41-4681-bd80-bf2e68c4142b",
   "metadata": {},
   "outputs": [
    {
     "name": "stdout",
     "output_type": "stream",
     "text": [
      "2.49 µs ± 27.5 ns per loop (mean ± std. dev. of 7 runs, 100000 loops each)\n"
     ]
    }
   ],
   "source": [
    "%%timeit\n",
    "ind = torch.rand(N)"
   ]
  },
  {
   "cell_type": "code",
   "execution_count": 20,
   "id": "07c8887b-b5d1-4510-87f2-8d21d39e91ea",
   "metadata": {},
   "outputs": [
    {
     "name": "stdout",
     "output_type": "stream",
     "text": [
      "13.4 µs ± 3.48 µs per loop (mean ± std. dev. of 7 runs, 100000 loops each)\n"
     ]
    }
   ],
   "source": [
    "%%timeit\n",
    "u = a_ep.uniform(N)"
   ]
  },
  {
   "cell_type": "code",
   "execution_count": 21,
   "id": "29468049-3bb7-4180-8e90-6ae41c04f20b",
   "metadata": {},
   "outputs": [
    {
     "ename": "NameError",
     "evalue": "name 'b_ep' is not defined",
     "output_type": "error",
     "traceback": [
      "\u001b[0;31m---------------------------------------------------------------------------\u001b[0m",
      "\u001b[0;31mNameError\u001b[0m                                 Traceback (most recent call last)",
      "\u001b[0;32m<ipython-input-21-c64df21f2bc8>\u001b[0m in \u001b[0;36m<module>\u001b[0;34m\u001b[0m\n\u001b[0;32m----> 1\u001b[0;31m \u001b[0mget_ipython\u001b[0m\u001b[0;34m(\u001b[0m\u001b[0;34m)\u001b[0m\u001b[0;34m.\u001b[0m\u001b[0mrun_cell_magic\u001b[0m\u001b[0;34m(\u001b[0m\u001b[0;34m'timeit'\u001b[0m\u001b[0;34m,\u001b[0m \u001b[0;34m''\u001b[0m\u001b[0;34m,\u001b[0m \u001b[0;34m'u = b_ep.uniform(N)\\n'\u001b[0m\u001b[0;34m)\u001b[0m\u001b[0;34m\u001b[0m\u001b[0;34m\u001b[0m\u001b[0m\n\u001b[0m",
      "\u001b[0;32m~/miniconda3/envs/deep_learning_env/lib/python3.7/site-packages/IPython/core/interactiveshell.py\u001b[0m in \u001b[0;36mrun_cell_magic\u001b[0;34m(self, magic_name, line, cell)\u001b[0m\n\u001b[1;32m   2389\u001b[0m             \u001b[0;32mwith\u001b[0m \u001b[0mself\u001b[0m\u001b[0;34m.\u001b[0m\u001b[0mbuiltin_trap\u001b[0m\u001b[0;34m:\u001b[0m\u001b[0;34m\u001b[0m\u001b[0;34m\u001b[0m\u001b[0m\n\u001b[1;32m   2390\u001b[0m                 \u001b[0margs\u001b[0m \u001b[0;34m=\u001b[0m \u001b[0;34m(\u001b[0m\u001b[0mmagic_arg_s\u001b[0m\u001b[0;34m,\u001b[0m \u001b[0mcell\u001b[0m\u001b[0;34m)\u001b[0m\u001b[0;34m\u001b[0m\u001b[0;34m\u001b[0m\u001b[0m\n\u001b[0;32m-> 2391\u001b[0;31m                 \u001b[0mresult\u001b[0m \u001b[0;34m=\u001b[0m \u001b[0mfn\u001b[0m\u001b[0;34m(\u001b[0m\u001b[0;34m*\u001b[0m\u001b[0margs\u001b[0m\u001b[0;34m,\u001b[0m \u001b[0;34m**\u001b[0m\u001b[0mkwargs\u001b[0m\u001b[0;34m)\u001b[0m\u001b[0;34m\u001b[0m\u001b[0;34m\u001b[0m\u001b[0m\n\u001b[0m\u001b[1;32m   2392\u001b[0m             \u001b[0;32mreturn\u001b[0m \u001b[0mresult\u001b[0m\u001b[0;34m\u001b[0m\u001b[0;34m\u001b[0m\u001b[0m\n\u001b[1;32m   2393\u001b[0m \u001b[0;34m\u001b[0m\u001b[0m\n",
      "\u001b[0;32m~/miniconda3/envs/deep_learning_env/lib/python3.7/site-packages/decorator.py\u001b[0m in \u001b[0;36mfun\u001b[0;34m(*args, **kw)\u001b[0m\n\u001b[1;32m    230\u001b[0m             \u001b[0;32mif\u001b[0m \u001b[0;32mnot\u001b[0m \u001b[0mkwsyntax\u001b[0m\u001b[0;34m:\u001b[0m\u001b[0;34m\u001b[0m\u001b[0;34m\u001b[0m\u001b[0m\n\u001b[1;32m    231\u001b[0m                 \u001b[0margs\u001b[0m\u001b[0;34m,\u001b[0m \u001b[0mkw\u001b[0m \u001b[0;34m=\u001b[0m \u001b[0mfix\u001b[0m\u001b[0;34m(\u001b[0m\u001b[0margs\u001b[0m\u001b[0;34m,\u001b[0m \u001b[0mkw\u001b[0m\u001b[0;34m,\u001b[0m \u001b[0msig\u001b[0m\u001b[0;34m)\u001b[0m\u001b[0;34m\u001b[0m\u001b[0;34m\u001b[0m\u001b[0m\n\u001b[0;32m--> 232\u001b[0;31m             \u001b[0;32mreturn\u001b[0m \u001b[0mcaller\u001b[0m\u001b[0;34m(\u001b[0m\u001b[0mfunc\u001b[0m\u001b[0;34m,\u001b[0m \u001b[0;34m*\u001b[0m\u001b[0;34m(\u001b[0m\u001b[0mextras\u001b[0m \u001b[0;34m+\u001b[0m \u001b[0margs\u001b[0m\u001b[0;34m)\u001b[0m\u001b[0;34m,\u001b[0m \u001b[0;34m**\u001b[0m\u001b[0mkw\u001b[0m\u001b[0;34m)\u001b[0m\u001b[0;34m\u001b[0m\u001b[0;34m\u001b[0m\u001b[0m\n\u001b[0m\u001b[1;32m    233\u001b[0m     \u001b[0mfun\u001b[0m\u001b[0;34m.\u001b[0m\u001b[0m__name__\u001b[0m \u001b[0;34m=\u001b[0m \u001b[0mfunc\u001b[0m\u001b[0;34m.\u001b[0m\u001b[0m__name__\u001b[0m\u001b[0;34m\u001b[0m\u001b[0;34m\u001b[0m\u001b[0m\n\u001b[1;32m    234\u001b[0m     \u001b[0mfun\u001b[0m\u001b[0;34m.\u001b[0m\u001b[0m__doc__\u001b[0m \u001b[0;34m=\u001b[0m \u001b[0mfunc\u001b[0m\u001b[0;34m.\u001b[0m\u001b[0m__doc__\u001b[0m\u001b[0;34m\u001b[0m\u001b[0;34m\u001b[0m\u001b[0m\n",
      "\u001b[0;32m~/miniconda3/envs/deep_learning_env/lib/python3.7/site-packages/IPython/core/magic.py\u001b[0m in \u001b[0;36m<lambda>\u001b[0;34m(f, *a, **k)\u001b[0m\n\u001b[1;32m    185\u001b[0m     \u001b[0;31m# but it's overkill for just that one bit of state.\u001b[0m\u001b[0;34m\u001b[0m\u001b[0;34m\u001b[0m\u001b[0;34m\u001b[0m\u001b[0m\n\u001b[1;32m    186\u001b[0m     \u001b[0;32mdef\u001b[0m \u001b[0mmagic_deco\u001b[0m\u001b[0;34m(\u001b[0m\u001b[0marg\u001b[0m\u001b[0;34m)\u001b[0m\u001b[0;34m:\u001b[0m\u001b[0;34m\u001b[0m\u001b[0;34m\u001b[0m\u001b[0m\n\u001b[0;32m--> 187\u001b[0;31m         \u001b[0mcall\u001b[0m \u001b[0;34m=\u001b[0m \u001b[0;32mlambda\u001b[0m \u001b[0mf\u001b[0m\u001b[0;34m,\u001b[0m \u001b[0;34m*\u001b[0m\u001b[0ma\u001b[0m\u001b[0;34m,\u001b[0m \u001b[0;34m**\u001b[0m\u001b[0mk\u001b[0m\u001b[0;34m:\u001b[0m \u001b[0mf\u001b[0m\u001b[0;34m(\u001b[0m\u001b[0;34m*\u001b[0m\u001b[0ma\u001b[0m\u001b[0;34m,\u001b[0m \u001b[0;34m**\u001b[0m\u001b[0mk\u001b[0m\u001b[0;34m)\u001b[0m\u001b[0;34m\u001b[0m\u001b[0;34m\u001b[0m\u001b[0m\n\u001b[0m\u001b[1;32m    188\u001b[0m \u001b[0;34m\u001b[0m\u001b[0m\n\u001b[1;32m    189\u001b[0m         \u001b[0;32mif\u001b[0m \u001b[0mcallable\u001b[0m\u001b[0;34m(\u001b[0m\u001b[0marg\u001b[0m\u001b[0;34m)\u001b[0m\u001b[0;34m:\u001b[0m\u001b[0;34m\u001b[0m\u001b[0;34m\u001b[0m\u001b[0m\n",
      "\u001b[0;32m~/miniconda3/envs/deep_learning_env/lib/python3.7/site-packages/IPython/core/magics/execution.py\u001b[0m in \u001b[0;36mtimeit\u001b[0;34m(self, line, cell, local_ns)\u001b[0m\n\u001b[1;32m   1167\u001b[0m             \u001b[0;32mfor\u001b[0m \u001b[0mindex\u001b[0m \u001b[0;32min\u001b[0m \u001b[0mrange\u001b[0m\u001b[0;34m(\u001b[0m\u001b[0;36m0\u001b[0m\u001b[0;34m,\u001b[0m \u001b[0;36m10\u001b[0m\u001b[0;34m)\u001b[0m\u001b[0;34m:\u001b[0m\u001b[0;34m\u001b[0m\u001b[0;34m\u001b[0m\u001b[0m\n\u001b[1;32m   1168\u001b[0m                 \u001b[0mnumber\u001b[0m \u001b[0;34m=\u001b[0m \u001b[0;36m10\u001b[0m \u001b[0;34m**\u001b[0m \u001b[0mindex\u001b[0m\u001b[0;34m\u001b[0m\u001b[0;34m\u001b[0m\u001b[0m\n\u001b[0;32m-> 1169\u001b[0;31m                 \u001b[0mtime_number\u001b[0m \u001b[0;34m=\u001b[0m \u001b[0mtimer\u001b[0m\u001b[0;34m.\u001b[0m\u001b[0mtimeit\u001b[0m\u001b[0;34m(\u001b[0m\u001b[0mnumber\u001b[0m\u001b[0;34m)\u001b[0m\u001b[0;34m\u001b[0m\u001b[0;34m\u001b[0m\u001b[0m\n\u001b[0m\u001b[1;32m   1170\u001b[0m                 \u001b[0;32mif\u001b[0m \u001b[0mtime_number\u001b[0m \u001b[0;34m>=\u001b[0m \u001b[0;36m0.2\u001b[0m\u001b[0;34m:\u001b[0m\u001b[0;34m\u001b[0m\u001b[0;34m\u001b[0m\u001b[0m\n\u001b[1;32m   1171\u001b[0m                     \u001b[0;32mbreak\u001b[0m\u001b[0;34m\u001b[0m\u001b[0;34m\u001b[0m\u001b[0m\n",
      "\u001b[0;32m~/miniconda3/envs/deep_learning_env/lib/python3.7/site-packages/IPython/core/magics/execution.py\u001b[0m in \u001b[0;36mtimeit\u001b[0;34m(self, number)\u001b[0m\n\u001b[1;32m    167\u001b[0m         \u001b[0mgc\u001b[0m\u001b[0;34m.\u001b[0m\u001b[0mdisable\u001b[0m\u001b[0;34m(\u001b[0m\u001b[0;34m)\u001b[0m\u001b[0;34m\u001b[0m\u001b[0;34m\u001b[0m\u001b[0m\n\u001b[1;32m    168\u001b[0m         \u001b[0;32mtry\u001b[0m\u001b[0;34m:\u001b[0m\u001b[0;34m\u001b[0m\u001b[0;34m\u001b[0m\u001b[0m\n\u001b[0;32m--> 169\u001b[0;31m             \u001b[0mtiming\u001b[0m \u001b[0;34m=\u001b[0m \u001b[0mself\u001b[0m\u001b[0;34m.\u001b[0m\u001b[0minner\u001b[0m\u001b[0;34m(\u001b[0m\u001b[0mit\u001b[0m\u001b[0;34m,\u001b[0m \u001b[0mself\u001b[0m\u001b[0;34m.\u001b[0m\u001b[0mtimer\u001b[0m\u001b[0;34m)\u001b[0m\u001b[0;34m\u001b[0m\u001b[0;34m\u001b[0m\u001b[0m\n\u001b[0m\u001b[1;32m    170\u001b[0m         \u001b[0;32mfinally\u001b[0m\u001b[0;34m:\u001b[0m\u001b[0;34m\u001b[0m\u001b[0;34m\u001b[0m\u001b[0m\n\u001b[1;32m    171\u001b[0m             \u001b[0;32mif\u001b[0m \u001b[0mgcold\u001b[0m\u001b[0;34m:\u001b[0m\u001b[0;34m\u001b[0m\u001b[0;34m\u001b[0m\u001b[0m\n",
      "\u001b[0;32m<magic-timeit>\u001b[0m in \u001b[0;36minner\u001b[0;34m(_it, _timer)\u001b[0m\n",
      "\u001b[0;31mNameError\u001b[0m: name 'b_ep' is not defined"
     ]
    }
   ],
   "source": [
    "%%timeit\n",
    "u = b_ep.uniform(N)"
   ]
  },
  {
   "cell_type": "code",
   "execution_count": 24,
   "id": "a13ebc4b-ec4e-401a-822d-f14d507fc2c7",
   "metadata": {},
   "outputs": [
    {
     "name": "stdout",
     "output_type": "stream",
     "text": [
      "4.58 µs ± 92.6 ns per loop (mean ± std. dev. of 7 runs, 100000 loops each)\n"
     ]
    }
   ],
   "source": [
    "%%timeit\n",
    "u = c_ep.uniform(N)"
   ]
  },
  {
   "cell_type": "code",
   "execution_count": 22,
   "id": "70a39773-8e4e-4d77-98a1-6155c8fd4064",
   "metadata": {},
   "outputs": [
    {
     "name": "stdout",
     "output_type": "stream",
     "text": [
      "29.1 µs ± 2.01 µs per loop (mean ± std. dev. of 7 runs, 10000 loops each)\n"
     ]
    }
   ],
   "source": [
    "%%timeit\n",
    "u = d_ep.uniform(N)"
   ]
  },
  {
   "cell_type": "code",
   "execution_count": 28,
   "id": "1bab3514",
   "metadata": {},
   "outputs": [],
   "source": [
    "logits= np.arange(5)\n",
    "p_vals= logits/logits.sum()"
   ]
  },
  {
   "cell_type": "code",
   "execution_count": 29,
   "id": "ad19bef1",
   "metadata": {},
   "outputs": [
    {
     "name": "stdout",
     "output_type": "stream",
     "text": [
      "23.4 µs ± 261 ns per loop (mean ± std. dev. of 7 runs, 10000 loops each)\n"
     ]
    }
   ],
   "source": [
    "%%timeit\n",
    "np.random.multinomial(n=1,pvals=p_vals,size=( N,))"
   ]
  },
  {
   "cell_type": "markdown",
   "id": "b0f54989-5266-4050-9237-97dbe8d38a3c",
   "metadata": {},
   "source": [
    "### Generic functions"
   ]
  },
  {
   "cell_type": "code",
   "execution_count": 20,
   "id": "487641c4-e474-4b00-b686-dd15fe5efc5f",
   "metadata": {},
   "outputs": [
    {
     "data": {
      "text/plain": [
       "PyTorchTensor(tensor([1.0000, 1.0084, 1.0169, 1.0255, 1.0342, 1.0429, 1.0517, 1.0606, 1.0695,\n",
       "                      1.0786, 1.0877, 1.0968, 1.1061, 1.1154, 1.1248, 1.1343, 1.1439, 1.1536,\n",
       "                      1.1633, 1.1731, 1.1830, 1.1930, 1.2031, 1.2132, 1.2235, 1.2338, 1.2442,\n",
       "                      1.2547, 1.2653, 1.2760, 1.2867, 1.2976, 1.3085, 1.3196, 1.3307, 1.3419,\n",
       "                      1.3533, 1.3647, 1.3762, 1.3878, 1.3995, 1.4113, 1.4232, 1.4353, 1.4474,\n",
       "                      1.4596, 1.4719, 1.4843, 1.4968, 1.5095, 1.5222, 1.5351, 1.5480, 1.5611,\n",
       "                      1.5743, 1.5875, 1.6009, 1.6144, 1.6281, 1.6418, 1.6557, 1.6696, 1.6837,\n",
       "                      1.6979, 1.7123, 1.7267, 1.7413, 1.7560, 1.7708, 1.7857, 1.8008, 1.8160,\n",
       "                      1.8313, 1.8468, 1.8624, 1.8781, 1.8939, 1.9099, 1.9260, 1.9423, 1.9587,\n",
       "                      1.9752, 1.9919, 2.0087, 2.0256, 2.0427, 2.0600, 2.0773, 2.0949, 2.1126,\n",
       "                      2.1304, 2.1484, 2.1665, 2.1848, 2.2032, 2.2218, 2.2406, 2.2595, 2.2785,\n",
       "                      2.2978, 2.3171, 2.3367, 2.3564, 2.3763, 2.3964, 2.4166, 2.4370, 2.4575,\n",
       "                      2.4783, 2.4992, 2.5203, 2.5415, 2.5630, 2.5846, 2.6064, 2.6284, 2.6506,\n",
       "                      2.6730, 2.6955, 2.7183], dtype=torch.float64))"
      ]
     },
     "execution_count": 20,
     "metadata": {},
     "output_type": "execute_result"
    }
   ],
   "source": [
    "ep.exp(a_ep)"
   ]
  },
  {
   "cell_type": "markdown",
   "id": "d326af13-59a8-463d-8114-e80a8b160df8",
   "metadata": {},
   "source": [
    "### Where function"
   ]
  },
  {
   "cell_type": "code",
   "execution_count": 21,
   "id": "5da18111-ac8b-4dfe-a41d-beb1dfb961ec",
   "metadata": {},
   "outputs": [
    {
     "name": "stdout",
     "output_type": "stream",
     "text": [
      "3.7 ms ± 144 µs per loop (mean ± std. dev. of 7 runs, 100 loops each)\n"
     ]
    }
   ],
   "source": [
    "%%timeit\n",
    "ind=np.where(d_ep < u)\n"
   ]
  },
  {
   "cell_type": "code",
   "execution_count": 22,
   "id": "e4513567-bfb9-4c6b-a72c-5fb5766497d4",
   "metadata": {},
   "outputs": [
    {
     "data": {
      "text/plain": [
       "PyTorchTensor(tensor([0.0000, 0.0084, 0.0168, 0.0252, 0.0336, 0.0420, 0.0504, 0.0588, 0.0672,\n",
       "                      0.0756, 0.0840, 0.0924, 0.1008, 0.1092, 0.1176, 0.1261, 0.1345, 0.1429,\n",
       "                      0.1513, 0.1597, 0.1681, 0.1765, 0.1849, 0.1933, 0.2017, 0.2101, 0.2185,\n",
       "                      0.2269, 0.2353, 0.2437, 0.2521, 0.2605, 0.2689, 0.2773, 0.2857, 0.2941,\n",
       "                      0.3025, 0.3109, 0.3193, 0.3277, 0.3361, 0.3445, 0.3529, 0.3613, 0.3697,\n",
       "                      0.3782, 0.3866, 0.3950, 0.4034, 0.4118, 0.4202, 0.4286, 0.4370, 0.4454,\n",
       "                      0.4538, 0.4622, 0.4706, 0.4790, 0.4874, 0.4958, 0.5042, 0.5126, 0.5210,\n",
       "                      0.5294, 0.5378, 0.5462, 0.5546, 0.5630, 0.5714, 0.5798, 0.5882, 0.5966,\n",
       "                      0.6050, 0.6134, 0.6218, 0.6303, 0.6387, 0.6471, 0.6555, 0.6639, 0.6723,\n",
       "                      0.6807, 0.6891, 0.6975, 0.7059, 0.7143, 0.7227, 0.7311, 0.7395, 0.7479,\n",
       "                      0.7563, 0.7647, 0.7731, 0.7815, 0.7899, 0.7983, 0.8067, 0.8151, 0.8235,\n",
       "                      0.8319, 0.8403, 0.8487, 0.8571, 0.8655, 0.8739, 0.8824, 0.8908, 0.8992,\n",
       "                      0.9076, 0.9160, 0.9244, 0.9328, 0.9412, 0.9496, 0.9580, 0.9664, 0.9748,\n",
       "                      0.9832, 0.9916, 1.0000], device='cuda:0', dtype=torch.float64))"
      ]
     },
     "execution_count": 22,
     "metadata": {},
     "output_type": "execute_result"
    }
   ],
   "source": [
    "d_ep"
   ]
  },
  {
   "cell_type": "code",
   "execution_count": 23,
   "id": "5c5eab97-0bfe-4390-8438-c65e8b4e8941",
   "metadata": {},
   "outputs": [
    {
     "data": {
      "text/plain": [
       "PyTorchTensor(tensor([ True,  True,  True,  True,  True,  True, False,  True,  True,  True,\n",
       "                       True,  True,  True,  True,  True, False,  True,  True,  True,  True,\n",
       "                       True,  True, False,  True,  True,  True,  True,  True,  True, False,\n",
       "                       True, False, False,  True,  True,  True, False,  True,  True,  True,\n",
       "                       True, False,  True,  True,  True,  True,  True,  True,  True,  True,\n",
       "                       True,  True, False, False,  True, False,  True, False,  True, False,\n",
       "                       True,  True, False, False,  True, False, False,  True, False,  True,\n",
       "                       True,  True,  True, False,  True, False, False, False,  True, False,\n",
       "                      False, False,  True,  True, False, False, False, False, False,  True,\n",
       "                      False, False, False, False, False, False, False, False, False, False,\n",
       "                      False, False, False, False, False, False, False, False, False,  True,\n",
       "                      False, False, False, False, False, False, False, False, False, False],\n",
       "                     device='cuda:0'))"
      ]
     },
     "execution_count": 23,
     "metadata": {},
     "output_type": "execute_result"
    }
   ],
   "source": [
    "d_ep<u"
   ]
  },
  {
   "cell_type": "code",
   "execution_count": 24,
   "id": "7723a4f7-420c-4871-9dd6-ae0549c30b5c",
   "metadata": {},
   "outputs": [],
   "source": [
    "nb_surv=len(d_ep[d_ep<u])"
   ]
  },
  {
   "cell_type": "code",
   "execution_count": 78,
   "id": "401b1841-7463-4ed1-a5e0-b5b964af228d",
   "metadata": {},
   "outputs": [
    {
     "ename": "NameError",
     "evalue": "name 'N' is not defined",
     "output_type": "error",
     "traceback": [
      "\u001b[0;31m---------------------------------------------------------------------------\u001b[0m",
      "\u001b[0;31mNameError\u001b[0m                                 Traceback (most recent call last)",
      "\u001b[0;32m<ipython-input-78-0cb716c33757>\u001b[0m in \u001b[0;36m<module>\u001b[0;34m\u001b[0m\n\u001b[0;32m----> 1\u001b[0;31m \u001b[0mi\u001b[0m \u001b[0;34m=\u001b[0m \u001b[0mnp\u001b[0m\u001b[0;34m.\u001b[0m\u001b[0mrandom\u001b[0m\u001b[0;34m.\u001b[0m\u001b[0mrandint\u001b[0m\u001b[0;34m(\u001b[0m\u001b[0msize\u001b[0m\u001b[0;34m=\u001b[0m\u001b[0mN\u001b[0m\u001b[0;34m,\u001b[0m\u001b[0mlow\u001b[0m\u001b[0;34m=\u001b[0m\u001b[0;36m0\u001b[0m\u001b[0;34m,\u001b[0m\u001b[0mhigh\u001b[0m \u001b[0;34m=\u001b[0m\u001b[0mnb_surv\u001b[0m\u001b[0;34m)\u001b[0m\u001b[0;34m\u001b[0m\u001b[0;34m\u001b[0m\u001b[0m\n\u001b[0m",
      "\u001b[0;31mNameError\u001b[0m: name 'N' is not defined"
     ]
    }
   ],
   "source": [
    "i = np.random.randint(size=N,low=0,high =nb_surv)"
   ]
  },
  {
   "cell_type": "code",
   "execution_count": 26,
   "id": "6e0e34a2-fda7-4c5d-949c-b4bc02610fd8",
   "metadata": {},
   "outputs": [
    {
     "data": {
      "text/plain": [
       "array([15, 19, 52, 50, 59,  0,  9,  3, 59, 14, 46, 12, 11, 40, 21, 48, 42,\n",
       "       50, 14,  9, 58, 42, 13, 49,  6, 56, 49, 60, 34, 50, 48, 46, 55, 46,\n",
       "       51,  6, 14, 39, 36, 15, 44, 15, 60, 20, 57, 48, 50, 31, 50, 38, 51,\n",
       "       56, 29, 56, 20, 12, 29,  4, 21, 32, 44, 60, 14, 39, 40, 47, 27, 33,\n",
       "       26, 43,  9, 33, 28,  2, 29, 46, 21, 25,  9, 39, 29, 41,  6, 31, 34,\n",
       "       41, 45, 60,  5, 14, 17, 36, 51, 16, 36, 45, 59, 25, 10, 58, 19,  7,\n",
       "        7, 29, 11, 32, 39, 53, 41, 36, 21, 26, 54,  4, 25,  0,  8, 20, 19,\n",
       "       53])"
      ]
     },
     "execution_count": 26,
     "metadata": {},
     "output_type": "execute_result"
    }
   ],
   "source": [
    "i"
   ]
  },
  {
   "cell_type": "code",
   "execution_count": 27,
   "id": "c5dab8f6-9dec-43c0-b141-0ffeb1164c9c",
   "metadata": {},
   "outputs": [
    {
     "data": {
      "text/plain": [
       "PyTorchTensor(tensor([0.1429, 0.1765, 0.5882, 0.5630, 0.7479, 0.0000, 0.0840, 0.0252, 0.7479,\n",
       "                      0.1345, 0.4874, 0.1092, 0.1008, 0.4034, 0.2017, 0.5126, 0.4202, 0.5630,\n",
       "                      0.1345, 0.0840, 0.6975, 0.4202, 0.1176, 0.5378, 0.0588, 0.6555, 0.5378,\n",
       "                      0.9160, 0.3529, 0.5630, 0.5126, 0.4874, 0.6218, 0.4874, 0.5798, 0.0588,\n",
       "                      0.1345, 0.3950, 0.3697, 0.1429, 0.4538, 0.1429, 0.9160, 0.1933, 0.6891,\n",
       "                      0.5126, 0.5630, 0.3193, 0.5630, 0.3866, 0.5798, 0.6555, 0.2941, 0.6555,\n",
       "                      0.1933, 0.1092, 0.2941, 0.0336, 0.2017, 0.3277, 0.4538, 0.9160, 0.1345,\n",
       "                      0.3950, 0.4034, 0.5042, 0.2773, 0.3361, 0.2521, 0.4286, 0.0840, 0.3361,\n",
       "                      0.2857, 0.0168, 0.2941, 0.4874, 0.2017, 0.2353, 0.0840, 0.3950, 0.2941,\n",
       "                      0.4118, 0.0588, 0.3193, 0.3529, 0.4118, 0.4706, 0.9160, 0.0420, 0.1345,\n",
       "                      0.1597, 0.3697, 0.5798, 0.1513, 0.3697, 0.4706, 0.7479, 0.2353, 0.0924,\n",
       "                      0.6975, 0.1765, 0.0672, 0.0672, 0.2941, 0.1008, 0.3277, 0.3950, 0.5966,\n",
       "                      0.4118, 0.3697, 0.2017, 0.2521, 0.6050, 0.0336, 0.2353, 0.0000, 0.0756,\n",
       "                      0.1933, 0.1765, 0.5966], device='cuda:0', dtype=torch.float64))"
      ]
     },
     "execution_count": 27,
     "metadata": {},
     "output_type": "execute_result"
    }
   ],
   "source": [
    "d_ep[d_ep<u][i]"
   ]
  },
  {
   "cell_type": "code",
   "execution_count": 29,
   "id": "f089ff23-39ef-4177-ba9e-6bb68ae418bb",
   "metadata": {},
   "outputs": [],
   "source": [
    "from time import time"
   ]
  },
  {
   "cell_type": "code",
   "execution_count": 55,
   "id": "ef8b3d2f-4879-471a-a168-d8d6171fe361",
   "metadata": {},
   "outputs": [
    {
     "ename": "IndexError",
     "evalue": "only integers, slices (`:`), ellipsis (`...`), numpy.newaxis (`None`) and integer or boolean arrays are valid indices",
     "output_type": "error",
     "traceback": [
      "\u001b[0;31m---------------------------------------------------------------------------\u001b[0m",
      "\u001b[0;31mIndexError\u001b[0m                                Traceback (most recent call last)",
      "\u001b[0;32m<ipython-input-55-95d8ae9fe2ff>\u001b[0m in \u001b[0;36m<module>\u001b[0;34m\u001b[0m\n\u001b[1;32m      3\u001b[0m     \u001b[0mt1\u001b[0m \u001b[0;34m=\u001b[0m \u001b[0mtime\u001b[0m\u001b[0;34m(\u001b[0m\u001b[0;34m)\u001b[0m\u001b[0;34m\u001b[0m\u001b[0;34m\u001b[0m\u001b[0m\n\u001b[1;32m      4\u001b[0m     \u001b[0mi\u001b[0m \u001b[0;34m=\u001b[0m \u001b[0mnp\u001b[0m\u001b[0;34m.\u001b[0m\u001b[0mrandom\u001b[0m\u001b[0;34m.\u001b[0m\u001b[0mrandint\u001b[0m\u001b[0;34m(\u001b[0m\u001b[0msize\u001b[0m\u001b[0;34m=\u001b[0m\u001b[0mN\u001b[0m\u001b[0;34m,\u001b[0m\u001b[0mlow\u001b[0m\u001b[0;34m=\u001b[0m\u001b[0;36m0\u001b[0m\u001b[0;34m,\u001b[0m\u001b[0mhigh\u001b[0m \u001b[0;34m=\u001b[0m\u001b[0mnb_surv\u001b[0m\u001b[0;34m)\u001b[0m\u001b[0;34m\u001b[0m\u001b[0;34m\u001b[0m\u001b[0m\n\u001b[0;32m----> 5\u001b[0;31m     \u001b[0md_ep\u001b[0m\u001b[0;34m=\u001b[0m\u001b[0mnp\u001b[0m\u001b[0;34m.\u001b[0m\u001b[0mwhere\u001b[0m\u001b[0;34m(\u001b[0m\u001b[0md_ep\u001b[0m\u001b[0;34m<\u001b[0m\u001b[0mu\u001b[0m\u001b[0;34m,\u001b[0m\u001b[0md_ep\u001b[0m\u001b[0;34m,\u001b[0m\u001b[0md_ep\u001b[0m\u001b[0;34m[\u001b[0m\u001b[0md_ep\u001b[0m\u001b[0;34m<\u001b[0m\u001b[0mu\u001b[0m\u001b[0;34m]\u001b[0m\u001b[0;34m[\u001b[0m\u001b[0mi\u001b[0m\u001b[0;34m]\u001b[0m\u001b[0;34m)\u001b[0m\u001b[0;34m\u001b[0m\u001b[0;34m\u001b[0m\u001b[0m\n\u001b[0m\u001b[1;32m      6\u001b[0m     \u001b[0mtnp\u001b[0m\u001b[0;34m+=\u001b[0m \u001b[0mtime\u001b[0m\u001b[0;34m(\u001b[0m\u001b[0;34m)\u001b[0m\u001b[0;34m-\u001b[0m\u001b[0mt1\u001b[0m\u001b[0;34m\u001b[0m\u001b[0;34m\u001b[0m\u001b[0m\n",
      "\u001b[0;31mIndexError\u001b[0m: only integers, slices (`:`), ellipsis (`...`), numpy.newaxis (`None`) and integer or boolean arrays are valid indices"
     ]
    }
   ],
   "source": [
    "tnp=0\n",
    "for i in range(100):\n",
    "    t1 = time()\n",
    "    i = np.random.randint(size=N,low=0,high =nb_surv)\n",
    "    d_ep=np.where(d_ep<u,d_ep,d_ep[d_ep<u][i])\n",
    "    tnp+= time()-t1"
   ]
  },
  {
   "cell_type": "code",
   "execution_count": null,
   "id": "5ab0a832-09ec-4bd7-860b-698595670108",
   "metadata": {},
   "outputs": [],
   "source": [
    "tnp/100"
   ]
  },
  {
   "cell_type": "code",
   "execution_count": 121,
   "id": "4e2d5c8e-dbec-4fc4-ad5e-22e18819e335",
   "metadata": {},
   "outputs": [],
   "source": [
    "t=0\n",
    "for i in range(100):\n",
    "    t1 = time()\n",
    "    i = np.random.randint(size=N,low=0,high =nb_surv)\n",
    "    d_ep=ep.where(d_ep<u,d_ep,d_ep[d_ep<u][i])\n",
    "    t+= time()-t1"
   ]
  },
  {
   "cell_type": "code",
   "execution_count": 123,
   "id": "81dac47c-731f-469f-b89d-dbb9e05d6ef3",
   "metadata": {},
   "outputs": [
    {
     "data": {
      "text/plain": [
       "torch.Size([120])"
      ]
     },
     "execution_count": 123,
     "metadata": {},
     "output_type": "execute_result"
    }
   ],
   "source": [
    "d_ep.shape"
   ]
  },
  {
   "cell_type": "code",
   "execution_count": 133,
   "id": "eb742314-08b1-48ce-9fcf-452a795138b3",
   "metadata": {},
   "outputs": [],
   "source": [
    "d_ep = ep.astensor(torch.rand((120,1),device='cuda:0'))"
   ]
  },
  {
   "cell_type": "code",
   "execution_count": 134,
   "id": "17ef8668-c1bd-41dd-bd6e-6823d076e70a",
   "metadata": {},
   "outputs": [],
   "source": [
    "f_ep = ep.astensor(torch.randn((120,50),device='cuda:0'))"
   ]
  },
  {
   "cell_type": "code",
   "execution_count": 120,
   "id": "224d054b-35de-4174-bfdd-364936b8e271",
   "metadata": {},
   "outputs": [
    {
     "name": "stdout",
     "output_type": "stream",
     "text": [
      "average time: 27.294397 µs\n"
     ]
    }
   ],
   "source": [
    "print(f\"average time: {t*1000:f} µs\")"
   ]
  },
  {
   "cell_type": "code",
   "execution_count": 152,
   "id": "edd4257d-5960-4f60-b1bc-99e0f074b75b",
   "metadata": {},
   "outputs": [],
   "source": [
    "u = d_ep.uniform((120,1))"
   ]
  },
  {
   "cell_type": "code",
   "execution_count": 153,
   "id": "dbf60083-09c5-47eb-b7bb-7ea9cdf20579",
   "metadata": {},
   "outputs": [],
   "source": [
    "f2_ep=ep.where((d_ep<u),f_ep,f_ep[(d_ep<u).flatten()][i])"
   ]
  },
  {
   "cell_type": "code",
   "execution_count": 155,
   "id": "76bf476e-1a9c-4753-9061-4506357f4102",
   "metadata": {},
   "outputs": [
    {
     "data": {
      "text/plain": [
       "PyTorchTensor(tensor([[ 0.0000,  0.0000,  0.0000,  ...,  0.0000,  0.0000,  0.0000],\n",
       "                      [-1.8867, -0.9180, -1.1792,  ...,  0.0929,  0.0833, -3.0786],\n",
       "                      [ 0.0000,  0.0000,  0.0000,  ...,  0.0000,  0.0000,  0.0000],\n",
       "                      ...,\n",
       "                      [-0.6607,  1.2026,  0.5382,  ..., -3.4759, -0.0413,  1.4828],\n",
       "                      [ 0.0000,  0.0000,  0.0000,  ...,  0.0000,  0.0000,  0.0000],\n",
       "                      [ 0.5435, -1.3590, -2.1509,  ...,  0.9246, -1.9107,  0.2420]],\n",
       "                     device='cuda:0'))"
      ]
     },
     "execution_count": 155,
     "metadata": {},
     "output_type": "execute_result"
    }
   ],
   "source": [
    "f2_ep-f_ep"
   ]
  },
  {
   "cell_type": "code",
   "execution_count": 164,
   "id": "b2795f0c-e050-4bad-abe3-f67a7eae6f20",
   "metadata": {},
   "outputs": [
    {
     "data": {
      "text/plain": [
       "PyTorchTensor(tensor([[-0.3407, -1.0996,  1.9415, -0.4841,  1.0921],\n",
       "                      [ 0.8195, -0.3366,  1.6677,  1.4583,  0.3553],\n",
       "                      [-0.8957, -0.0770, -1.9346,  1.2314,  0.9491],\n",
       "                      [ 0.2915,  0.7618, -1.2630, -1.7128, -0.6072],\n",
       "                      [ 1.6501, -0.1412, -0.3212, -0.4961,  1.3346]], device='cuda:0'))"
      ]
     },
     "execution_count": 164,
     "metadata": {},
     "output_type": "execute_result"
    }
   ],
   "source": [
    "d_ep.normal(shape=(5,5))"
   ]
  },
  {
   "cell_type": "code",
   "execution_count": 166,
   "id": "c9aa8fda-1094-4700-842e-9704ab5f562b",
   "metadata": {},
   "outputs": [
    {
     "data": {
      "text/plain": [
       "PyTorchTensor(tensor([[1., 1., 1., 1., 1.],\n",
       "                      [1., 1., 1., 1., 1.],\n",
       "                      [1., 1., 1., 1., 1.],\n",
       "                      [1., 1., 1., 1., 1.],\n",
       "                      [1., 1., 1., 1., 1.]], device='cuda:0'))"
      ]
     },
     "execution_count": 166,
     "metadata": {},
     "output_type": "execute_result"
    }
   ],
   "source": [
    "d_ep.ones(shape=(5,5))"
   ]
  },
  {
   "cell_type": "code",
   "execution_count": 132,
   "id": "cea76d9d-ca0d-4b42-bb52-2e5bb35fd454",
   "metadata": {},
   "outputs": [
    {
     "data": {
      "text/plain": [
       "torch.Size([120, 50])"
      ]
     },
     "execution_count": 132,
     "metadata": {},
     "output_type": "execute_result"
    }
   ],
   "source": [
    "d_ep.shape"
   ]
  },
  {
   "cell_type": "code",
   "execution_count": 69,
   "id": "6ac4d9b5-efe8-4f23-9adc-0e55137ded88",
   "metadata": {},
   "outputs": [],
   "source": [
    "def ep_std(x, axis=0):\n",
    "    x = ep.astensor(x)\n",
    "    results = (x.square().mean(axis=axis)-x.mean(axis=axis).square()).sqrt()\n",
    "    \n",
    "    return results.raw"
   ]
  },
  {
   "cell_type": "code",
   "execution_count": 70,
   "id": "861831ee-aa7d-46d6-abfd-8b032ee9eb49",
   "metadata": {},
   "outputs": [
    {
     "data": {
      "text/plain": [
       "tensor(0.2923, device='cuda:0', dtype=torch.float64)"
      ]
     },
     "execution_count": 70,
     "metadata": {},
     "output_type": "execute_result"
    }
   ],
   "source": [
    "d_ep.raw.std()"
   ]
  },
  {
   "cell_type": "code",
   "execution_count": 71,
   "id": "0c830e83-f2dd-4288-b58a-a7a2c45ab019",
   "metadata": {},
   "outputs": [
    {
     "data": {
      "text/plain": [
       "tensor(0.2911, device='cuda:0', dtype=torch.float64)"
      ]
     },
     "execution_count": 71,
     "metadata": {},
     "output_type": "execute_result"
    }
   ],
   "source": [
    "ep_std(d_ep)"
   ]
  },
  {
   "cell_type": "code",
   "execution_count": 105,
   "id": "55a8cf66-01c3-40c4-a92c-1aea3f2592f1",
   "metadata": {},
   "outputs": [],
   "source": [
    "t=0\n",
    "for i in range(100):\n",
    "    t1 = time()\n",
    "    i = np.random.randint(size=N,low=0,high =nb_surv)\n",
    "    ep.where(d_ep<u ,d_ep,u)\n",
    "    t+= time()-t1"
   ]
  },
  {
   "cell_type": "code",
   "execution_count": 63,
   "id": "52e1f2e6-a77e-45b3-8d68-b5d795fefe32",
   "metadata": {},
   "outputs": [
    {
     "name": "stdout",
     "output_type": "stream",
     "text": [
      "18.7 µs ± 341 ns per loop (mean ± std. dev. of 7 runs, 10000 loops each)\n"
     ]
    }
   ],
   "source": [
    "%%timeit \n",
    "ep.where(d_ep<u ,d_ep,u)"
   ]
  },
  {
   "cell_type": "code",
   "execution_count": 34,
   "id": "8116bf6c-c33a-4066-808d-718901b64af3",
   "metadata": {},
   "outputs": [
    {
     "data": {
      "text/plain": [
       "PyTorchTensor(tensor([0.0000, 0.0084, 0.0168, 0.0252, 0.0336, 0.0420, 0.0504, 0.0588, 0.0672,\n",
       "                      0.0756, 0.0840, 0.0924, 0.1008, 0.1092, 0.1176, 0.1261, 0.1345, 0.1429,\n",
       "                      0.1513, 0.1597, 0.1681, 0.1765, 0.1849, 0.1933, 0.2017, 0.2101, 0.2185,\n",
       "                      0.2269, 0.2353, 0.2437, 0.2521, 0.2605, 0.2689, 0.2773, 0.2857, 0.2941,\n",
       "                      0.3025, 0.3109, 0.3193, 0.3277, 0.3361, 0.3445, 0.3529, 0.3613, 0.3697,\n",
       "                      0.3782, 0.3866, 0.3950, 0.4034, 0.4118, 0.4202, 0.4286, 0.4370, 0.4454,\n",
       "                      0.4538, 0.4622, 0.4706, 0.4790, 0.4874, 0.4958, 0.5042, 0.5126, 0.5210,\n",
       "                      0.5294, 0.5378, 0.5462, 0.5546, 0.5630, 0.5714, 0.5798, 0.5882, 0.5966,\n",
       "                      0.6050, 0.6134, 0.6218, 0.6303, 0.6387, 0.6471, 0.6555, 0.6639, 0.6723,\n",
       "                      0.6807, 0.6891, 0.6975, 0.7059, 0.7143, 0.7227, 0.7311, 0.7395, 0.7479,\n",
       "                      0.7563, 0.7647, 0.7731, 0.7815, 0.7899, 0.7983, 0.8067, 0.8151, 0.8235,\n",
       "                      0.8319, 0.8403, 0.8487, 0.8571, 0.8655, 0.8739, 0.8824, 0.8908, 0.8992,\n",
       "                      0.9076, 0.9160, 0.9244, 0.9328, 0.9412, 0.9496, 0.9580, 0.9664, 0.9748,\n",
       "                      0.9832, 0.9916, 1.0000], device='cuda:0', dtype=torch.float64))"
      ]
     },
     "execution_count": 34,
     "metadata": {},
     "output_type": "execute_result"
    }
   ],
   "source": [
    "d_ep.clip( min_=0, max_ = 1)"
   ]
  },
  {
   "cell_type": "code",
   "execution_count": 1,
   "id": "5332f9ef",
   "metadata": {},
   "outputs": [
    {
     "ename": "NameError",
     "evalue": "name 'c_ep' is not defined",
     "output_type": "error",
     "traceback": [
      "\u001b[0;31m---------------------------------------------------------------------------\u001b[0m",
      "\u001b[0;31mNameError\u001b[0m                                 Traceback (most recent call last)",
      "\u001b[0;32m<ipython-input-1-d06bfabc5937>\u001b[0m in \u001b[0;36m<module>\u001b[0;34m\u001b[0m\n\u001b[0;32m----> 1\u001b[0;31m \u001b[0mc_ep\u001b[0m\u001b[0;34m\u001b[0m\u001b[0;34m\u001b[0m\u001b[0m\n\u001b[0m",
      "\u001b[0;31mNameError\u001b[0m: name 'c_ep' is not defined"
     ]
    }
   ],
   "source": [
    "c_ep"
   ]
  },
  {
   "cell_type": "code",
   "execution_count": 39,
   "id": "fd7af338-c98c-4f0c-93c9-c30c452f3d52",
   "metadata": {},
   "outputs": [
    {
     "data": {
      "text/plain": [
       "PyTorchTensor(tensor([[0.0000, 0.0084, 0.0168, 0.0252, 0.0336, 0.0420, 0.0504, 0.0588, 0.0672,\n",
       "                       0.0756, 0.0840, 0.0924, 0.1008, 0.1092, 0.1176, 0.1261, 0.1345, 0.1429,\n",
       "                       0.1513, 0.1597, 0.1681, 0.1765, 0.1849, 0.1933, 0.2017, 0.2101, 0.2185,\n",
       "                       0.2269, 0.2353, 0.2437, 0.2521, 0.2605, 0.2689, 0.2773, 0.2857, 0.2941,\n",
       "                       0.3025, 0.3109, 0.3193, 0.3277],\n",
       "                      [0.3361, 0.3445, 0.3529, 0.3613, 0.3697, 0.3782, 0.3866, 0.3950, 0.4034,\n",
       "                       0.4118, 0.4202, 0.4286, 0.4370, 0.4454, 0.4538, 0.4622, 0.4706, 0.4790,\n",
       "                       0.4874, 0.4958, 0.5042, 0.5126, 0.5210, 0.5294, 0.5378, 0.5462, 0.5546,\n",
       "                       0.5630, 0.5714, 0.5798, 0.5882, 0.5966, 0.6050, 0.6134, 0.6218, 0.6303,\n",
       "                       0.6387, 0.6471, 0.6555, 0.6639],\n",
       "                      [0.6723, 0.6807, 0.6891, 0.6975, 0.7059, 0.7143, 0.7227, 0.7311, 0.7395,\n",
       "                       0.7479, 0.7563, 0.7647, 0.7731, 0.7815, 0.7899, 0.7983, 0.8067, 0.8151,\n",
       "                       0.8235, 0.8319, 0.8403, 0.8487, 0.8571, 0.8655, 0.8739, 0.8824, 0.8908,\n",
       "                       0.8992, 0.9076, 0.9160, 0.9244, 0.9328, 0.9412, 0.9496, 0.9580, 0.9664,\n",
       "                       0.9748, 0.9832, 0.9916, 1.0000]], device='cuda:0',\n",
       "                     dtype=torch.float64))"
      ]
     },
     "execution_count": 39,
     "metadata": {},
     "output_type": "execute_result"
    }
   ],
   "source": [
    "d_ep.reshape((3,40))"
   ]
  },
  {
   "cell_type": "code",
   "execution_count": 51,
   "id": "be83b6e3-fbae-4690-ae75-786f6e1c44a1",
   "metadata": {},
   "outputs": [
    {
     "data": {
      "text/plain": [
       "PyTorchTensor(tensor([1., 1., 1., 1., 1., 1., 1., 1., 1., 1., 1., 1., 1., 1., 1., 1., 1., 1.,\n",
       "                      1., 1., 1., 1., 1., 1., 0., 0., 0., 0., 0., 0., 0., 0., 0., 0., 0., 0.,\n",
       "                      0., 0., 0., 0., 0., 0., 0., 0., 0., 0., 0., 0., 0., 0., 0., 0., 0., 0.,\n",
       "                      0., 0., 0., 0., 0., 0., 0., 0., 0., 0., 0., 0., 0., 0., 0., 0., 0., 0.,\n",
       "                      0., 0., 0., 0., 0., 0., 0., 0., 0., 0., 0., 0., 0., 0., 0., 0., 0., 0.,\n",
       "                      0., 0., 0., 0., 0., 0., 0., 0., 0., 0., 0., 0., 0., 0., 0., 0., 0., 0.,\n",
       "                      0., 0., 0., 0., 0., 0., 0., 0., 0., 0., 0., 0.], device='cuda:0'))"
      ]
     },
     "execution_count": 51,
     "metadata": {},
     "output_type": "execute_result"
    }
   ],
   "source": [
    "(d_ep < 0.2).float32()"
   ]
  },
  {
   "cell_type": "code",
   "execution_count": 158,
   "id": "7aa71fe5",
   "metadata": {},
   "outputs": [],
   "source": [
    "e=torch.randn_like(d)\n",
    "\n",
    "e_ep = ep.astensor(e)"
   ]
  },
  {
   "cell_type": "code",
   "execution_count": 159,
   "id": "b62872ad",
   "metadata": {},
   "outputs": [],
   "source": [
    "def compute_sq_grad(x: torch.tensor):\n",
    "    assert not x.requires_grad #we want to test for initial input not requiring gradient \n",
    "    x.requires_grad = True\n",
    "    res = x**2\n",
    "    grad = torch.autograd.grad(outputs=res, inputs=x, grad_outputs=torch.ones_like(res),\n",
    "    retain_graph=False)[0]\n",
    "    #x.requires_grad = False\n",
    "    return grad.detach()"
   ]
  },
  {
   "cell_type": "code",
   "execution_count": 160,
   "id": "340a91ca",
   "metadata": {},
   "outputs": [],
   "source": [
    "e_ep.raw.requires_grad=True"
   ]
  },
  {
   "cell_type": "code",
   "execution_count": 165,
   "id": "e6eb4f14",
   "metadata": {},
   "outputs": [],
   "source": [
    "f = e.clone()"
   ]
  },
  {
   "cell_type": "code",
   "execution_count": 166,
   "id": "877fae60",
   "metadata": {},
   "outputs": [
    {
     "data": {
      "text/plain": [
       "True"
      ]
     },
     "execution_count": 166,
     "metadata": {},
     "output_type": "execute_result"
    }
   ],
   "source": [
    "e.equal(f)"
   ]
  },
  {
   "cell_type": "code",
   "execution_count": 181,
   "id": "eece95af",
   "metadata": {},
   "outputs": [],
   "source": [
    "ind=e_ep.ones_like()"
   ]
  },
  {
   "cell_type": "code",
   "execution_count": 180,
   "id": "3f468be2",
   "metadata": {},
   "outputs": [
    {
     "ename": "AttributeError",
     "evalue": "'PyTorchTensor' object has no attribute 'floor'",
     "output_type": "error",
     "traceback": [
      "\u001b[0;31m---------------------------------------------------------------------------\u001b[0m",
      "\u001b[0;31mAttributeError\u001b[0m                            Traceback (most recent call last)",
      "\u001b[0;32m<ipython-input-180-d3e6e781fd31>\u001b[0m in \u001b[0;36m<module>\u001b[0;34m\u001b[0m\n\u001b[0;32m----> 1\u001b[0;31m \u001b[0me_ep\u001b[0m\u001b[0;34m.\u001b[0m\u001b[0mfloor\u001b[0m\u001b[0;34m\u001b[0m\u001b[0;34m\u001b[0m\u001b[0m\n\u001b[0m",
      "\u001b[0;31mAttributeError\u001b[0m: 'PyTorchTensor' object has no attribute 'floor'"
     ]
    }
   ],
   "source": [
    "e_ep.floor"
   ]
  },
  {
   "cell_type": "code",
   "execution_count": 178,
   "id": "dcc168a3",
   "metadata": {},
   "outputs": [
    {
     "ename": "AttributeError",
     "evalue": "module 'eagerpy' has no attribute 'ceil'",
     "output_type": "error",
     "traceback": [
      "\u001b[0;31m---------------------------------------------------------------------------\u001b[0m",
      "\u001b[0;31mAttributeError\u001b[0m                            Traceback (most recent call last)",
      "\u001b[0;32m<ipython-input-178-4f41e73b0b36>\u001b[0m in \u001b[0;36m<module>\u001b[0;34m\u001b[0m\n\u001b[0;32m----> 1\u001b[0;31m \u001b[0mep\u001b[0m\u001b[0;34m.\u001b[0m\u001b[0mceil\u001b[0m\u001b[0;34m(\u001b[0m\u001b[0mind\u001b[0m\u001b[0;34m)\u001b[0m\u001b[0;34m\u001b[0m\u001b[0;34m\u001b[0m\u001b[0m\n\u001b[0m",
      "\u001b[0;31mAttributeError\u001b[0m: module 'eagerpy' has no attribute 'ceil'"
     ]
    }
   ],
   "source": [
    "ep.ceil(ind)"
   ]
  },
  {
   "cell_type": "code",
   "execution_count": 155,
   "id": "dabc10d5",
   "metadata": {},
   "outputs": [
    {
     "data": {
      "text/plain": [
       "PyTorchTensor(tensor([ 1.0819,  0.2597, -1.7648,  0.5608,  1.3473,  1.6124,  1.1941, -1.7548,\n",
       "                       0.2553, -0.5438, -2.1676, -0.4098,  0.6435,  1.9910,  0.9541, -1.0019,\n",
       "                      -0.1213,  0.2513, -0.1277, -0.8215,  0.3297,  1.1542, -0.4007, -0.9035,\n",
       "                      -1.1682,  0.1665, -0.2240, -1.3156, -0.8663,  0.1132, -0.3243, -0.5143,\n",
       "                       0.1235, -1.5022, -0.2871, -1.9673,  1.0297,  0.0803,  0.1619, -1.3258,\n",
       "                       1.3635, -0.1141, -0.3080, -0.1971, -0.3916,  1.3956, -1.5094, -0.3210,\n",
       "                       1.2583,  1.0279, -1.0603,  2.1433, -1.3232, -0.0424, -0.2106, -0.3939,\n",
       "                       1.3628, -0.4290, -0.1369, -0.2739,  0.4044,  1.5467,  0.9449, -1.3720,\n",
       "                      -1.4672,  1.2246,  1.0197,  1.1310,  1.1233, -0.2433,  0.8778,  1.5788,\n",
       "                       0.2811, -0.6111, -0.9866,  0.2236, -1.3030,  0.0414,  1.1849, -0.2494,\n",
       "                       1.3055, -1.8629, -1.2676,  0.8330, -0.6843,  0.0939,  0.4996,  1.6959,\n",
       "                      -0.6919, -0.5225,  2.5211, -0.9082, -0.6187, -0.8463, -0.4853, -0.2272,\n",
       "                      -0.1265, -0.5806,  1.7283,  1.1306,  0.0356, -0.3841, -0.8342, -1.2609,\n",
       "                      -0.3734,  0.0911, -2.1577,  0.3642,  1.4655, -1.8540,  0.5904,  1.0099,\n",
       "                       1.9628, -0.9160,  0.0990,  0.3023, -0.1757,  1.6181, -0.4770, -0.9814],\n",
       "                     device='cuda:0', dtype=torch.float64, requires_grad=True))"
      ]
     },
     "execution_count": 155,
     "metadata": {},
     "output_type": "execute_result"
    }
   ],
   "source": [
    "e_ep"
   ]
  },
  {
   "cell_type": "code",
   "execution_count": 141,
   "id": "217e4a83",
   "metadata": {},
   "outputs": [],
   "source": [
    "g=compute_sq_grad(x=e)"
   ]
  },
  {
   "cell_type": "code",
   "execution_count": 145,
   "id": "74a70c69",
   "metadata": {},
   "outputs": [
    {
     "ename": "RuntimeError",
     "evalue": "a view of a leaf Variable that requires grad is being used in an in-place operation.",
     "output_type": "error",
     "traceback": [
      "\u001b[0;31m---------------------------------------------------------------------------\u001b[0m",
      "\u001b[0;31mRuntimeError\u001b[0m                              Traceback (most recent call last)",
      "\u001b[0;32m<ipython-input-145-77a8f78f1971>\u001b[0m in \u001b[0;36m<module>\u001b[0;34m\u001b[0m\n\u001b[0;32m----> 1\u001b[0;31m \u001b[0me\u001b[0m\u001b[0;34m[\u001b[0m\u001b[0;36m0\u001b[0m\u001b[0;34m]\u001b[0m \u001b[0;34m=\u001b[0m \u001b[0;36m5\u001b[0m\u001b[0;34m\u001b[0m\u001b[0;34m\u001b[0m\u001b[0m\n\u001b[0m",
      "\u001b[0;31mRuntimeError\u001b[0m: a view of a leaf Variable that requires grad is being used in an in-place operation."
     ]
    }
   ],
   "source": []
  },
  {
   "cell_type": "code",
   "execution_count": 143,
   "id": "b1f6c15e",
   "metadata": {},
   "outputs": [
    {
     "data": {
      "text/plain": [
       "PyTorchTensor(tensor([ 1.2312,  0.1695, -0.8983,  0.1782,  1.6798,  1.6896,  0.3518,  0.8738,\n",
       "                      -1.6155, -1.6016, -1.4948,  1.7380,  1.8345,  0.1860,  1.6029, -0.0289,\n",
       "                       0.6380, -0.0059, -1.3925,  1.5315,  0.4388, -0.1655, -0.5584, -1.0508,\n",
       "                       2.4556, -0.6718, -1.4997,  1.7186, -0.8418,  1.0432,  0.2680, -0.6420,\n",
       "                      -0.8697,  0.9273,  0.7769,  0.4120,  0.1585, -0.5885, -1.2702,  1.6538,\n",
       "                       1.1382, -0.7824,  0.1622, -0.7601,  0.6863,  0.6473,  1.0128, -0.1914,\n",
       "                       1.6462, -1.3700, -0.2190, -0.9111,  1.7747, -0.4350, -0.4283,  0.5105,\n",
       "                       2.5045, -0.7367,  0.4467, -1.5073,  0.1036,  0.5972,  0.6576,  0.7441,\n",
       "                      -1.0090, -1.9063,  0.1779,  0.3659,  0.4848, -1.6315, -0.8850,  0.9584,\n",
       "                      -0.1510, -0.9703, -0.4519,  0.4676, -0.0166, -0.2613, -0.6893, -2.7925,\n",
       "                      -2.5076,  1.1186, -1.3542, -0.8868,  2.2036,  2.2937, -0.1252, -0.1137,\n",
       "                       1.0252, -1.9958, -1.7481,  0.0918, -1.1946,  0.2532,  1.8614, -0.4113,\n",
       "                      -0.4560, -0.2057,  0.8600,  1.1555,  1.7618,  0.3287, -1.4790,  0.3240,\n",
       "                      -0.2087,  0.4171,  1.3828,  1.1808,  0.8057,  0.0237,  1.8197,  0.1408,\n",
       "                      -0.9199, -0.8040, -0.1193,  1.3900,  0.1906, -2.0472,  0.2173,  0.2202],\n",
       "                     device='cuda:0', dtype=torch.float64, requires_grad=True))"
      ]
     },
     "execution_count": 143,
     "metadata": {},
     "output_type": "execute_result"
    }
   ],
   "source": [
    "e_ep"
   ]
  },
  {
   "cell_type": "code",
   "execution_count": 142,
   "id": "56fbdf22",
   "metadata": {},
   "outputs": [
    {
     "ename": "AssertionError",
     "evalue": "",
     "output_type": "error",
     "traceback": [
      "\u001b[0;31m---------------------------------------------------------------------------\u001b[0m",
      "\u001b[0;31mAssertionError\u001b[0m                            Traceback (most recent call last)",
      "\u001b[0;32m<ipython-input-142-a9cefeee2165>\u001b[0m in \u001b[0;36m<module>\u001b[0;34m\u001b[0m\n\u001b[0;32m----> 1\u001b[0;31m \u001b[0mg\u001b[0m\u001b[0;34m=\u001b[0m\u001b[0mcompute_sq_grad\u001b[0m\u001b[0;34m(\u001b[0m\u001b[0mx\u001b[0m\u001b[0;34m=\u001b[0m\u001b[0me_ep\u001b[0m\u001b[0;34m.\u001b[0m\u001b[0mraw\u001b[0m\u001b[0;34m)\u001b[0m\u001b[0;34m\u001b[0m\u001b[0;34m\u001b[0m\u001b[0m\n\u001b[0m",
      "\u001b[0;32m<ipython-input-139-a38a570994b9>\u001b[0m in \u001b[0;36mcompute_sq_grad\u001b[0;34m(x)\u001b[0m\n\u001b[1;32m      1\u001b[0m \u001b[0;32mdef\u001b[0m \u001b[0mcompute_sq_grad\u001b[0m\u001b[0;34m(\u001b[0m\u001b[0mx\u001b[0m\u001b[0;34m:\u001b[0m \u001b[0mtorch\u001b[0m\u001b[0;34m.\u001b[0m\u001b[0mtensor\u001b[0m\u001b[0;34m)\u001b[0m\u001b[0;34m:\u001b[0m\u001b[0;34m\u001b[0m\u001b[0;34m\u001b[0m\u001b[0m\n\u001b[0;32m----> 2\u001b[0;31m     \u001b[0;32massert\u001b[0m \u001b[0;32mnot\u001b[0m \u001b[0mx\u001b[0m\u001b[0;34m.\u001b[0m\u001b[0mrequires_grad\u001b[0m \u001b[0;31m#we want to test for initial input not requiring gradient\u001b[0m\u001b[0;34m\u001b[0m\u001b[0;34m\u001b[0m\u001b[0m\n\u001b[0m\u001b[1;32m      3\u001b[0m     \u001b[0mx\u001b[0m\u001b[0;34m.\u001b[0m\u001b[0mrequires_grad\u001b[0m \u001b[0;34m=\u001b[0m \u001b[0;32mTrue\u001b[0m\u001b[0;34m\u001b[0m\u001b[0;34m\u001b[0m\u001b[0m\n\u001b[1;32m      4\u001b[0m     \u001b[0mres\u001b[0m \u001b[0;34m=\u001b[0m \u001b[0mx\u001b[0m\u001b[0;34m**\u001b[0m\u001b[0;36m2\u001b[0m\u001b[0;34m\u001b[0m\u001b[0;34m\u001b[0m\u001b[0m\n\u001b[1;32m      5\u001b[0m     grad = torch.autograd.grad(outputs=res, inputs=x, grad_outputs=torch.ones_like(res),\n",
      "\u001b[0;31mAssertionError\u001b[0m: "
     ]
    }
   ],
   "source": [
    "g=compute_sq_grad(x=e_ep.raw)"
   ]
  },
  {
   "cell_type": "code",
   "execution_count": 138,
   "id": "f53f7826",
   "metadata": {},
   "outputs": [
    {
     "data": {
      "text/plain": [
       "tensor([-1.3489, -1.3631,  0.6422, -0.1307, -1.0756,  1.9627,  0.6676,  0.2073,\n",
       "         0.8604,  0.3053, -0.7378,  0.3200,  0.2842, -0.1582,  0.9322,  2.4419,\n",
       "        -1.9802,  0.3433, -0.2595,  1.0846,  1.7241,  0.6261, -0.0703, -0.8990,\n",
       "        -1.2755, -0.5159,  0.6341, -0.6410, -1.7752, -0.6655,  0.1106,  0.2640,\n",
       "        -0.5958, -0.1522, -1.2070, -0.8020,  0.6059, -1.1941, -0.1176,  0.0167,\n",
       "         0.0075,  0.9884, -0.2053, -1.1762, -0.6215, -0.4841, -1.8541,  0.2932,\n",
       "         0.0902,  0.9687, -0.3917,  0.8074, -0.2666, -1.0677, -0.8349, -2.0336,\n",
       "        -0.8890, -0.7080, -1.3799,  0.1922, -1.6373, -0.0234,  1.3162,  0.9514,\n",
       "        -1.6055,  1.2814,  0.8413,  1.1160, -0.7684,  0.2275,  0.4167, -0.5777,\n",
       "         0.6542,  0.0240, -0.5758, -0.1531, -0.2327, -1.6686, -0.4316,  1.8118,\n",
       "         1.1183,  0.6943,  0.7590, -1.0376,  0.5379,  0.2448, -0.0034,  0.5321,\n",
       "         2.1102, -1.2543, -0.0804,  0.1323, -0.8460, -0.0882, -1.1638,  0.2366,\n",
       "         1.2366,  1.0644,  0.0115,  0.6193,  0.1885,  0.0540,  0.1800,  0.4412,\n",
       "         0.4198, -0.7503,  1.0904, -0.2955,  0.9345,  1.4690,  1.4409, -1.2268,\n",
       "        -0.2430,  0.8535, -2.1350, -0.5694, -0.4265,  0.5475,  0.5820,  1.4290],\n",
       "       device='cuda:0', dtype=torch.float64)"
      ]
     },
     "execution_count": 138,
     "metadata": {},
     "output_type": "execute_result"
    }
   ],
   "source": [
    "e"
   ]
  },
  {
   "cell_type": "code",
   "execution_count": 91,
   "id": "5b5fcd6a",
   "metadata": {},
   "outputs": [
    {
     "data": {
      "text/plain": [
       "torch.Size([120])"
      ]
     },
     "execution_count": 91,
     "metadata": {},
     "output_type": "execute_result"
    }
   ],
   "source": [
    "g[0].shape"
   ]
  },
  {
   "cell_type": "code",
   "execution_count": 83,
   "id": "f29f67b4",
   "metadata": {},
   "outputs": [
    {
     "data": {
      "text/plain": [
       "tensor([-0.0488,  0.7114, -0.7577,  0.1290, -0.8854,  0.8348,  0.4633, -0.8216,\n",
       "         0.2961,  0.9997, -0.5515, -0.9558, -0.1063, -1.1210,  0.6158,  0.8348,\n",
       "         1.9324, -1.5247, -0.4949,  0.7332,  0.2920, -0.5769,  0.5626, -0.0895,\n",
       "         0.3308,  0.5838,  0.5531, -1.2524, -0.4180, -0.8872,  0.9697, -0.7520,\n",
       "        -0.1295,  0.3264,  1.7796, -1.1628, -0.4755, -0.0876, -1.4087, -0.4337,\n",
       "         0.5603, -1.4265,  0.2087,  1.1545, -0.5813, -0.4474, -0.8175,  0.9763,\n",
       "        -0.2742,  1.5791,  1.1311, -0.1408,  0.1007, -1.2492, -1.8886,  0.6599,\n",
       "         1.2186, -1.0303,  0.3601,  1.2433, -0.0206, -0.7702, -0.8579, -0.3952,\n",
       "        -0.5229, -1.1128,  2.2839,  0.7355, -0.5433, -0.7472, -0.7639, -0.4492,\n",
       "         0.2009,  0.3258,  0.0632, -0.4480,  0.4441, -0.3685, -1.6521, -1.0951,\n",
       "        -0.4494,  1.0680, -0.6211, -0.0350, -1.2742, -0.2972, -0.3117, -1.2402,\n",
       "         1.1755, -2.0239,  1.3237,  0.9314, -0.3761, -0.3580, -1.1868,  1.3047,\n",
       "         0.9017,  0.1090,  0.9649, -0.6993,  1.6290, -0.6348, -2.9328,  1.4343,\n",
       "         0.1947,  1.4412,  0.5618,  0.4273,  0.4250, -1.5375,  1.9840, -1.5715,\n",
       "         1.4599, -1.3844, -0.7908,  0.7255, -1.2550, -0.1973,  1.5015, -0.4660],\n",
       "       device='cuda:0', dtype=torch.float64, requires_grad=True)"
      ]
     },
     "execution_count": 83,
     "metadata": {},
     "output_type": "execute_result"
    }
   ],
   "source": [
    "e"
   ]
  },
  {
   "cell_type": "code",
   "execution_count": 79,
   "id": "6db28b51",
   "metadata": {},
   "outputs": [
    {
     "data": {
      "text/plain": [
       "PyTorchTensor(tensor([[0.0000, 0.0000],\n",
       "                      [0.0084, 0.0084],\n",
       "                      [0.0168, 0.0168],\n",
       "                      [0.0252, 0.0252],\n",
       "                      [0.0336, 0.0336],\n",
       "                      [0.0420, 0.0420],\n",
       "                      [0.0504, 0.0504],\n",
       "                      [0.0588, 0.0588],\n",
       "                      [0.0672, 0.0672],\n",
       "                      [0.0756, 0.0756],\n",
       "                      [0.0840, 0.0840],\n",
       "                      [0.0924, 0.0924],\n",
       "                      [0.1008, 0.1008],\n",
       "                      [0.1092, 0.1092],\n",
       "                      [0.1176, 0.1176],\n",
       "                      [0.1261, 0.1261],\n",
       "                      [0.1345, 0.1345],\n",
       "                      [0.1429, 0.1429],\n",
       "                      [0.1513, 0.1513],\n",
       "                      [0.1597, 0.1597],\n",
       "                      [0.1681, 0.1681],\n",
       "                      [0.1765, 0.1765],\n",
       "                      [0.1849, 0.1849],\n",
       "                      [0.1933, 0.1933],\n",
       "                      [0.2017, 0.2017],\n",
       "                      [0.2101, 0.2101],\n",
       "                      [0.2185, 0.2185],\n",
       "                      [0.2269, 0.2269],\n",
       "                      [0.2353, 0.2353],\n",
       "                      [0.2437, 0.2437],\n",
       "                      [0.2521, 0.2521],\n",
       "                      [0.2605, 0.2605],\n",
       "                      [0.2689, 0.2689],\n",
       "                      [0.2773, 0.2773],\n",
       "                      [0.2857, 0.2857],\n",
       "                      [0.2941, 0.2941],\n",
       "                      [0.3025, 0.3025],\n",
       "                      [0.3109, 0.3109],\n",
       "                      [0.3193, 0.3193],\n",
       "                      [0.3277, 0.3277],\n",
       "                      [0.3361, 0.3361],\n",
       "                      [0.3445, 0.3445],\n",
       "                      [0.3529, 0.3529],\n",
       "                      [0.3613, 0.3613],\n",
       "                      [0.3697, 0.3697],\n",
       "                      [0.3782, 0.3782],\n",
       "                      [0.3866, 0.3866],\n",
       "                      [0.3950, 0.3950],\n",
       "                      [0.4034, 0.4034],\n",
       "                      [0.4118, 0.4118],\n",
       "                      [0.4202, 0.4202],\n",
       "                      [0.4286, 0.4286],\n",
       "                      [0.4370, 0.4370],\n",
       "                      [0.4454, 0.4454],\n",
       "                      [0.4538, 0.4538],\n",
       "                      [0.4622, 0.4622],\n",
       "                      [0.4706, 0.4706],\n",
       "                      [0.4790, 0.4790],\n",
       "                      [0.4874, 0.4874],\n",
       "                      [0.4958, 0.4958],\n",
       "                      [0.5042, 0.5042],\n",
       "                      [0.5126, 0.5126],\n",
       "                      [0.5210, 0.5210],\n",
       "                      [0.5294, 0.5294],\n",
       "                      [0.5378, 0.5378],\n",
       "                      [0.5462, 0.5462],\n",
       "                      [0.5546, 0.5546],\n",
       "                      [0.5630, 0.5630],\n",
       "                      [0.5714, 0.5714],\n",
       "                      [0.5798, 0.5798],\n",
       "                      [0.5882, 0.5882],\n",
       "                      [0.5966, 0.5966],\n",
       "                      [0.6050, 0.6050],\n",
       "                      [0.6134, 0.6134],\n",
       "                      [0.6218, 0.6218],\n",
       "                      [0.6303, 0.6303],\n",
       "                      [0.6387, 0.6387],\n",
       "                      [0.6471, 0.6471],\n",
       "                      [0.6555, 0.6555],\n",
       "                      [0.6639, 0.6639],\n",
       "                      [0.6723, 0.6723],\n",
       "                      [0.6807, 0.6807],\n",
       "                      [0.6891, 0.6891],\n",
       "                      [0.6975, 0.6975],\n",
       "                      [0.7059, 0.7059],\n",
       "                      [0.7143, 0.7143],\n",
       "                      [0.7227, 0.7227],\n",
       "                      [0.7311, 0.7311],\n",
       "                      [0.7395, 0.7395],\n",
       "                      [0.7479, 0.7479],\n",
       "                      [0.7563, 0.7563],\n",
       "                      [0.7647, 0.7647],\n",
       "                      [0.7731, 0.7731],\n",
       "                      [0.7815, 0.7815],\n",
       "                      [0.7899, 0.7899],\n",
       "                      [0.7983, 0.7983],\n",
       "                      [0.8067, 0.8067],\n",
       "                      [0.8151, 0.8151],\n",
       "                      [0.8235, 0.8235],\n",
       "                      [0.8319, 0.8319],\n",
       "                      [0.8403, 0.8403],\n",
       "                      [0.8487, 0.8487],\n",
       "                      [0.8571, 0.8571],\n",
       "                      [0.8655, 0.8655],\n",
       "                      [0.8739, 0.8739],\n",
       "                      [0.8824, 0.8824],\n",
       "                      [0.8908, 0.8908],\n",
       "                      [0.8992, 0.8992],\n",
       "                      [0.9076, 0.9076],\n",
       "                      [0.9160, 0.9160],\n",
       "                      [0.9244, 0.9244],\n",
       "                      [0.9328, 0.9328],\n",
       "                      [0.9412, 0.9412],\n",
       "                      [0.9496, 0.9496],\n",
       "                      [0.9580, 0.9580],\n",
       "                      [0.9664, 0.9664],\n",
       "                      [0.9748, 0.9748],\n",
       "                      [0.9832, 0.9832],\n",
       "                      [0.9916, 0.9916],\n",
       "                      [1.0000, 1.0000]], device='cuda:0', dtype=torch.float64))"
      ]
     },
     "execution_count": 79,
     "metadata": {},
     "output_type": "execute_result"
    }
   ],
   "source": [
    "ep.concatenate([d_ep.reshape((-1,1)),d_ep.reshape((-1,1))],axis=1)"
   ]
  },
  {
   "cell_type": "markdown",
   "id": "6aabcfae",
   "metadata": {},
   "source": [
    "## Testing neural networks application"
   ]
  },
  {
   "cell_type": "code",
   "execution_count": 17,
   "id": "ccfac947",
   "metadata": {},
   "outputs": [],
   "source": [
    "import timm\n",
    "from torchvision import transforms"
   ]
  },
  {
   "cell_type": "code",
   "execution_count": 18,
   "id": "85776608",
   "metadata": {},
   "outputs": [],
   "source": [
    "model = timm.create_model('mobilenetv2_035')\n",
    "mean = model.default_cfg[\"mean\"]\n",
    "std = model.default_cfg[\"std\"]\n",
    "normalizer = transforms.Normalize(mean=mean, std=std)\n",
    "\n",
    "model = torch.nn.Sequential(normalizer, model).cuda(0).eval()"
   ]
  },
  {
   "cell_type": "code",
   "execution_count": 81,
   "id": "f4555274",
   "metadata": {},
   "outputs": [
    {
     "name": "stdout",
     "output_type": "stream",
     "text": [
      "4.52 ms ± 140 µs per loop (mean ± std. dev. of 7 runs, 100 loops each)\n"
     ]
    }
   ],
   "source": [
    "%%timeit\n",
    "dummy_pyt = torch.rand((1,3,224,224),device='cuda')\n",
    "logits_pyt = model(dummy_pyt).detach()"
   ]
  },
  {
   "cell_type": "code",
   "execution_count": 80,
   "id": "54fc35ae",
   "metadata": {},
   "outputs": [
    {
     "name": "stdout",
     "output_type": "stream",
     "text": [
      "4.7 ms ± 125 µs per loop (mean ± std. dev. of 7 runs, 100 loops each)\n"
     ]
    }
   ],
   "source": [
    "%%timeit\n",
    "dummy_pyt = torch.rand((1,3,224,224),device='cuda')\n",
    "dummy_ep = ep.astensor(dummy_pyt)\n",
    "logits_ep = ep.astensor(model(dummy_ep.raw).detach())"
   ]
  },
  {
   "cell_type": "markdown",
   "id": "3804f907",
   "metadata": {},
   "source": [
    "### **/!\\ Virtually** no overhead"
   ]
  }
 ],
 "metadata": {
  "kernelspec": {
   "display_name": "Python 3.7.9 ('deep_learning_env')",
   "language": "python",
   "name": "python3"
  },
  "language_info": {
   "codemirror_mode": {
    "name": "ipython",
    "version": 3
   },
   "file_extension": ".py",
   "mimetype": "text/x-python",
   "name": "python",
   "nbconvert_exporter": "python",
   "pygments_lexer": "ipython3",
   "version": "3.7.9"
  },
  "vscode": {
   "interpreter": {
    "hash": "bc988435c4b631969eb5fce6943044c00d5bb2dcddaf96f4811676fc0db79e94"
   }
  }
 },
 "nbformat": 4,
 "nbformat_minor": 5
}
